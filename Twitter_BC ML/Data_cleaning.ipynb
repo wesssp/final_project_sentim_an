{
 "cells": [
  {
   "cell_type": "code",
   "execution_count": 1,
   "id": "fde64581",
   "metadata": {},
   "outputs": [],
   "source": [
    "import pandas as pd\n",
    "import re\n",
    "import seaborn as sns"
   ]
  },
  {
   "cell_type": "markdown",
   "id": "ffb8117c",
   "metadata": {},
   "source": [
    "tw_data = pd.read_csv(\"data/doge_tweets_1.1.21-4.30.21.csv\")\n",
    "tw_data.info()"
   ]
  },
  {
   "cell_type": "markdown",
   "id": "9ef4a25d",
   "metadata": {},
   "source": [
    "flt_data = tw_data.iloc[:,[4,5,11,12, 13, 16,17,18, 19]]\n",
    "flt_data.head()"
   ]
  },
  {
   "cell_type": "markdown",
   "id": "b64f1f49",
   "metadata": {},
   "source": [
    "flt_data['date'] = pd.to_datetime(flt_data['date'], errors='coerce')\n",
    "flt_data['time'] = pd.to_datetime(flt_data['time'], errors='coerce')\n",
    "flt_data.info()"
   ]
  },
  {
   "cell_type": "markdown",
   "id": "857b8b7a",
   "metadata": {},
   "source": [
    "flt_data.isna().sum()"
   ]
  },
  {
   "cell_type": "code",
   "execution_count": null,
   "id": "5fdbf0aa",
   "metadata": {},
   "outputs": [],
   "source": []
  },
  {
   "cell_type": "markdown",
   "id": "d8758d87",
   "metadata": {},
   "source": [
    "drop_col = flt_data[flt_data[\"date\"].notna()]\n",
    "drop_col.info()"
   ]
  },
  {
   "cell_type": "markdown",
   "id": "d253ae43",
   "metadata": {},
   "source": [
    "drop_col[drop_col[\"language\"] == \"en\"].to_csv(\"cut_data.csv\")"
   ]
  },
  {
   "cell_type": "code",
   "execution_count": 3,
   "id": "9d8a2638",
   "metadata": {},
   "outputs": [
    {
     "name": "stdout",
     "output_type": "stream",
     "text": [
      "<class 'pandas.core.frame.DataFrame'>\n",
      "RangeIndex: 2875059 entries, 0 to 2875058\n",
      "Data columns (total 10 columns):\n",
      " #   Column          Dtype  \n",
      "---  ------          -----  \n",
      " 0   Unnamed: 0      int64  \n",
      " 1   date            object \n",
      " 2   time            object \n",
      " 3   tweet           object \n",
      " 4   language        object \n",
      " 5   mentions        object \n",
      " 6   replies_count   float64\n",
      " 7   retweets_count  float64\n",
      " 8   likes_count     float64\n",
      " 9   hashtags        object \n",
      "dtypes: float64(3), int64(1), object(6)\n",
      "memory usage: 219.3+ MB\n"
     ]
    }
   ],
   "source": [
    "tw_data_clean = pd.read_csv(\"cut_data.csv\")\n",
    "tw_data_clean.info()"
   ]
  },
  {
   "cell_type": "code",
   "execution_count": 4,
   "id": "b3c2b769",
   "metadata": {},
   "outputs": [
    {
     "data": {
      "text/plain": [
       "0.0      2143148\n",
       "1.0       513241\n",
       "2.0       111306\n",
       "3.0        37526\n",
       "4.0        18063\n",
       "          ...   \n",
       "440.0          1\n",
       "758.0          1\n",
       "636.0          1\n",
       "952.0          1\n",
       "427.0          1\n",
       "Name: replies_count, Length: 749, dtype: int64"
      ]
     },
     "execution_count": 4,
     "metadata": {},
     "output_type": "execute_result"
    }
   ],
   "source": [
    "tw_data_clean['replies_count'].value_counts()"
   ]
  },
  {
   "cell_type": "code",
   "execution_count": 5,
   "id": "9fd6496f",
   "metadata": {},
   "outputs": [
    {
     "data": {
      "text/plain": [
       "0.0       2272973\n",
       "1.0        314399\n",
       "2.0        105437\n",
       "3.0         50069\n",
       "4.0         29096\n",
       "           ...   \n",
       "1129.0          1\n",
       "2428.0          1\n",
       "1712.0          1\n",
       "725.0           1\n",
       "906.0           1\n",
       "Name: retweets_count, Length: 1327, dtype: int64"
      ]
     },
     "execution_count": 5,
     "metadata": {},
     "output_type": "execute_result"
    }
   ],
   "source": [
    "tw_data_clean['retweets_count'].value_counts()"
   ]
  },
  {
   "cell_type": "code",
   "execution_count": 6,
   "id": "af4c79b0",
   "metadata": {},
   "outputs": [
    {
     "data": {
      "text/plain": [
       "0.0        1228204\n",
       "1.0         622591\n",
       "2.0         310996\n",
       "3.0         177784\n",
       "4.0         113771\n",
       "            ...   \n",
       "11125.0          1\n",
       "3861.0           1\n",
       "1078.0           1\n",
       "4205.0           1\n",
       "12173.0          1\n",
       "Name: likes_count, Length: 2822, dtype: int64"
      ]
     },
     "execution_count": 6,
     "metadata": {},
     "output_type": "execute_result"
    }
   ],
   "source": [
    "tw_data_clean['likes_count'].value_counts()"
   ]
  },
  {
   "cell_type": "code",
   "execution_count": 7,
   "id": "a9594bff",
   "metadata": {},
   "outputs": [],
   "source": [
    "tw_data_clean = tw_data_clean[tw_data_clean['likes_count']>0]"
   ]
  },
  {
   "cell_type": "code",
   "execution_count": 8,
   "id": "f69d5b1e",
   "metadata": {},
   "outputs": [],
   "source": [
    "tw_data_clean = tw_data_clean[tw_data_clean['retweets_count']>0]"
   ]
  },
  {
   "cell_type": "code",
   "execution_count": 9,
   "id": "8fbb2ec0",
   "metadata": {},
   "outputs": [
    {
     "name": "stdout",
     "output_type": "stream",
     "text": [
      "<class 'pandas.core.frame.DataFrame'>\n",
      "Int64Index: 567526 entries, 3 to 2875058\n",
      "Data columns (total 10 columns):\n",
      " #   Column          Non-Null Count   Dtype  \n",
      "---  ------          --------------   -----  \n",
      " 0   Unnamed: 0      567526 non-null  int64  \n",
      " 1   date            567526 non-null  object \n",
      " 2   time            567526 non-null  object \n",
      " 3   tweet           567526 non-null  object \n",
      " 4   language        567526 non-null  object \n",
      " 5   mentions        567526 non-null  object \n",
      " 6   replies_count   567526 non-null  float64\n",
      " 7   retweets_count  567526 non-null  float64\n",
      " 8   likes_count     567526 non-null  float64\n",
      " 9   hashtags        567526 non-null  object \n",
      "dtypes: float64(3), int64(1), object(6)\n",
      "memory usage: 47.6+ MB\n"
     ]
    }
   ],
   "source": [
    "tw_data_clean.info()"
   ]
  },
  {
   "cell_type": "code",
   "execution_count": 10,
   "id": "290090b8",
   "metadata": {},
   "outputs": [],
   "source": [
    "tw_data_clean = tw_data_clean.iloc[:, 1:]"
   ]
  },
  {
   "cell_type": "code",
   "execution_count": 11,
   "id": "d8101440",
   "metadata": {},
   "outputs": [],
   "source": [
    "tw_data_clean.to_csv(\"tw_data_short.csv\", index=False)"
   ]
  },
  {
   "cell_type": "code",
   "execution_count": 12,
   "id": "14fb4d43",
   "metadata": {},
   "outputs": [
    {
     "name": "stdout",
     "output_type": "stream",
     "text": [
      "<class 'pandas.core.frame.DataFrame'>\n",
      "Int64Index: 567526 entries, 3 to 2875058\n",
      "Data columns (total 9 columns):\n",
      " #   Column          Non-Null Count   Dtype  \n",
      "---  ------          --------------   -----  \n",
      " 0   date            567526 non-null  object \n",
      " 1   time            567526 non-null  object \n",
      " 2   tweet           567526 non-null  object \n",
      " 3   language        567526 non-null  object \n",
      " 4   mentions        567526 non-null  object \n",
      " 5   replies_count   567526 non-null  float64\n",
      " 6   retweets_count  567526 non-null  float64\n",
      " 7   likes_count     567526 non-null  float64\n",
      " 8   hashtags        567526 non-null  object \n",
      "dtypes: float64(3), object(6)\n",
      "memory usage: 43.3+ MB\n"
     ]
    }
   ],
   "source": [
    "tw_data_clean.info()"
   ]
  }
 ],
 "metadata": {
  "kernelspec": {
   "display_name": "Python 3 (ipykernel)",
   "language": "python",
   "name": "python3"
  },
  "language_info": {
   "codemirror_mode": {
    "name": "ipython",
    "version": 3
   },
   "file_extension": ".py",
   "mimetype": "text/x-python",
   "name": "python",
   "nbconvert_exporter": "python",
   "pygments_lexer": "ipython3",
   "version": "3.9.12"
  }
 },
 "nbformat": 4,
 "nbformat_minor": 5
}
