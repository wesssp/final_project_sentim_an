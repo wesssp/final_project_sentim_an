{
 "cells": [
  {
   "cell_type": "markdown",
   "id": "15c740cf",
   "metadata": {},
   "source": [
    "!pip install tensorflow\n",
    "!pip install keras"
   ]
  },
  {
   "cell_type": "code",
   "execution_count": 1,
   "id": "50d234a3",
   "metadata": {},
   "outputs": [
    {
     "name": "stderr",
     "output_type": "stream",
     "text": [
      "[nltk_data] Downloading package stopwords to\n",
      "[nltk_data]     /Users/kirilltiufanov/nltk_data...\n",
      "[nltk_data]   Package stopwords is already up-to-date!\n"
     ]
    }
   ],
   "source": [
    "import numpy as np\n",
    "import pandas as pd\n",
    "import matplotlib.pyplot as plt\n",
    "import seaborn as sns\n",
    "import nltk\n",
    "nltk.download('stopwords')\n",
    "import re\n",
    "from imblearn.under_sampling import RandomUnderSampler\n",
    "from sklearn.model_selection import train_test_split\n",
    "from sklearn.ensemble import RandomForestClassifier\n",
    "from sklearn.naive_bayes import CategoricalNB\n",
    "from matplotlib.pyplot import figure"
   ]
  },
  {
   "cell_type": "code",
   "execution_count": 2,
   "id": "3dee0171",
   "metadata": {},
   "outputs": [],
   "source": [
    "all_data = pd.read_csv(\"data/all_data_for_lstm.csv\")"
   ]
  },
  {
   "cell_type": "code",
   "execution_count": 3,
   "id": "0df56114",
   "metadata": {},
   "outputs": [
    {
     "name": "stdout",
     "output_type": "stream",
     "text": [
      "<class 'pandas.core.frame.DataFrame'>\n",
      "RangeIndex: 2791 entries, 0 to 2790\n",
      "Data columns (total 14 columns):\n",
      " #   Column          Non-Null Count  Dtype  \n",
      "---  ------          --------------  -----  \n",
      " 0   time            2791 non-null   object \n",
      " 1   time.1          2791 non-null   int64  \n",
      " 2   replies_count   2791 non-null   float64\n",
      " 3   retweets_count  2791 non-null   float64\n",
      " 4   top_tw          2791 non-null   int64  \n",
      " 5   likes_count     2791 non-null   float64\n",
      " 6   subj            2791 non-null   float64\n",
      " 7   polar           2791 non-null   float64\n",
      " 8   top_score       2791 non-null   float64\n",
      " 9   open            2791 non-null   float64\n",
      " 10  high            2791 non-null   float64\n",
      " 11  low             2791 non-null   float64\n",
      " 12  close           2791 non-null   float64\n",
      " 13  Volume          2791 non-null   float64\n",
      "dtypes: float64(11), int64(2), object(1)\n",
      "memory usage: 305.4+ KB\n"
     ]
    }
   ],
   "source": [
    "all_data.info()"
   ]
  },
  {
   "cell_type": "code",
   "execution_count": 4,
   "id": "51c3583e",
   "metadata": {},
   "outputs": [
    {
     "name": "stdout",
     "output_type": "stream",
     "text": [
      "<class 'pandas.core.frame.DataFrame'>\n",
      "RangeIndex: 2791 entries, 0 to 2790\n",
      "Data columns (total 14 columns):\n",
      " #   Column          Non-Null Count  Dtype  \n",
      "---  ------          --------------  -----  \n",
      " 0   time            2791 non-null   object \n",
      " 1   time.1          2791 non-null   object \n",
      " 2   replies_count   2791 non-null   float64\n",
      " 3   retweets_count  2791 non-null   float64\n",
      " 4   top_tw          2791 non-null   int64  \n",
      " 5   likes_count     2791 non-null   float64\n",
      " 6   subj            2791 non-null   float64\n",
      " 7   polar           2791 non-null   float64\n",
      " 8   top_score       2791 non-null   float64\n",
      " 9   open            2791 non-null   float64\n",
      " 10  high            2791 non-null   float64\n",
      " 11  low             2791 non-null   float64\n",
      " 12  close           2791 non-null   float64\n",
      " 13  Volume          2791 non-null   float64\n",
      "dtypes: float64(11), int64(1), object(2)\n",
      "memory usage: 305.4+ KB\n"
     ]
    }
   ],
   "source": [
    "all_data[\"time\"] = all_data[\"time\"].astype(str)\n",
    "all_data[\"time.1\"] = all_data[\"time.1\"].astype(str)\n",
    "all_data.info()"
   ]
  },
  {
   "cell_type": "code",
   "execution_count": 5,
   "id": "943890ef",
   "metadata": {},
   "outputs": [],
   "source": [
    "all_data[\"index\"] = all_data[\"time\"] + all_data[\"time.1\"]"
   ]
  },
  {
   "cell_type": "code",
   "execution_count": 6,
   "id": "e14da05b",
   "metadata": {},
   "outputs": [],
   "source": [
    "all_data = all_data.set_index(\"index\")"
   ]
  },
  {
   "cell_type": "code",
   "execution_count": 7,
   "id": "7ed03141",
   "metadata": {
    "scrolled": true
   },
   "outputs": [
    {
     "data": {
      "text/html": [
       "<div>\n",
       "<style scoped>\n",
       "    .dataframe tbody tr th:only-of-type {\n",
       "        vertical-align: middle;\n",
       "    }\n",
       "\n",
       "    .dataframe tbody tr th {\n",
       "        vertical-align: top;\n",
       "    }\n",
       "\n",
       "    .dataframe thead th {\n",
       "        text-align: right;\n",
       "    }\n",
       "</style>\n",
       "<table border=\"1\" class=\"dataframe\">\n",
       "  <thead>\n",
       "    <tr style=\"text-align: right;\">\n",
       "      <th></th>\n",
       "      <th>retweets_count</th>\n",
       "      <th>top_tw</th>\n",
       "      <th>likes_count</th>\n",
       "      <th>subj</th>\n",
       "      <th>polar</th>\n",
       "      <th>top_score</th>\n",
       "      <th>open</th>\n",
       "      <th>high</th>\n",
       "      <th>low</th>\n",
       "      <th>close</th>\n",
       "      <th>Volume</th>\n",
       "    </tr>\n",
       "    <tr>\n",
       "      <th>index</th>\n",
       "      <th></th>\n",
       "      <th></th>\n",
       "      <th></th>\n",
       "      <th></th>\n",
       "      <th></th>\n",
       "      <th></th>\n",
       "      <th></th>\n",
       "      <th></th>\n",
       "      <th></th>\n",
       "      <th></th>\n",
       "      <th></th>\n",
       "    </tr>\n",
       "  </thead>\n",
       "  <tbody>\n",
       "    <tr>\n",
       "      <th>2021-01-021</th>\n",
       "      <td>445.0</td>\n",
       "      <td>6</td>\n",
       "      <td>2523.0</td>\n",
       "      <td>0.271472</td>\n",
       "      <td>0.082867</td>\n",
       "      <td>1.843595e+01</td>\n",
       "      <td>0.006921</td>\n",
       "      <td>0.007172</td>\n",
       "      <td>0.006709</td>\n",
       "      <td>0.006770</td>\n",
       "      <td>29383228.0</td>\n",
       "    </tr>\n",
       "    <tr>\n",
       "      <th>2021-01-022</th>\n",
       "      <td>1092.0</td>\n",
       "      <td>9</td>\n",
       "      <td>14113.0</td>\n",
       "      <td>0.272197</td>\n",
       "      <td>0.108878</td>\n",
       "      <td>7.314342e+02</td>\n",
       "      <td>0.006767</td>\n",
       "      <td>0.007038</td>\n",
       "      <td>0.006641</td>\n",
       "      <td>0.006773</td>\n",
       "      <td>41415520.0</td>\n",
       "    </tr>\n",
       "    <tr>\n",
       "      <th>2021-01-023</th>\n",
       "      <td>917.0</td>\n",
       "      <td>13</td>\n",
       "      <td>7111.0</td>\n",
       "      <td>0.255490</td>\n",
       "      <td>0.084638</td>\n",
       "      <td>2.701301e+02</td>\n",
       "      <td>0.006780</td>\n",
       "      <td>0.007179</td>\n",
       "      <td>0.006745</td>\n",
       "      <td>0.007096</td>\n",
       "      <td>31058927.0</td>\n",
       "    </tr>\n",
       "    <tr>\n",
       "      <th>2021-01-024</th>\n",
       "      <td>978.0</td>\n",
       "      <td>13</td>\n",
       "      <td>5997.0</td>\n",
       "      <td>0.273800</td>\n",
       "      <td>0.091864</td>\n",
       "      <td>-4.909110e+01</td>\n",
       "      <td>0.007065</td>\n",
       "      <td>0.007421</td>\n",
       "      <td>0.007055</td>\n",
       "      <td>0.007287</td>\n",
       "      <td>31100758.0</td>\n",
       "    </tr>\n",
       "    <tr>\n",
       "      <th>2021-01-025</th>\n",
       "      <td>642.0</td>\n",
       "      <td>8</td>\n",
       "      <td>4139.0</td>\n",
       "      <td>0.306174</td>\n",
       "      <td>0.128929</td>\n",
       "      <td>7.767531e+02</td>\n",
       "      <td>0.007308</td>\n",
       "      <td>0.007315</td>\n",
       "      <td>0.006738</td>\n",
       "      <td>0.006990</td>\n",
       "      <td>57350444.0</td>\n",
       "    </tr>\n",
       "    <tr>\n",
       "      <th>...</th>\n",
       "      <td>...</td>\n",
       "      <td>...</td>\n",
       "      <td>...</td>\n",
       "      <td>...</td>\n",
       "      <td>...</td>\n",
       "      <td>...</td>\n",
       "      <td>...</td>\n",
       "      <td>...</td>\n",
       "      <td>...</td>\n",
       "      <td>...</td>\n",
       "      <td>...</td>\n",
       "    </tr>\n",
       "    <tr>\n",
       "      <th>2021-04-2813</th>\n",
       "      <td>963.0</td>\n",
       "      <td>7</td>\n",
       "      <td>4413.0</td>\n",
       "      <td>0.327447</td>\n",
       "      <td>0.128172</td>\n",
       "      <td>1.551894e+04</td>\n",
       "      <td>0.308670</td>\n",
       "      <td>0.312000</td>\n",
       "      <td>0.303860</td>\n",
       "      <td>0.310110</td>\n",
       "      <td>15921899.2</td>\n",
       "    </tr>\n",
       "    <tr>\n",
       "      <th>2021-04-2814</th>\n",
       "      <td>1311.0</td>\n",
       "      <td>5</td>\n",
       "      <td>3182.0</td>\n",
       "      <td>0.311805</td>\n",
       "      <td>0.136751</td>\n",
       "      <td>4.765066e+04</td>\n",
       "      <td>0.310310</td>\n",
       "      <td>0.310760</td>\n",
       "      <td>0.301330</td>\n",
       "      <td>0.306520</td>\n",
       "      <td>19680380.6</td>\n",
       "    </tr>\n",
       "    <tr>\n",
       "      <th>2021-04-2815</th>\n",
       "      <td>861.0</td>\n",
       "      <td>3</td>\n",
       "      <td>2090.0</td>\n",
       "      <td>0.352951</td>\n",
       "      <td>0.143377</td>\n",
       "      <td>6.823856e+02</td>\n",
       "      <td>0.306520</td>\n",
       "      <td>0.315320</td>\n",
       "      <td>0.304800</td>\n",
       "      <td>0.310570</td>\n",
       "      <td>20889588.2</td>\n",
       "    </tr>\n",
       "    <tr>\n",
       "      <th>2021-04-2816</th>\n",
       "      <td>3004.0</td>\n",
       "      <td>5</td>\n",
       "      <td>13427.0</td>\n",
       "      <td>0.316338</td>\n",
       "      <td>0.119650</td>\n",
       "      <td>4.853015e+06</td>\n",
       "      <td>0.310590</td>\n",
       "      <td>0.326530</td>\n",
       "      <td>0.308500</td>\n",
       "      <td>0.320940</td>\n",
       "      <td>32387298.2</td>\n",
       "    </tr>\n",
       "    <tr>\n",
       "      <th>2021-04-2817</th>\n",
       "      <td>5958.0</td>\n",
       "      <td>40</td>\n",
       "      <td>31404.0</td>\n",
       "      <td>0.238753</td>\n",
       "      <td>0.089537</td>\n",
       "      <td>2.894701e+05</td>\n",
       "      <td>0.321110</td>\n",
       "      <td>0.326890</td>\n",
       "      <td>0.316570</td>\n",
       "      <td>0.323320</td>\n",
       "      <td>33777982.1</td>\n",
       "    </tr>\n",
       "  </tbody>\n",
       "</table>\n",
       "<p>2791 rows × 11 columns</p>\n",
       "</div>"
      ],
      "text/plain": [
       "              retweets_count  top_tw  likes_count      subj     polar  \\\n",
       "index                                                                   \n",
       "2021-01-021            445.0       6       2523.0  0.271472  0.082867   \n",
       "2021-01-022           1092.0       9      14113.0  0.272197  0.108878   \n",
       "2021-01-023            917.0      13       7111.0  0.255490  0.084638   \n",
       "2021-01-024            978.0      13       5997.0  0.273800  0.091864   \n",
       "2021-01-025            642.0       8       4139.0  0.306174  0.128929   \n",
       "...                      ...     ...          ...       ...       ...   \n",
       "2021-04-2813           963.0       7       4413.0  0.327447  0.128172   \n",
       "2021-04-2814          1311.0       5       3182.0  0.311805  0.136751   \n",
       "2021-04-2815           861.0       3       2090.0  0.352951  0.143377   \n",
       "2021-04-2816          3004.0       5      13427.0  0.316338  0.119650   \n",
       "2021-04-2817          5958.0      40      31404.0  0.238753  0.089537   \n",
       "\n",
       "                 top_score      open      high       low     close      Volume  \n",
       "index                                                                           \n",
       "2021-01-021   1.843595e+01  0.006921  0.007172  0.006709  0.006770  29383228.0  \n",
       "2021-01-022   7.314342e+02  0.006767  0.007038  0.006641  0.006773  41415520.0  \n",
       "2021-01-023   2.701301e+02  0.006780  0.007179  0.006745  0.007096  31058927.0  \n",
       "2021-01-024  -4.909110e+01  0.007065  0.007421  0.007055  0.007287  31100758.0  \n",
       "2021-01-025   7.767531e+02  0.007308  0.007315  0.006738  0.006990  57350444.0  \n",
       "...                    ...       ...       ...       ...       ...         ...  \n",
       "2021-04-2813  1.551894e+04  0.308670  0.312000  0.303860  0.310110  15921899.2  \n",
       "2021-04-2814  4.765066e+04  0.310310  0.310760  0.301330  0.306520  19680380.6  \n",
       "2021-04-2815  6.823856e+02  0.306520  0.315320  0.304800  0.310570  20889588.2  \n",
       "2021-04-2816  4.853015e+06  0.310590  0.326530  0.308500  0.320940  32387298.2  \n",
       "2021-04-2817  2.894701e+05  0.321110  0.326890  0.316570  0.323320  33777982.1  \n",
       "\n",
       "[2791 rows x 11 columns]"
      ]
     },
     "execution_count": 7,
     "metadata": {},
     "output_type": "execute_result"
    }
   ],
   "source": [
    "all_data = all_data.iloc[:, 3:]\n",
    "all_data"
   ]
  },
  {
   "cell_type": "code",
   "execution_count": 8,
   "id": "5f8f51e3",
   "metadata": {},
   "outputs": [
    {
     "data": {
      "text/html": [
       "<div>\n",
       "<style scoped>\n",
       "    .dataframe tbody tr th:only-of-type {\n",
       "        vertical-align: middle;\n",
       "    }\n",
       "\n",
       "    .dataframe tbody tr th {\n",
       "        vertical-align: top;\n",
       "    }\n",
       "\n",
       "    .dataframe thead th {\n",
       "        text-align: right;\n",
       "    }\n",
       "</style>\n",
       "<table border=\"1\" class=\"dataframe\">\n",
       "  <thead>\n",
       "    <tr style=\"text-align: right;\">\n",
       "      <th></th>\n",
       "      <th>retweets_count</th>\n",
       "      <th>top_tw</th>\n",
       "      <th>likes_count</th>\n",
       "      <th>subj</th>\n",
       "      <th>polar</th>\n",
       "      <th>top_score</th>\n",
       "      <th>open</th>\n",
       "      <th>high</th>\n",
       "      <th>low</th>\n",
       "      <th>close</th>\n",
       "      <th>Volume</th>\n",
       "    </tr>\n",
       "    <tr>\n",
       "      <th>index</th>\n",
       "      <th></th>\n",
       "      <th></th>\n",
       "      <th></th>\n",
       "      <th></th>\n",
       "      <th></th>\n",
       "      <th></th>\n",
       "      <th></th>\n",
       "      <th></th>\n",
       "      <th></th>\n",
       "      <th></th>\n",
       "      <th></th>\n",
       "    </tr>\n",
       "  </thead>\n",
       "  <tbody>\n",
       "    <tr>\n",
       "      <th>2021-01-021</th>\n",
       "      <td>445.0</td>\n",
       "      <td>6</td>\n",
       "      <td>2523.0</td>\n",
       "      <td>0.271472</td>\n",
       "      <td>0.082867</td>\n",
       "      <td>1.843595e+01</td>\n",
       "      <td>0.006921</td>\n",
       "      <td>0.007172</td>\n",
       "      <td>0.006709</td>\n",
       "      <td>0.006770</td>\n",
       "      <td>29383228.0</td>\n",
       "    </tr>\n",
       "    <tr>\n",
       "      <th>2021-01-022</th>\n",
       "      <td>1092.0</td>\n",
       "      <td>9</td>\n",
       "      <td>14113.0</td>\n",
       "      <td>0.272197</td>\n",
       "      <td>0.108878</td>\n",
       "      <td>7.314342e+02</td>\n",
       "      <td>0.006767</td>\n",
       "      <td>0.007038</td>\n",
       "      <td>0.006641</td>\n",
       "      <td>0.006773</td>\n",
       "      <td>41415520.0</td>\n",
       "    </tr>\n",
       "    <tr>\n",
       "      <th>2021-01-023</th>\n",
       "      <td>917.0</td>\n",
       "      <td>13</td>\n",
       "      <td>7111.0</td>\n",
       "      <td>0.255490</td>\n",
       "      <td>0.084638</td>\n",
       "      <td>2.701301e+02</td>\n",
       "      <td>0.006780</td>\n",
       "      <td>0.007179</td>\n",
       "      <td>0.006745</td>\n",
       "      <td>0.007096</td>\n",
       "      <td>31058927.0</td>\n",
       "    </tr>\n",
       "    <tr>\n",
       "      <th>2021-01-024</th>\n",
       "      <td>978.0</td>\n",
       "      <td>13</td>\n",
       "      <td>5997.0</td>\n",
       "      <td>0.273800</td>\n",
       "      <td>0.091864</td>\n",
       "      <td>-4.909110e+01</td>\n",
       "      <td>0.007065</td>\n",
       "      <td>0.007421</td>\n",
       "      <td>0.007055</td>\n",
       "      <td>0.007287</td>\n",
       "      <td>31100758.0</td>\n",
       "    </tr>\n",
       "    <tr>\n",
       "      <th>2021-01-025</th>\n",
       "      <td>642.0</td>\n",
       "      <td>8</td>\n",
       "      <td>4139.0</td>\n",
       "      <td>0.306174</td>\n",
       "      <td>0.128929</td>\n",
       "      <td>7.767531e+02</td>\n",
       "      <td>0.007308</td>\n",
       "      <td>0.007315</td>\n",
       "      <td>0.006738</td>\n",
       "      <td>0.006990</td>\n",
       "      <td>57350444.0</td>\n",
       "    </tr>\n",
       "    <tr>\n",
       "      <th>...</th>\n",
       "      <td>...</td>\n",
       "      <td>...</td>\n",
       "      <td>...</td>\n",
       "      <td>...</td>\n",
       "      <td>...</td>\n",
       "      <td>...</td>\n",
       "      <td>...</td>\n",
       "      <td>...</td>\n",
       "      <td>...</td>\n",
       "      <td>...</td>\n",
       "      <td>...</td>\n",
       "    </tr>\n",
       "    <tr>\n",
       "      <th>2021-04-2813</th>\n",
       "      <td>963.0</td>\n",
       "      <td>7</td>\n",
       "      <td>4413.0</td>\n",
       "      <td>0.327447</td>\n",
       "      <td>0.128172</td>\n",
       "      <td>1.551894e+04</td>\n",
       "      <td>0.308670</td>\n",
       "      <td>0.312000</td>\n",
       "      <td>0.303860</td>\n",
       "      <td>0.310110</td>\n",
       "      <td>15921899.2</td>\n",
       "    </tr>\n",
       "    <tr>\n",
       "      <th>2021-04-2814</th>\n",
       "      <td>1311.0</td>\n",
       "      <td>5</td>\n",
       "      <td>3182.0</td>\n",
       "      <td>0.311805</td>\n",
       "      <td>0.136751</td>\n",
       "      <td>4.765066e+04</td>\n",
       "      <td>0.310310</td>\n",
       "      <td>0.310760</td>\n",
       "      <td>0.301330</td>\n",
       "      <td>0.306520</td>\n",
       "      <td>19680380.6</td>\n",
       "    </tr>\n",
       "    <tr>\n",
       "      <th>2021-04-2815</th>\n",
       "      <td>861.0</td>\n",
       "      <td>3</td>\n",
       "      <td>2090.0</td>\n",
       "      <td>0.352951</td>\n",
       "      <td>0.143377</td>\n",
       "      <td>6.823856e+02</td>\n",
       "      <td>0.306520</td>\n",
       "      <td>0.315320</td>\n",
       "      <td>0.304800</td>\n",
       "      <td>0.310570</td>\n",
       "      <td>20889588.2</td>\n",
       "    </tr>\n",
       "    <tr>\n",
       "      <th>2021-04-2816</th>\n",
       "      <td>3004.0</td>\n",
       "      <td>5</td>\n",
       "      <td>13427.0</td>\n",
       "      <td>0.316338</td>\n",
       "      <td>0.119650</td>\n",
       "      <td>4.853015e+06</td>\n",
       "      <td>0.310590</td>\n",
       "      <td>0.326530</td>\n",
       "      <td>0.308500</td>\n",
       "      <td>0.320940</td>\n",
       "      <td>32387298.2</td>\n",
       "    </tr>\n",
       "    <tr>\n",
       "      <th>2021-04-2817</th>\n",
       "      <td>5958.0</td>\n",
       "      <td>40</td>\n",
       "      <td>31404.0</td>\n",
       "      <td>0.238753</td>\n",
       "      <td>0.089537</td>\n",
       "      <td>2.894701e+05</td>\n",
       "      <td>0.321110</td>\n",
       "      <td>0.326890</td>\n",
       "      <td>0.316570</td>\n",
       "      <td>0.323320</td>\n",
       "      <td>33777982.1</td>\n",
       "    </tr>\n",
       "  </tbody>\n",
       "</table>\n",
       "<p>2791 rows × 11 columns</p>\n",
       "</div>"
      ],
      "text/plain": [
       "              retweets_count  top_tw  likes_count      subj     polar  \\\n",
       "index                                                                   \n",
       "2021-01-021            445.0       6       2523.0  0.271472  0.082867   \n",
       "2021-01-022           1092.0       9      14113.0  0.272197  0.108878   \n",
       "2021-01-023            917.0      13       7111.0  0.255490  0.084638   \n",
       "2021-01-024            978.0      13       5997.0  0.273800  0.091864   \n",
       "2021-01-025            642.0       8       4139.0  0.306174  0.128929   \n",
       "...                      ...     ...          ...       ...       ...   \n",
       "2021-04-2813           963.0       7       4413.0  0.327447  0.128172   \n",
       "2021-04-2814          1311.0       5       3182.0  0.311805  0.136751   \n",
       "2021-04-2815           861.0       3       2090.0  0.352951  0.143377   \n",
       "2021-04-2816          3004.0       5      13427.0  0.316338  0.119650   \n",
       "2021-04-2817          5958.0      40      31404.0  0.238753  0.089537   \n",
       "\n",
       "                 top_score      open      high       low     close      Volume  \n",
       "index                                                                           \n",
       "2021-01-021   1.843595e+01  0.006921  0.007172  0.006709  0.006770  29383228.0  \n",
       "2021-01-022   7.314342e+02  0.006767  0.007038  0.006641  0.006773  41415520.0  \n",
       "2021-01-023   2.701301e+02  0.006780  0.007179  0.006745  0.007096  31058927.0  \n",
       "2021-01-024  -4.909110e+01  0.007065  0.007421  0.007055  0.007287  31100758.0  \n",
       "2021-01-025   7.767531e+02  0.007308  0.007315  0.006738  0.006990  57350444.0  \n",
       "...                    ...       ...       ...       ...       ...         ...  \n",
       "2021-04-2813  1.551894e+04  0.308670  0.312000  0.303860  0.310110  15921899.2  \n",
       "2021-04-2814  4.765066e+04  0.310310  0.310760  0.301330  0.306520  19680380.6  \n",
       "2021-04-2815  6.823856e+02  0.306520  0.315320  0.304800  0.310570  20889588.2  \n",
       "2021-04-2816  4.853015e+06  0.310590  0.326530  0.308500  0.320940  32387298.2  \n",
       "2021-04-2817  2.894701e+05  0.321110  0.326890  0.316570  0.323320  33777982.1  \n",
       "\n",
       "[2791 rows x 11 columns]"
      ]
     },
     "execution_count": 8,
     "metadata": {},
     "output_type": "execute_result"
    }
   ],
   "source": [
    "all_data"
   ]
  },
  {
   "cell_type": "code",
   "execution_count": 9,
   "id": "f0e20b43",
   "metadata": {},
   "outputs": [
    {
     "data": {
      "text/plain": [
       "Text(0.5, 0, '')"
      ]
     },
     "execution_count": 9,
     "metadata": {},
     "output_type": "execute_result"
    },
    {
     "data": {
      "image/png": "[encoded data removed]",
      "text/plain": [
       "<Figure size 432x288 with 1 Axes>"
      ]
     },
     "metadata": {
      "needs_background": "light"
     },
     "output_type": "display_data"
    }
   ],
   "source": [
    "all_data['close'].plot()\n",
    "plt.ylabel('Adj Close')\n",
    "plt.xlabel(None)"
   ]
  },
  {
   "cell_type": "code",
   "execution_count": 10,
   "id": "6b1abd16",
   "metadata": {},
   "outputs": [
    {
     "data": {
      "text/plain": [
       "Text(0.5, 0, '')"
      ]
     },
     "execution_count": 10,
     "metadata": {},
     "output_type": "execute_result"
    },
    {
     "data": {
      "image/png": "[encoded data removed]",
      "text/plain": [
       "<Figure size 432x288 with 1 Axes>"
      ]
     },
     "metadata": {
      "needs_background": "light"
     },
     "output_type": "display_data"
    }
   ],
   "source": [
    "all_data['open'].plot()\n",
    "plt.ylabel('open')\n",
    "plt.xlabel(None)"
   ]
  },
  {
   "cell_type": "code",
   "execution_count": 11,
   "id": "0bc1a894",
   "metadata": {},
   "outputs": [
    {
     "data": {
      "text/plain": [
       "Text(0.5, 0, '')"
      ]
     },
     "execution_count": 11,
     "metadata": {},
     "output_type": "execute_result"
    },
    {
     "data": {
      "image/png": "[encoded data removed]",
      "text/plain": [
       "<Figure size 432x288 with 1 Axes>"
      ]
     },
     "metadata": {
      "needs_background": "light"
     },
     "output_type": "display_data"
    }
   ],
   "source": [
    "all_data['Volume'].plot()\n",
    "plt.ylabel('Volume')\n",
    "plt.xlabel(None)"
   ]
  },
  {
   "cell_type": "code",
   "execution_count": 12,
   "id": "5341ff28",
   "metadata": {},
   "outputs": [],
   "source": [
    "ma_hour = [10, 20, 50]\n",
    "\n",
    "for ma in ma_hour:\n",
    "    column_name = f\"MA for {ma} hours\"\n",
    "    all_data[column_name] = all_data['close'].rolling(ma).mean()"
   ]
  },
  {
   "cell_type": "code",
   "execution_count": 13,
   "id": "c7958872",
   "metadata": {},
   "outputs": [
    {
     "name": "stdout",
     "output_type": "stream",
     "text": [
      "<class 'pandas.core.frame.DataFrame'>\n",
      "Index: 2791 entries, 2021-01-021 to 2021-04-2817\n",
      "Data columns (total 14 columns):\n",
      " #   Column           Non-Null Count  Dtype  \n",
      "---  ------           --------------  -----  \n",
      " 0   retweets_count   2791 non-null   float64\n",
      " 1   top_tw           2791 non-null   int64  \n",
      " 2   likes_count      2791 non-null   float64\n",
      " 3   subj             2791 non-null   float64\n",
      " 4   polar            2791 non-null   float64\n",
      " 5   top_score        2791 non-null   float64\n",
      " 6   open             2791 non-null   float64\n",
      " 7   high             2791 non-null   float64\n",
      " 8   low              2791 non-null   float64\n",
      " 9   close            2791 non-null   float64\n",
      " 10  Volume           2791 non-null   float64\n",
      " 11  MA for 10 hours  2782 non-null   float64\n",
      " 12  MA for 20 hours  2772 non-null   float64\n",
      " 13  MA for 50 hours  2742 non-null   float64\n",
      "dtypes: float64(13), int64(1)\n",
      "memory usage: 327.1+ KB\n"
     ]
    }
   ],
   "source": [
    "all_data.info()"
   ]
  },
  {
   "cell_type": "code",
   "execution_count": 14,
   "id": "4ed10f80",
   "metadata": {},
   "outputs": [
    {
     "data": {
      "text/plain": [
       "<AxesSubplot:xlabel='index'>"
      ]
     },
     "execution_count": 14,
     "metadata": {},
     "output_type": "execute_result"
    },
    {
     "data": {
      "image/png": "[encoded data removed]",
      "text/plain": [
       "<Figure size 1440x720 with 1 Axes>"
      ]
     },
     "metadata": {
      "needs_background": "light"
     },
     "output_type": "display_data"
    }
   ],
   "source": [
    "from pylab import rcParams\n",
    "rcParams['figure.figsize'] = 20, 10\n",
    "all_data[['close', 'MA for 10 hours', 'MA for 20 hours', 'MA for 50 hours']].plot()\n"
   ]
  },
  {
   "cell_type": "code",
   "execution_count": 15,
   "id": "cae25af4",
   "metadata": {},
   "outputs": [],
   "source": [
    "all_data.dropna(inplace=True)"
   ]
  },
  {
   "cell_type": "code",
   "execution_count": 16,
   "id": "6eb531c6",
   "metadata": {},
   "outputs": [],
   "source": [
    "X = all_data.drop(columns='close')\n",
    "y = all_data['close']\n",
    "dataset = X.to_numpy()"
   ]
  },
  {
   "cell_type": "code",
   "execution_count": 17,
   "id": "206d1e73",
   "metadata": {},
   "outputs": [
    {
     "data": {
      "text/plain": [
       "array([[2.330000e+02, 1.000000e+00, 7.060000e+02, ..., 1.014580e-02,\n",
       "        1.048470e-02, 1.027646e-02],\n",
       "       [3.110000e+02, 2.000000e+00, 1.076000e+03, ..., 9.994100e-03,\n",
       "        1.030385e-02, 1.031472e-02],\n",
       "       [6.550000e+02, 1.000000e+00, 1.635000e+03, ..., 9.834000e-03,\n",
       "        1.012425e-02, 1.035660e-02],\n",
       "       ...,\n",
       "       [8.610000e+02, 3.000000e+00, 2.090000e+03, ..., 3.094240e-01,\n",
       "        3.009320e-01, 2.829402e-01],\n",
       "       [3.004000e+03, 5.000000e+00, 1.342700e+04, ..., 3.095530e-01,\n",
       "        3.035115e-01, 2.840342e-01],\n",
       "       [5.958000e+03, 4.000000e+01, 3.140400e+04, ..., 3.108620e-01,\n",
       "        3.063300e-01, 2.852030e-01]])"
      ]
     },
     "execution_count": 17,
     "metadata": {},
     "output_type": "execute_result"
    }
   ],
   "source": [
    "dataset"
   ]
  },
  {
   "cell_type": "code",
   "execution_count": 18,
   "id": "140b39d9",
   "metadata": {},
   "outputs": [],
   "source": [
    "from sklearn.preprocessing import MinMaxScaler\n",
    "\n",
    "scaler = MinMaxScaler(feature_range=(0,1))\n",
    "scaled_data = scaler.fit_transform(dataset)\n"
   ]
  },
  {
   "cell_type": "code",
   "execution_count": 19,
   "id": "8361d7db",
   "metadata": {},
   "outputs": [
    {
     "data": {
      "text/plain": [
       "array([[0.0016974 , 0.00337838, 0.00077811, ..., 0.00672211, 0.0073241 ,\n",
       "        0.00637169],\n",
       "       [0.00228323, 0.00675676, 0.00119476, ..., 0.00633877, 0.00685909,\n",
       "        0.00647783],\n",
       "       [0.00486687, 0.00337838, 0.00182423, ..., 0.00593419, 0.00639729,\n",
       "        0.00659401],\n",
       "       ...,\n",
       "       [0.00641406, 0.01013514, 0.00233659, ..., 0.76300282, 0.75413882,\n",
       "        0.76281033],\n",
       "       [0.02250929, 0.01689189, 0.01510279, ..., 0.76332881, 0.76077138,\n",
       "        0.76584536],\n",
       "       [0.04469563, 0.13513514, 0.03534606, ..., 0.76663667, 0.76801847,\n",
       "        0.76908791]])"
      ]
     },
     "execution_count": 19,
     "metadata": {},
     "output_type": "execute_result"
    }
   ],
   "source": [
    "scaled_data"
   ]
  },
  {
   "cell_type": "code",
   "execution_count": null,
   "id": "1f367ec4",
   "metadata": {},
   "outputs": [],
   "source": []
  },
  {
   "cell_type": "code",
   "execution_count": 20,
   "id": "3a5918b8",
   "metadata": {},
   "outputs": [],
   "source": [
    "X_train, X_test, y_train, y_test = train_test_split(X, y, test_size=0.30, random_state=42)\n",
    "\n",
    "X_train = pd.DataFrame(X_train, columns=X.columns)\n",
    "X_test  = pd.DataFrame(X_test, columns=X.columns)\n",
    "\n",
    "y_train = pd.DataFrame(y_train, columns =['close'])\n",
    "y_test  = pd.DataFrame(y_test, columns =['close'])"
   ]
  },
  {
   "cell_type": "code",
   "execution_count": 21,
   "id": "4e6cf9f1",
   "metadata": {},
   "outputs": [],
   "source": [
    "x_train, y_train = np.array(X_train), np.array(y_train)"
   ]
  },
  {
   "cell_type": "code",
   "execution_count": 22,
   "id": "27b39877",
   "metadata": {},
   "outputs": [],
   "source": [
    "X_train = np.reshape(x_train, (x_train.shape[0], x_train.shape[1], 1))"
   ]
  },
  {
   "cell_type": "code",
   "execution_count": null,
   "id": "8c103c10",
   "metadata": {},
   "outputs": [],
   "source": []
  },
  {
   "cell_type": "code",
   "execution_count": 24,
   "id": "48e7a041",
   "metadata": {},
   "outputs": [
    {
     "name": "stderr",
     "output_type": "stream",
     "text": [
      "2022-12-14 15:14:11.179214: I tensorflow/core/platform/cpu_feature_guard.cc:193] This TensorFlow binary is optimized with oneAPI Deep Neural Network Library (oneDNN) to use the following CPU instructions in performance-critical operations:  AVX2 FMA\n",
      "To enable them in other operations, rebuild TensorFlow with the appropriate compiler flags.\n",
      "2022-12-14 15:14:25.546439: I tensorflow/core/platform/cpu_feature_guard.cc:193] This TensorFlow binary is optimized with oneAPI Deep Neural Network Library (oneDNN) to use the following CPU instructions in performance-critical operations:  AVX2 FMA\n",
      "To enable them in other operations, rebuild TensorFlow with the appropriate compiler flags.\n"
     ]
    },
    {
     "name": "stdout",
     "output_type": "stream",
     "text": [
      "1919/1919 [==============================] - 23s 10ms/step - loss: 0.0045\n"
     ]
    },
    {
     "data": {
      "text/plain": [
       "<keras.callbacks.History at 0x7fe7dd975340>"
      ]
     },
     "execution_count": 24,
     "metadata": {},
     "output_type": "execute_result"
    }
   ],
   "source": [
    "from keras.models import Sequential\n",
    "from keras.layers import Dense, LSTM\n",
    "\n",
    "# Build the LSTM model\n",
    "model = Sequential()\n",
    "model.add(LSTM(128, return_sequences=True, input_shape= (x_train.shape[1], 1)))\n",
    "model.add(LSTM(64, return_sequences=False))\n",
    "model.add(Dense(25))\n",
    "model.add(Dense(1))\n",
    "\n",
    "# Compile the model\n",
    "model.compile(optimizer='adam', loss='mean_squared_error')\n",
    "\n",
    "# Train the model\n",
    "model.fit(x_train, y_train, batch_size=1, epochs=1)"
   ]
  },
  {
   "cell_type": "code",
   "execution_count": 26,
   "id": "ca751780",
   "metadata": {},
   "outputs": [
    {
     "name": "stdout",
     "output_type": "stream",
     "text": [
      "26/26 [==============================] - 1s 9ms/step\n"
     ]
    },
    {
     "name": "stderr",
     "output_type": "stream",
     "text": [
      "/Users/kirilltiufanov/opt/anaconda3/lib/python3.9/site-packages/numpy/core/fromnumeric.py:3438: FutureWarning: In a future version, DataFrame.mean(axis=None) will return a scalar mean over the entire DataFrame. To retain the old behavior, use 'frame.mean(axis=0)' or just 'frame.mean()'\n",
      "  return mean(axis=axis, dtype=dtype, out=out, **kwargs)\n"
     ]
    },
    {
     "data": {
      "text/plain": [
       "close    0.024669\n",
       "dtype: float64"
      ]
     },
     "execution_count": 26,
     "metadata": {},
     "output_type": "execute_result"
    }
   ],
   "source": [
    "\n",
    "    \n",
    "# Convert the data to a numpy array\n",
    "x_test = np.array(X_test)\n",
    "\n",
    "# Reshape the data\n",
    "x_test = np.reshape(x_test, (x_test.shape[0], x_test.shape[1], 1 ))\n",
    "\n",
    "# Get the models predicted price values \n",
    "predictions = model.predict(x_test)\n",
    "#predictions = scaler.inverse_transform(predictions)\n",
    "\n",
    "# Get the root mean squared error (RMSE)\n",
    "rmse = np.sqrt(np.mean(((predictions - y_test) ** 2)))\n",
    "rmse\n"
   ]
  },
  {
   "cell_type": "code",
   "execution_count": null,
   "id": "4f547e8b",
   "metadata": {},
   "outputs": [],
   "source": [
    "predictions"
   ]
  },
  {
   "cell_type": "code",
   "execution_count": null,
   "id": "e6611445",
   "metadata": {},
   "outputs": [],
   "source": [
    "model.weights"
   ]
  },
  {
   "cell_type": "code",
   "execution_count": null,
   "id": "a49b6b5d",
   "metadata": {},
   "outputs": [],
   "source": []
  },
  {
   "cell_type": "code",
   "execution_count": null,
   "id": "c5c38532",
   "metadata": {},
   "outputs": [],
   "source": []
  },
  {
   "cell_type": "code",
   "execution_count": null,
   "id": "a22da198",
   "metadata": {},
   "outputs": [],
   "source": [
    "all_data_num = all_data.drop([\"tweetl_t\", \"tweetl_l\", \"mentions_t\", \"mentions_l\"], axis=1)"
   ]
  },
  {
   "cell_type": "code",
   "execution_count": null,
   "id": "bdee9934",
   "metadata": {},
   "outputs": [],
   "source": [
    "all_data_num"
   ]
  },
  {
   "cell_type": "code",
   "execution_count": null,
   "id": "e0af292c",
   "metadata": {},
   "outputs": [],
   "source": [
    "all_data_num = all_data_num.iloc[:,2:-1].apply(pd.to_numeric)"
   ]
  },
  {
   "cell_type": "code",
   "execution_count": null,
   "id": "f41a7d37",
   "metadata": {},
   "outputs": [],
   "source": [
    "y_train[\"tv\"].value_counts()"
   ]
  },
  {
   "cell_type": "code",
   "execution_count": null,
   "id": "093a75d5",
   "metadata": {},
   "outputs": [],
   "source": [
    "sns.countplot(x=y_train['tv'])"
   ]
  },
  {
   "cell_type": "code",
   "execution_count": null,
   "id": "420dc3ae",
   "metadata": {},
   "outputs": [],
   "source": [
    "from imblearn.over_sampling import SMOTE\n",
    "smote = SMOTE()\n",
    "X_sm, y_sm = smote.fit_resample(X_train, y_train)\n",
    "y.value_counts()"
   ]
  },
  {
   "cell_type": "code",
   "execution_count": null,
   "id": "1c470f85",
   "metadata": {},
   "outputs": [],
   "source": [
    "#checking features with high importancy\n",
    "from sklearn.feature_selection import RFE\n",
    "data_final_vars = all_data_num.columns.values.tolist()\n",
    "rfc = RandomForestClassifier()\n",
    "rfe = RFE(rfc, n_features_to_select=20)\n",
    "rfe = rfe.fit(X_sm, y_sm.values.ravel())\n",
    "print(rfe.support_)\n",
    "print(rfe.ranking_)"
   ]
  },
  {
   "cell_type": "code",
   "execution_count": null,
   "id": "247f259c",
   "metadata": {},
   "outputs": [],
   "source": [
    "#droping features selected by RFE\n",
    "boolencolm = rfe.support_\n",
    "X_sm = pd.DataFrame(X_sm).loc[:, boolencolm]\n",
    "X_test = pd.DataFrame(X_test).loc[:, boolencolm]"
   ]
  },
  {
   "cell_type": "code",
   "execution_count": null,
   "id": "a5ba2eb2",
   "metadata": {},
   "outputs": [],
   "source": [
    "X_sm.head()"
   ]
  },
  {
   "cell_type": "code",
   "execution_count": null,
   "id": "3ef01727",
   "metadata": {},
   "outputs": [],
   "source": [
    "\n",
    "nb = CategoricalNB()\n",
    "rfc = RandomForestClassifier()\n",
    "\n",
    "nb.fit(X_sm, y_sm['tv'])\n",
    "rfc.fit(X_sm, y_sm['tv'])"
   ]
  },
  {
   "cell_type": "code",
   "execution_count": null,
   "id": "8e0553df",
   "metadata": {},
   "outputs": [],
   "source": [
    "y_train_res_pred_rf = rfc.predict(X_sm)\n",
    "y_test_pred_rf      = rfc.predict(X_test)"
   ]
  },
  {
   "cell_type": "code",
   "execution_count": null,
   "id": "e308b567",
   "metadata": {},
   "outputs": [],
   "source": [
    "def model_performance_class(y_train, y_pred_train, y_test, y_pred_test):\n",
    "\n",
    "    from sklearn.metrics import cohen_kappa_score, classification_report \n",
    "\n",
    "\n",
    "    print(\"Results obtained for the TRAIN SET\")\n",
    "    print(\"==================================\")\n",
    "    print(\"The Cohen's Kappa is: {:.2f}\".format(cohen_kappa_score(y_train, y_pred_train)))\n",
    "    print(classification_report(y_train, y_pred_train))\n",
    "    print(\"==================================\")\n",
    "    print(\"Results obtained for the TEST SET\")\n",
    "    print(\"The Cohen's Kappa is: {:.2f}\".format(cohen_kappa_score(y_test, y_pred_test)))\n",
    "    print(classification_report(y_test, y_pred_test))\n"
   ]
  },
  {
   "cell_type": "code",
   "execution_count": null,
   "id": "16a4a258",
   "metadata": {},
   "outputs": [],
   "source": [
    "model_performance_class(y_sm, y_train_res_pred_rf, y_test, y_test_pred_rf)"
   ]
  }
 ],
 "metadata": {
  "kernelspec": {
   "display_name": "Python 3 (ipykernel)",
   "language": "python",
   "name": "python3"
  },
  "language_info": {
   "codemirror_mode": {
    "name": "ipython",
    "version": 3
   },
   "file_extension": ".py",
   "mimetype": "text/x-python",
   "name": "python",
   "nbconvert_exporter": "python",
   "pygments_lexer": "ipython3",
   "version": "3.9.12"
  }
 },
 "nbformat": 4,
 "nbformat_minor": 5
}
