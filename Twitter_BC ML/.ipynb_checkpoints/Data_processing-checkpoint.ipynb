{
 "cells": [
  {
   "cell_type": "code",
   "execution_count": 1,
   "id": "fde64581",
   "metadata": {},
   "outputs": [],
   "source": [
    "import pandas as pd"
   ]
  },
  {
   "cell_type": "markdown",
   "id": "ddaf0c14",
   "metadata": {},
   "source": [
    "tw_data = pd.read_csv(\"data/doge_tweets_1.1.21-4.30.21.csv\")\n",
    "tw_data.info()"
   ]
  },
  {
   "cell_type": "markdown",
   "id": "5b3d1f00",
   "metadata": {},
   "source": [
    "flt_data = tw_data.iloc[:,[4,5,11,12, 13, 16,17,18, 19]]\n",
    "flt_data.head()"
   ]
  },
  {
   "cell_type": "markdown",
   "id": "bec04536",
   "metadata": {},
   "source": [
    "flt_data['date'] = pd.to_datetime(flt_data['date'], errors='coerce')\n",
    "flt_data['time'] = pd.to_datetime(flt_data['time'], errors='coerce')\n",
    "flt_data.info()"
   ]
  },
  {
   "cell_type": "markdown",
   "id": "1f9da7fc",
   "metadata": {},
   "source": [
    "flt_data.isna().sum()"
   ]
  },
  {
   "cell_type": "code",
   "execution_count": null,
   "id": "5fdbf0aa",
   "metadata": {},
   "outputs": [],
   "source": []
  },
  {
   "cell_type": "markdown",
   "id": "74b40a14",
   "metadata": {},
   "source": [
    "drop_col = flt_data[flt_data[\"date\"].notna()]\n",
    "drop_col.info()"
   ]
  },
  {
   "cell_type": "code",
   "execution_count": 11,
   "id": "63f2a93c",
   "metadata": {},
   "outputs": [],
   "source": [
    "drop_col[drop_col[\"language\"] == \"en\"].to_csv(\"cut_data.csv\")"
   ]
  },
  {
   "cell_type": "code",
   "execution_count": 13,
   "id": "2aaf218e",
   "metadata": {},
   "outputs": [
    {
     "name": "stdout",
     "output_type": "stream",
     "text": [
      "<class 'pandas.core.frame.DataFrame'>\n",
      "RangeIndex: 2875059 entries, 0 to 2875058\n",
      "Data columns (total 10 columns):\n",
      " #   Column          Dtype  \n",
      "---  ------          -----  \n",
      " 0   Unnamed: 0      int64  \n",
      " 1   date            object \n",
      " 2   time            object \n",
      " 3   tweet           object \n",
      " 4   language        object \n",
      " 5   mentions        object \n",
      " 6   replies_count   float64\n",
      " 7   retweets_count  float64\n",
      " 8   likes_count     float64\n",
      " 9   hashtags        object \n",
      "dtypes: float64(3), int64(1), object(6)\n",
      "memory usage: 219.3+ MB\n"
     ]
    }
   ],
   "source": [
    "tw_data_clean = pd.read_csv(\"cut_data.csv\")\n",
    "tw_data_clean.info()"
   ]
  },
  {
   "cell_type": "code",
   "execution_count": null,
   "id": "433568c0",
   "metadata": {},
   "outputs": [],
   "source": [
    "import seaborn as sns\n",
    "sns.displot(x=tw_data_clean['replies_count'])\n",
    "sns.displot(x=tw_data_clean['retweets_count'])\n",
    "sns.displot(x=tw_data_clean['likes_count'])"
   ]
  }
 ],
 "metadata": {
  "kernelspec": {
   "display_name": "Python 3 (ipykernel)",
   "language": "python",
   "name": "python3"
  },
  "language_info": {
   "codemirror_mode": {
    "name": "ipython",
    "version": 3
   },
   "file_extension": ".py",
   "mimetype": "text/x-python",
   "name": "python",
   "nbconvert_exporter": "python",
   "pygments_lexer": "ipython3",
   "version": "3.9.12"
  }
 },
 "nbformat": 4,
 "nbformat_minor": 5
}
