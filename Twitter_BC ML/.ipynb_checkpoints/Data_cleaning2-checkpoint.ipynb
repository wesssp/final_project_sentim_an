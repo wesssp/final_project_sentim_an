{
 "cells": [
  {
   "cell_type": "code",
   "execution_count": 1,
   "id": "fde64581",
   "metadata": {},
   "outputs": [],
   "source": [
    "import pandas as pd\n",
    "import re\n",
    "import seaborn as sns"
   ]
  },
  {
   "cell_type": "code",
   "execution_count": null,
   "id": "91b4dac0",
   "metadata": {},
   "outputs": [],
   "source": [
    "tw_data = pd.read_csv(\"data/doge_tweets_1.1.21-4.30.21.csv\")\n",
    "tw_data.info()"
   ]
  },
  {
   "cell_type": "code",
   "execution_count": null,
   "id": "4deb8427",
   "metadata": {},
   "outputs": [],
   "source": [
    "flt_data = tw_data.iloc[:,[4,5,11,12, 13, 16,17,18, 19]]\n",
    "flt_data.head()"
   ]
  },
  {
   "cell_type": "markdown",
   "id": "d47da33c",
   "metadata": {},
   "source": [
    "flt_data['date'] = pd.to_datetime(flt_data['date'], errors='coerce')\n",
    "flt_data['time'] = pd.to_datetime(flt_data['time'], errors='coerce')\n",
    "flt_data.info()"
   ]
  },
  {
   "cell_type": "markdown",
   "id": "857b8b7a",
   "metadata": {},
   "source": [
    "flt_data.isna().sum()"
   ]
  },
  {
   "cell_type": "code",
   "execution_count": null,
   "id": "5fdbf0aa",
   "metadata": {},
   "outputs": [],
   "source": []
  },
  {
   "cell_type": "code",
   "execution_count": null,
   "id": "1914e567",
   "metadata": {},
   "outputs": [],
   "source": [
    "drop_col = flt_data[flt_data[\"date\"].notna()]\n",
    "drop_col.info()"
   ]
  },
  {
   "cell_type": "code",
   "execution_count": null,
   "id": "6e75f3b0",
   "metadata": {},
   "outputs": [],
   "source": [
    "drop_col[drop_col[\"language\"] == \"en\"].to_csv(\"cut_data.csv\")"
   ]
  },
  {
   "cell_type": "code",
   "execution_count": null,
   "id": "9d8a2638",
   "metadata": {},
   "outputs": [],
   "source": [
    "tw_data_clean = pd.read_csv(\"cut_data.csv\")\n",
    "tw_data_clean.head()"
   ]
  },
  {
   "cell_type": "code",
   "execution_count": null,
   "id": "b3c2b769",
   "metadata": {},
   "outputs": [],
   "source": [
    "tw_data_clean['replies_count'].value_counts()"
   ]
  },
  {
   "cell_type": "code",
   "execution_count": null,
   "id": "9fd6496f",
   "metadata": {},
   "outputs": [],
   "source": [
    "tw_data_clean['retweets_count'].value_counts()"
   ]
  },
  {
   "cell_type": "code",
   "execution_count": null,
   "id": "af4c79b0",
   "metadata": {},
   "outputs": [],
   "source": [
    "tw_data_clean['likes_count'].value_counts()"
   ]
  },
  {
   "cell_type": "code",
   "execution_count": null,
   "id": "a9594bff",
   "metadata": {},
   "outputs": [],
   "source": [
    "tw_data_clean = tw_data_clean[tw_data_clean['likes_count']>0]"
   ]
  },
  {
   "cell_type": "code",
   "execution_count": null,
   "id": "f69d5b1e",
   "metadata": {},
   "outputs": [],
   "source": [
    "tw_data_clean = tw_data_clean[tw_data_clean['retweets_count']>0]"
   ]
  },
  {
   "cell_type": "code",
   "execution_count": null,
   "id": "8fbb2ec0",
   "metadata": {},
   "outputs": [],
   "source": [
    "tw_data_clean.info()"
   ]
  },
  {
   "cell_type": "code",
   "execution_count": null,
   "id": "290090b8",
   "metadata": {},
   "outputs": [],
   "source": [
    "tw_data_clean = tw_data_clean.iloc[:, 1:]"
   ]
  },
  {
   "cell_type": "code",
   "execution_count": null,
   "id": "14fb4d43",
   "metadata": {},
   "outputs": [],
   "source": [
    "tw_data_clean.info()"
   ]
  },
  {
   "cell_type": "code",
   "execution_count": null,
   "id": "d137d254",
   "metadata": {},
   "outputs": [],
   "source": [
    "tw_data_clean.head()"
   ]
  },
  {
   "cell_type": "code",
   "execution_count": null,
   "id": "d4142db8",
   "metadata": {},
   "outputs": [],
   "source": [
    "tw_data_clean['date_final'] = tw_data_clean['date'] + \" \" + tw_data_clean['time']\n",
    "tw_data_clean = tw_data_clean[['date','time','date_final','tweet','mentions','replies_count','retweets_count','likes_count','hashtags']]\n",
    "tw_data_clean['date_final'] = pd.to_datetime(tw_data_clean['date_final'], errors='coerce')\n",
    "tw_data_clean.head()\n",
    "tw_data_clean.info()"
   ]
  },
  {
   "cell_type": "code",
   "execution_count": null,
   "id": "0d2ca93b",
   "metadata": {},
   "outputs": [],
   "source": [
    "tw_data_clean.to_csv(\"tw_data_short.csv\", index=False)"
   ]
  }
 ],
 "metadata": {
  "kernelspec": {
   "display_name": "Python 3 (ipykernel)",
   "language": "python",
   "name": "python3"
  },
  "language_info": {
   "codemirror_mode": {
    "name": "ipython",
    "version": 3
   },
   "file_extension": ".py",
   "mimetype": "text/x-python",
   "name": "python",
   "nbconvert_exporter": "python",
   "pygments_lexer": "ipython3",
   "version": "3.9.12"
  }
 },
 "nbformat": 4,
 "nbformat_minor": 5
}
