{
 "cells": [
  {
   "cell_type": "code",
   "execution_count": 1,
   "id": "fde64581",
   "metadata": {},
   "outputs": [],
   "source": [
    "import pandas as pd\n",
    "import re\n",
    "import seaborn as sns"
   ]
  },
  {
   "cell_type": "code",
   "execution_count": 2,
   "id": "91b4dac0",
   "metadata": {},
   "outputs": [
    {
     "name": "stderr",
     "output_type": "stream",
     "text": [
      "/var/folders/7k/c999ntn553zc7wvwc7jzv77r0000gn/T/ipykernel_8804/1791397629.py:1: DtypeWarning: Columns (0,1,2,10,22,23) have mixed types. Specify dtype option on import or set low_memory=False.\n",
      "  tw_data = pd.read_csv(\"data/doge_tweets_1.1.21-4.30.21.csv\")\n"
     ]
    },
    {
     "name": "stdout",
     "output_type": "stream",
     "text": [
      "<class 'pandas.core.frame.DataFrame'>\n",
      "RangeIndex: 3670033 entries, 0 to 3670032\n",
      "Data columns (total 37 columns):\n",
      " #   Column           Dtype  \n",
      "---  ------           -----  \n",
      " 0   Unnamed: 0       object \n",
      " 1   id               object \n",
      " 2   conversation_id  object \n",
      " 3   created_at       object \n",
      " 4   date             object \n",
      " 5   time             object \n",
      " 6   timezone         float64\n",
      " 7   user_id          float64\n",
      " 8   username         object \n",
      " 9   name             object \n",
      " 10  place            object \n",
      " 11  tweet            object \n",
      " 12  language         object \n",
      " 13  mentions         object \n",
      " 14  urls             object \n",
      " 15  photos           object \n",
      " 16  replies_count    float64\n",
      " 17  retweets_count   float64\n",
      " 18  likes_count      float64\n",
      " 19  hashtags         object \n",
      " 20  cashtags         object \n",
      " 21  link             object \n",
      " 22  retweet          object \n",
      " 23  quote_url        object \n",
      " 24  video            float64\n",
      " 25  thumbnail        object \n",
      " 26  near             float64\n",
      " 27  geo              float64\n",
      " 28  source           float64\n",
      " 29  user_rt_id       float64\n",
      " 30  user_rt          float64\n",
      " 31  retweet_id       float64\n",
      " 32  reply_to         object \n",
      " 33  retweet_date     float64\n",
      " 34  translate        float64\n",
      " 35  trans_src        float64\n",
      " 36  trans_dest       float64\n",
      "dtypes: float64(16), object(21)\n",
      "memory usage: 1.0+ GB\n"
     ]
    }
   ],
   "source": [
    "tw_data = pd.read_csv(\"data/doge_tweets_1.1.21-4.30.21.csv\")\n",
    "tw_data.info()"
   ]
  },
  {
   "cell_type": "code",
   "execution_count": 3,
   "id": "4deb8427",
   "metadata": {},
   "outputs": [
    {
     "data": {
      "text/html": [
       "<div>\n",
       "<style scoped>\n",
       "    .dataframe tbody tr th:only-of-type {\n",
       "        vertical-align: middle;\n",
       "    }\n",
       "\n",
       "    .dataframe tbody tr th {\n",
       "        vertical-align: top;\n",
       "    }\n",
       "\n",
       "    .dataframe thead th {\n",
       "        text-align: right;\n",
       "    }\n",
       "</style>\n",
       "<table border=\"1\" class=\"dataframe\">\n",
       "  <thead>\n",
       "    <tr style=\"text-align: right;\">\n",
       "      <th></th>\n",
       "      <th>date</th>\n",
       "      <th>time</th>\n",
       "      <th>tweet</th>\n",
       "      <th>language</th>\n",
       "      <th>mentions</th>\n",
       "      <th>replies_count</th>\n",
       "      <th>retweets_count</th>\n",
       "      <th>likes_count</th>\n",
       "      <th>hashtags</th>\n",
       "    </tr>\n",
       "  </thead>\n",
       "  <tbody>\n",
       "    <tr>\n",
       "      <th>0</th>\n",
       "      <td>2021-04-28</td>\n",
       "      <td>16:59:59</td>\n",
       "      <td>The current value of 1 DOGE in USD is: $0.3236...</td>\n",
       "      <td>en</td>\n",
       "      <td>[]</td>\n",
       "      <td>0.0</td>\n",
       "      <td>0.0</td>\n",
       "      <td>2.0</td>\n",
       "      <td>['dogecoin']</td>\n",
       "    </tr>\n",
       "    <tr>\n",
       "      <th>1</th>\n",
       "      <td>2021-04-28</td>\n",
       "      <td>16:59:46</td>\n",
       "      <td>@OldManMitchell1 Agreed, many look at this met...</td>\n",
       "      <td>en</td>\n",
       "      <td>[]</td>\n",
       "      <td>0.0</td>\n",
       "      <td>0.0</td>\n",
       "      <td>1.0</td>\n",
       "      <td>[]</td>\n",
       "    </tr>\n",
       "    <tr>\n",
       "      <th>2</th>\n",
       "      <td>2021-04-28</td>\n",
       "      <td>16:59:41</td>\n",
       "      <td>@RomainLanery Le doge est un enfant de cœur à ...</td>\n",
       "      <td>fr</td>\n",
       "      <td>[]</td>\n",
       "      <td>0.0</td>\n",
       "      <td>0.0</td>\n",
       "      <td>2.0</td>\n",
       "      <td>[]</td>\n",
       "    </tr>\n",
       "    <tr>\n",
       "      <th>3</th>\n",
       "      <td>2021-04-28</td>\n",
       "      <td>16:59:41</td>\n",
       "      <td>Ty @elonmusk!!! Learn how to pronounce it @mcu...</td>\n",
       "      <td>en</td>\n",
       "      <td>[{'screen_name': 'elonmusk', 'name': 'elon mus...</td>\n",
       "      <td>0.0</td>\n",
       "      <td>0.0</td>\n",
       "      <td>2.0</td>\n",
       "      <td>['dogefather']</td>\n",
       "    </tr>\n",
       "    <tr>\n",
       "      <th>4</th>\n",
       "      <td>2021-04-28</td>\n",
       "      <td>16:59:39</td>\n",
       "      <td>Checking doge coin seeing if ur rich yet 👀</td>\n",
       "      <td>en</td>\n",
       "      <td>[]</td>\n",
       "      <td>1.0</td>\n",
       "      <td>1.0</td>\n",
       "      <td>8.0</td>\n",
       "      <td>[]</td>\n",
       "    </tr>\n",
       "  </tbody>\n",
       "</table>\n",
       "</div>"
      ],
      "text/plain": [
       "         date      time                                              tweet  \\\n",
       "0  2021-04-28  16:59:59  The current value of 1 DOGE in USD is: $0.3236...   \n",
       "1  2021-04-28  16:59:46  @OldManMitchell1 Agreed, many look at this met...   \n",
       "2  2021-04-28  16:59:41  @RomainLanery Le doge est un enfant de cœur à ...   \n",
       "3  2021-04-28  16:59:41  Ty @elonmusk!!! Learn how to pronounce it @mcu...   \n",
       "4  2021-04-28  16:59:39         Checking doge coin seeing if ur rich yet 👀   \n",
       "\n",
       "  language                                           mentions  replies_count  \\\n",
       "0       en                                                 []            0.0   \n",
       "1       en                                                 []            0.0   \n",
       "2       fr                                                 []            0.0   \n",
       "3       en  [{'screen_name': 'elonmusk', 'name': 'elon mus...            0.0   \n",
       "4       en                                                 []            1.0   \n",
       "\n",
       "   retweets_count  likes_count        hashtags  \n",
       "0             0.0          2.0    ['dogecoin']  \n",
       "1             0.0          1.0              []  \n",
       "2             0.0          2.0              []  \n",
       "3             0.0          2.0  ['dogefather']  \n",
       "4             1.0          8.0              []  "
      ]
     },
     "execution_count": 3,
     "metadata": {},
     "output_type": "execute_result"
    }
   ],
   "source": [
    "flt_data = tw_data.iloc[:,[4,5,11,12, 13, 16,17,18, 19]]\n",
    "flt_data.head()"
   ]
  },
  {
   "cell_type": "markdown",
   "id": "d47da33c",
   "metadata": {},
   "source": [
    "flt_data['date'] = pd.to_datetime(flt_data['date'], errors='coerce')\n",
    "flt_data['time'] = pd.to_datetime(flt_data['time'], errors='coerce')\n",
    "flt_data.info()"
   ]
  },
  {
   "cell_type": "markdown",
   "id": "857b8b7a",
   "metadata": {},
   "source": [
    "flt_data.isna().sum()"
   ]
  },
  {
   "cell_type": "code",
   "execution_count": null,
   "id": "5fdbf0aa",
   "metadata": {},
   "outputs": [],
   "source": []
  },
  {
   "cell_type": "code",
   "execution_count": 4,
   "id": "1914e567",
   "metadata": {},
   "outputs": [
    {
     "name": "stdout",
     "output_type": "stream",
     "text": [
      "<class 'pandas.core.frame.DataFrame'>\n",
      "Int64Index: 3662800 entries, 0 to 3670032\n",
      "Data columns (total 9 columns):\n",
      " #   Column          Dtype  \n",
      "---  ------          -----  \n",
      " 0   date            object \n",
      " 1   time            object \n",
      " 2   tweet           object \n",
      " 3   language        object \n",
      " 4   mentions        object \n",
      " 5   replies_count   float64\n",
      " 6   retweets_count  float64\n",
      " 7   likes_count     float64\n",
      " 8   hashtags        object \n",
      "dtypes: float64(3), object(6)\n",
      "memory usage: 279.4+ MB\n"
     ]
    }
   ],
   "source": [
    "drop_col = flt_data[flt_data[\"date\"].notna()]\n",
    "drop_col.info()"
   ]
  },
  {
   "cell_type": "code",
   "execution_count": 5,
   "id": "6e75f3b0",
   "metadata": {},
   "outputs": [],
   "source": [
    "drop_col[drop_col[\"language\"] == \"en\"].to_csv(\"cut_data.csv\")"
   ]
  },
  {
   "cell_type": "code",
   "execution_count": 6,
   "id": "9d8a2638",
   "metadata": {},
   "outputs": [
    {
     "data": {
      "text/html": [
       "<div>\n",
       "<style scoped>\n",
       "    .dataframe tbody tr th:only-of-type {\n",
       "        vertical-align: middle;\n",
       "    }\n",
       "\n",
       "    .dataframe tbody tr th {\n",
       "        vertical-align: top;\n",
       "    }\n",
       "\n",
       "    .dataframe thead th {\n",
       "        text-align: right;\n",
       "    }\n",
       "</style>\n",
       "<table border=\"1\" class=\"dataframe\">\n",
       "  <thead>\n",
       "    <tr style=\"text-align: right;\">\n",
       "      <th></th>\n",
       "      <th>Unnamed: 0</th>\n",
       "      <th>date</th>\n",
       "      <th>time</th>\n",
       "      <th>tweet</th>\n",
       "      <th>language</th>\n",
       "      <th>mentions</th>\n",
       "      <th>replies_count</th>\n",
       "      <th>retweets_count</th>\n",
       "      <th>likes_count</th>\n",
       "      <th>hashtags</th>\n",
       "    </tr>\n",
       "  </thead>\n",
       "  <tbody>\n",
       "    <tr>\n",
       "      <th>0</th>\n",
       "      <td>0</td>\n",
       "      <td>2021-04-28</td>\n",
       "      <td>16:59:59</td>\n",
       "      <td>The current value of 1 DOGE in USD is: $0.3236...</td>\n",
       "      <td>en</td>\n",
       "      <td>[]</td>\n",
       "      <td>0.0</td>\n",
       "      <td>0.0</td>\n",
       "      <td>2.0</td>\n",
       "      <td>['dogecoin']</td>\n",
       "    </tr>\n",
       "    <tr>\n",
       "      <th>1</th>\n",
       "      <td>1</td>\n",
       "      <td>2021-04-28</td>\n",
       "      <td>16:59:46</td>\n",
       "      <td>@OldManMitchell1 Agreed, many look at this met...</td>\n",
       "      <td>en</td>\n",
       "      <td>[]</td>\n",
       "      <td>0.0</td>\n",
       "      <td>0.0</td>\n",
       "      <td>1.0</td>\n",
       "      <td>[]</td>\n",
       "    </tr>\n",
       "    <tr>\n",
       "      <th>2</th>\n",
       "      <td>3</td>\n",
       "      <td>2021-04-28</td>\n",
       "      <td>16:59:41</td>\n",
       "      <td>Ty @elonmusk!!! Learn how to pronounce it @mcu...</td>\n",
       "      <td>en</td>\n",
       "      <td>[{'screen_name': 'elonmusk', 'name': 'elon mus...</td>\n",
       "      <td>0.0</td>\n",
       "      <td>0.0</td>\n",
       "      <td>2.0</td>\n",
       "      <td>['dogefather']</td>\n",
       "    </tr>\n",
       "    <tr>\n",
       "      <th>3</th>\n",
       "      <td>4</td>\n",
       "      <td>2021-04-28</td>\n",
       "      <td>16:59:39</td>\n",
       "      <td>Checking doge coin seeing if ur rich yet 👀</td>\n",
       "      <td>en</td>\n",
       "      <td>[]</td>\n",
       "      <td>1.0</td>\n",
       "      <td>1.0</td>\n",
       "      <td>8.0</td>\n",
       "      <td>[]</td>\n",
       "    </tr>\n",
       "    <tr>\n",
       "      <th>4</th>\n",
       "      <td>6</td>\n",
       "      <td>2021-04-28</td>\n",
       "      <td>16:59:35</td>\n",
       "      <td>@elonmusk @TeslaNY @Tesla Elon pump $Doge</td>\n",
       "      <td>en</td>\n",
       "      <td>[]</td>\n",
       "      <td>0.0</td>\n",
       "      <td>0.0</td>\n",
       "      <td>0.0</td>\n",
       "      <td>[]</td>\n",
       "    </tr>\n",
       "  </tbody>\n",
       "</table>\n",
       "</div>"
      ],
      "text/plain": [
       "   Unnamed: 0        date      time  \\\n",
       "0           0  2021-04-28  16:59:59   \n",
       "1           1  2021-04-28  16:59:46   \n",
       "2           3  2021-04-28  16:59:41   \n",
       "3           4  2021-04-28  16:59:39   \n",
       "4           6  2021-04-28  16:59:35   \n",
       "\n",
       "                                               tweet language  \\\n",
       "0  The current value of 1 DOGE in USD is: $0.3236...       en   \n",
       "1  @OldManMitchell1 Agreed, many look at this met...       en   \n",
       "2  Ty @elonmusk!!! Learn how to pronounce it @mcu...       en   \n",
       "3         Checking doge coin seeing if ur rich yet 👀       en   \n",
       "4          @elonmusk @TeslaNY @Tesla Elon pump $Doge       en   \n",
       "\n",
       "                                            mentions  replies_count  \\\n",
       "0                                                 []            0.0   \n",
       "1                                                 []            0.0   \n",
       "2  [{'screen_name': 'elonmusk', 'name': 'elon mus...            0.0   \n",
       "3                                                 []            1.0   \n",
       "4                                                 []            0.0   \n",
       "\n",
       "   retweets_count  likes_count        hashtags  \n",
       "0             0.0          2.0    ['dogecoin']  \n",
       "1             0.0          1.0              []  \n",
       "2             0.0          2.0  ['dogefather']  \n",
       "3             1.0          8.0              []  \n",
       "4             0.0          0.0              []  "
      ]
     },
     "execution_count": 6,
     "metadata": {},
     "output_type": "execute_result"
    }
   ],
   "source": [
    "tw_data_clean = pd.read_csv(\"cut_data.csv\")\n",
    "tw_data_clean.head()"
   ]
  },
  {
   "cell_type": "code",
   "execution_count": 7,
   "id": "b3c2b769",
   "metadata": {},
   "outputs": [
    {
     "data": {
      "text/plain": [
       "0.0      2143148\n",
       "1.0       513241\n",
       "2.0       111306\n",
       "3.0        37526\n",
       "4.0        18063\n",
       "          ...   \n",
       "440.0          1\n",
       "758.0          1\n",
       "636.0          1\n",
       "952.0          1\n",
       "427.0          1\n",
       "Name: replies_count, Length: 749, dtype: int64"
      ]
     },
     "execution_count": 7,
     "metadata": {},
     "output_type": "execute_result"
    }
   ],
   "source": [
    "tw_data_clean['replies_count'].value_counts()"
   ]
  },
  {
   "cell_type": "code",
   "execution_count": 8,
   "id": "9fd6496f",
   "metadata": {},
   "outputs": [
    {
     "data": {
      "text/plain": [
       "0.0       2272973\n",
       "1.0        314399\n",
       "2.0        105437\n",
       "3.0         50069\n",
       "4.0         29096\n",
       "           ...   \n",
       "1129.0          1\n",
       "2428.0          1\n",
       "1712.0          1\n",
       "725.0           1\n",
       "906.0           1\n",
       "Name: retweets_count, Length: 1327, dtype: int64"
      ]
     },
     "execution_count": 8,
     "metadata": {},
     "output_type": "execute_result"
    }
   ],
   "source": [
    "tw_data_clean['retweets_count'].value_counts()"
   ]
  },
  {
   "cell_type": "code",
   "execution_count": 9,
   "id": "af4c79b0",
   "metadata": {},
   "outputs": [
    {
     "data": {
      "text/plain": [
       "0.0        1228204\n",
       "1.0         622591\n",
       "2.0         310996\n",
       "3.0         177784\n",
       "4.0         113771\n",
       "            ...   \n",
       "11125.0          1\n",
       "3861.0           1\n",
       "1078.0           1\n",
       "4205.0           1\n",
       "12173.0          1\n",
       "Name: likes_count, Length: 2822, dtype: int64"
      ]
     },
     "execution_count": 9,
     "metadata": {},
     "output_type": "execute_result"
    }
   ],
   "source": [
    "tw_data_clean['likes_count'].value_counts()"
   ]
  },
  {
   "cell_type": "code",
   "execution_count": 10,
   "id": "a9594bff",
   "metadata": {},
   "outputs": [],
   "source": [
    "tw_data_clean = tw_data_clean[tw_data_clean['likes_count']>0]"
   ]
  },
  {
   "cell_type": "code",
   "execution_count": 11,
   "id": "f69d5b1e",
   "metadata": {},
   "outputs": [],
   "source": [
    "tw_data_clean = tw_data_clean[tw_data_clean['retweets_count']>0]"
   ]
  },
  {
   "cell_type": "code",
   "execution_count": 12,
   "id": "8fbb2ec0",
   "metadata": {},
   "outputs": [
    {
     "name": "stdout",
     "output_type": "stream",
     "text": [
      "<class 'pandas.core.frame.DataFrame'>\n",
      "Int64Index: 567526 entries, 3 to 2875058\n",
      "Data columns (total 10 columns):\n",
      " #   Column          Non-Null Count   Dtype  \n",
      "---  ------          --------------   -----  \n",
      " 0   Unnamed: 0      567526 non-null  int64  \n",
      " 1   date            567526 non-null  object \n",
      " 2   time            567526 non-null  object \n",
      " 3   tweet           567526 non-null  object \n",
      " 4   language        567526 non-null  object \n",
      " 5   mentions        567526 non-null  object \n",
      " 6   replies_count   567526 non-null  float64\n",
      " 7   retweets_count  567526 non-null  float64\n",
      " 8   likes_count     567526 non-null  float64\n",
      " 9   hashtags        567526 non-null  object \n",
      "dtypes: float64(3), int64(1), object(6)\n",
      "memory usage: 47.6+ MB\n"
     ]
    }
   ],
   "source": [
    "tw_data_clean.info()"
   ]
  },
  {
   "cell_type": "code",
   "execution_count": 13,
   "id": "290090b8",
   "metadata": {},
   "outputs": [],
   "source": [
    "tw_data_clean = tw_data_clean.iloc[:, 1:]"
   ]
  },
  {
   "cell_type": "code",
   "execution_count": 14,
   "id": "14fb4d43",
   "metadata": {},
   "outputs": [
    {
     "name": "stdout",
     "output_type": "stream",
     "text": [
      "<class 'pandas.core.frame.DataFrame'>\n",
      "Int64Index: 567526 entries, 3 to 2875058\n",
      "Data columns (total 9 columns):\n",
      " #   Column          Non-Null Count   Dtype  \n",
      "---  ------          --------------   -----  \n",
      " 0   date            567526 non-null  object \n",
      " 1   time            567526 non-null  object \n",
      " 2   tweet           567526 non-null  object \n",
      " 3   language        567526 non-null  object \n",
      " 4   mentions        567526 non-null  object \n",
      " 5   replies_count   567526 non-null  float64\n",
      " 6   retweets_count  567526 non-null  float64\n",
      " 7   likes_count     567526 non-null  float64\n",
      " 8   hashtags        567526 non-null  object \n",
      "dtypes: float64(3), object(6)\n",
      "memory usage: 43.3+ MB\n"
     ]
    }
   ],
   "source": [
    "tw_data_clean.info()"
   ]
  },
  {
   "cell_type": "code",
   "execution_count": 15,
   "id": "d137d254",
   "metadata": {},
   "outputs": [
    {
     "data": {
      "text/html": [
       "<div>\n",
       "<style scoped>\n",
       "    .dataframe tbody tr th:only-of-type {\n",
       "        vertical-align: middle;\n",
       "    }\n",
       "\n",
       "    .dataframe tbody tr th {\n",
       "        vertical-align: top;\n",
       "    }\n",
       "\n",
       "    .dataframe thead th {\n",
       "        text-align: right;\n",
       "    }\n",
       "</style>\n",
       "<table border=\"1\" class=\"dataframe\">\n",
       "  <thead>\n",
       "    <tr style=\"text-align: right;\">\n",
       "      <th></th>\n",
       "      <th>date</th>\n",
       "      <th>time</th>\n",
       "      <th>tweet</th>\n",
       "      <th>language</th>\n",
       "      <th>mentions</th>\n",
       "      <th>replies_count</th>\n",
       "      <th>retweets_count</th>\n",
       "      <th>likes_count</th>\n",
       "      <th>hashtags</th>\n",
       "    </tr>\n",
       "  </thead>\n",
       "  <tbody>\n",
       "    <tr>\n",
       "      <th>3</th>\n",
       "      <td>2021-04-28</td>\n",
       "      <td>16:59:39</td>\n",
       "      <td>Checking doge coin seeing if ur rich yet 👀</td>\n",
       "      <td>en</td>\n",
       "      <td>[]</td>\n",
       "      <td>1.0</td>\n",
       "      <td>1.0</td>\n",
       "      <td>8.0</td>\n",
       "      <td>[]</td>\n",
       "    </tr>\n",
       "    <tr>\n",
       "      <th>6</th>\n",
       "      <td>2021-04-28</td>\n",
       "      <td>16:59:31</td>\n",
       "      <td>Your so doge</td>\n",
       "      <td>en</td>\n",
       "      <td>[]</td>\n",
       "      <td>2.0</td>\n",
       "      <td>3.0</td>\n",
       "      <td>7.0</td>\n",
       "      <td>[]</td>\n",
       "    </tr>\n",
       "    <tr>\n",
       "      <th>7</th>\n",
       "      <td>2021-04-28</td>\n",
       "      <td>16:59:24</td>\n",
       "      <td>#DOGE Move Right Now 🐕💹🚀  Follow The best Chan...</td>\n",
       "      <td>en</td>\n",
       "      <td>[]</td>\n",
       "      <td>31.0</td>\n",
       "      <td>18.0</td>\n",
       "      <td>175.0</td>\n",
       "      <td>['doge', 'telegram']</td>\n",
       "    </tr>\n",
       "    <tr>\n",
       "      <th>11</th>\n",
       "      <td>2021-04-28</td>\n",
       "      <td>16:59:12</td>\n",
       "      <td>@Seeker_Good 1000x for all dogseason coins  $s...</td>\n",
       "      <td>en</td>\n",
       "      <td>[]</td>\n",
       "      <td>0.0</td>\n",
       "      <td>1.0</td>\n",
       "      <td>1.0</td>\n",
       "      <td>[]</td>\n",
       "    </tr>\n",
       "    <tr>\n",
       "      <th>13</th>\n",
       "      <td>2021-04-28</td>\n",
       "      <td>16:59:04</td>\n",
       "      <td>Oh and by the way, we've just burned over 2897...</td>\n",
       "      <td>en</td>\n",
       "      <td>[]</td>\n",
       "      <td>74.0</td>\n",
       "      <td>179.0</td>\n",
       "      <td>342.0</td>\n",
       "      <td>['memecoin', 'solana', 'solsummer', 'solszn', ...</td>\n",
       "    </tr>\n",
       "  </tbody>\n",
       "</table>\n",
       "</div>"
      ],
      "text/plain": [
       "          date      time                                              tweet  \\\n",
       "3   2021-04-28  16:59:39         Checking doge coin seeing if ur rich yet 👀   \n",
       "6   2021-04-28  16:59:31                                       Your so doge   \n",
       "7   2021-04-28  16:59:24  #DOGE Move Right Now 🐕💹🚀  Follow The best Chan...   \n",
       "11  2021-04-28  16:59:12  @Seeker_Good 1000x for all dogseason coins  $s...   \n",
       "13  2021-04-28  16:59:04  Oh and by the way, we've just burned over 2897...   \n",
       "\n",
       "   language mentions  replies_count  retweets_count  likes_count  \\\n",
       "3        en       []            1.0             1.0          8.0   \n",
       "6        en       []            2.0             3.0          7.0   \n",
       "7        en       []           31.0            18.0        175.0   \n",
       "11       en       []            0.0             1.0          1.0   \n",
       "13       en       []           74.0           179.0        342.0   \n",
       "\n",
       "                                             hashtags  \n",
       "3                                                  []  \n",
       "6                                                  []  \n",
       "7                                ['doge', 'telegram']  \n",
       "11                                                 []  \n",
       "13  ['memecoin', 'solana', 'solsummer', 'solszn', ...  "
      ]
     },
     "execution_count": 15,
     "metadata": {},
     "output_type": "execute_result"
    }
   ],
   "source": [
    "tw_data_clean.head()"
   ]
  },
  {
   "cell_type": "code",
   "execution_count": 16,
   "id": "d4142db8",
   "metadata": {},
   "outputs": [
    {
     "name": "stdout",
     "output_type": "stream",
     "text": [
      "<class 'pandas.core.frame.DataFrame'>\n",
      "Int64Index: 567526 entries, 3 to 2875058\n",
      "Data columns (total 9 columns):\n",
      " #   Column          Non-Null Count   Dtype         \n",
      "---  ------          --------------   -----         \n",
      " 0   date            567526 non-null  object        \n",
      " 1   time            567526 non-null  object        \n",
      " 2   date_final      567526 non-null  datetime64[ns]\n",
      " 3   tweet           567526 non-null  object        \n",
      " 4   mentions        567526 non-null  object        \n",
      " 5   replies_count   567526 non-null  float64       \n",
      " 6   retweets_count  567526 non-null  float64       \n",
      " 7   likes_count     567526 non-null  float64       \n",
      " 8   hashtags        567526 non-null  object        \n",
      "dtypes: datetime64[ns](1), float64(3), object(5)\n",
      "memory usage: 43.3+ MB\n"
     ]
    }
   ],
   "source": [
    "tw_data_clean['date_final'] = tw_data_clean['date'] + \" \" + tw_data_clean['time']\n",
    "tw_data_clean = tw_data_clean[['date','time','date_final','tweet','mentions','replies_count','retweets_count','likes_count','hashtags']]\n",
    "tw_data_clean['date_final'] = pd.to_datetime(tw_data_clean['date_final'], errors='coerce')\n",
    "tw_data_clean.head()\n",
    "tw_data_clean.info()"
   ]
  },
  {
   "cell_type": "code",
   "execution_count": null,
   "id": "47cae22c",
   "metadata": {},
   "outputs": [],
   "source": [
    "tw_data_clean.to_csv(\"tw_data_short.csv\", index=False)"
   ]
  }
 ],
 "metadata": {
  "kernelspec": {
   "display_name": "Python 3 (ipykernel)",
   "language": "python",
   "name": "python3"
  },
  "language_info": {
   "codemirror_mode": {
    "name": "ipython",
    "version": 3
   },
   "file_extension": ".py",
   "mimetype": "text/x-python",
   "name": "python",
   "nbconvert_exporter": "python",
   "pygments_lexer": "ipython3",
   "version": "3.9.13"
  }
 },
 "nbformat": 4,
 "nbformat_minor": 5
}
