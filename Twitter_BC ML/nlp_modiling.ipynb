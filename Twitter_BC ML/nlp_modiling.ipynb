{
 "cells": [
  {
   "cell_type": "code",
   "execution_count": 1,
   "id": "50d234a3",
   "metadata": {},
   "outputs": [],
   "source": [
    "import numpy as np\n",
    "import pandas as pd\n",
    "import matplotlib.pyplot as plt\n",
    "import seaborn as sns\n",
    "import re\n",
    "from imblearn.under_sampling import RandomUnderSampler\n",
    "from sklearn.model_selection import train_test_split"
   ]
  },
  {
   "cell_type": "code",
   "execution_count": 4,
   "id": "3dee0171",
   "metadata": {},
   "outputs": [],
   "source": [
    "all_data = pd.read_csv(\"data/all_data_m.csv\")"
   ]
  },
  {
   "cell_type": "code",
   "execution_count": 5,
   "id": "78cf9cc2",
   "metadata": {},
   "outputs": [
    {
     "data": {
      "text/plain": [
       "time                2021-01-02\n",
       "time.1                       6\n",
       "replies_count_t           18.0\n",
       "retweets_count_t          23.0\n",
       "top_tw_t                   2.0\n",
       "                       ...    \n",
       "open                  0.007216\n",
       "high                  0.007349\n",
       "low                   0.006674\n",
       "tv                          -5\n",
       "Volume              60681934.0\n",
       "Name: 5, Length: 407, dtype: object"
      ]
     },
     "execution_count": 5,
     "metadata": {},
     "output_type": "execute_result"
    }
   ],
   "source": [
    "all_data.iloc[5]"
   ]
  },
  {
   "cell_type": "code",
   "execution_count": 6,
   "id": "068d7b54",
   "metadata": {},
   "outputs": [
    {
     "data": {
      "text/plain": [
       " 0    377\n",
       " 5    375\n",
       "-5    330\n",
       "-2    302\n",
       " 2    290\n",
       " 1    282\n",
       "-1    264\n",
       "-3    212\n",
       " 3    150\n",
       " 4    112\n",
       "-4    104\n",
       "Name: tv, dtype: int64"
      ]
     },
     "execution_count": 6,
     "metadata": {},
     "output_type": "execute_result"
    }
   ],
   "source": [
    "all_data[\"tv\"].value_counts()"
   ]
  },
  {
   "cell_type": "code",
   "execution_count": 7,
   "id": "e0af292c",
   "metadata": {},
   "outputs": [],
   "source": [
    "all_data = all_data.iloc[:,2:-1].apply(pd.to_numeric)"
   ]
  },
  {
   "cell_type": "code",
   "execution_count": 8,
   "id": "6eb531c6",
   "metadata": {},
   "outputs": [],
   "source": [
    "X = all_data.drop(columns='tv')\n",
    "y = all_data['tv']"
   ]
  },
  {
   "cell_type": "code",
   "execution_count": 9,
   "id": "3a5918b8",
   "metadata": {},
   "outputs": [],
   "source": [
    "X_train, X_test, y_train, y_test = train_test_split(X, y, test_size=0.30, random_state=42)\n",
    "\n",
    "X_train = pd.DataFrame(X_train, columns=X.columns)\n",
    "X_test  = pd.DataFrame(X_test, columns=X.columns)\n",
    "\n",
    "y_train = pd.DataFrame(y_train, columns =['tv'])\n",
    "y_test  = pd.DataFrame(y_test, columns =['tv'])"
   ]
  },
  {
   "cell_type": "code",
   "execution_count": 10,
   "id": "f41a7d37",
   "metadata": {},
   "outputs": [
    {
     "data": {
      "text/plain": [
       " 5    276\n",
       " 0    272\n",
       "-5    229\n",
       "-2    209\n",
       " 1    199\n",
       " 2    197\n",
       "-1    179\n",
       "-3    141\n",
       " 3    104\n",
       " 4     83\n",
       "-4     69\n",
       "Name: tv, dtype: int64"
      ]
     },
     "execution_count": 10,
     "metadata": {},
     "output_type": "execute_result"
    }
   ],
   "source": [
    "y_train[\"tv\"].value_counts()"
   ]
  },
  {
   "cell_type": "code",
   "execution_count": 11,
   "id": "093a75d5",
   "metadata": {},
   "outputs": [
    {
     "data": {
      "text/plain": [
       "<AxesSubplot:xlabel='tv', ylabel='count'>"
      ]
     },
     "execution_count": 11,
     "metadata": {},
     "output_type": "execute_result"
    },
    {
     "data": {
      "image/png": "[encoded data removed]",
      "text/plain": [
       "<Figure size 432x288 with 1 Axes>"
      ]
     },
     "metadata": {
      "needs_background": "light"
     },
     "output_type": "display_data"
    }
   ],
   "source": [
    "sns.countplot(x=y_train['tv'])"
   ]
  },
  {
   "cell_type": "code",
   "execution_count": 12,
   "id": "420dc3ae",
   "metadata": {},
   "outputs": [
    {
     "data": {
      "text/plain": [
       " 0    377\n",
       " 5    375\n",
       "-5    330\n",
       "-2    302\n",
       " 2    290\n",
       " 1    282\n",
       "-1    264\n",
       "-3    212\n",
       " 3    150\n",
       " 4    112\n",
       "-4    104\n",
       "Name: tv, dtype: int64"
      ]
     },
     "execution_count": 12,
     "metadata": {},
     "output_type": "execute_result"
    }
   ],
   "source": [
    "from imblearn.over_sampling import SMOTE\n",
    "smote = SMOTE()\n",
    "X_sm, y_sm = smote.fit_resample(X_train, y_train)\n",
    "y.value_counts()"
   ]
  },
  {
   "cell_type": "code",
   "execution_count": 13,
   "id": "f957a92f",
   "metadata": {},
   "outputs": [
    {
     "name": "stdout",
     "output_type": "stream",
     "text": [
      "Lasso: Train -> 0.30662856793395865, Test -> -0.6011184220051657\n"
     ]
    },
    {
     "name": "stderr",
     "output_type": "stream",
     "text": [
      "/Users/kirilltiufanov/opt/anaconda3/lib/python3.9/site-packages/sklearn/linear_model/_coordinate_descent.py:648: ConvergenceWarning: Objective did not converge. You might want to increase the number of iterations, check the scale of the features or consider increasing regularisation. Duality gap: 1.085e+04, tolerance: 3.036e+00\n",
      "  model = cd_fast.enet_coordinate_descent(\n"
     ]
    }
   ],
   "source": [
    "#feature filtering\n",
    "\n",
    "from sklearn.linear_model import Lasso,Ridge,ElasticNet\n",
    "model=Lasso(alpha=0.002)\n",
    "\n",
    "model.fit(X_sm, y_sm)\n",
    "print(f\"{model.__class__.__name__}: Train -> {model.score(X_sm, y_sm)}, Test -> {model.score(X_test, y_test)}\")\n"
   ]
  },
  {
   "cell_type": "code",
   "execution_count": 14,
   "id": "3508698d",
   "metadata": {},
   "outputs": [
    {
     "name": "stdout",
     "output_type": "stream",
     "text": [
      "Ridge: Train -> 0.30843119960153786, Test -> -0.6243317774347945\n"
     ]
    }
   ],
   "source": [
    "model=Ridge(alpha=10)\n",
    "model.fit(X_sm, y_sm)\n",
    "print(f\"{model.__class__.__name__}: Train -> {model.score(X_sm, y_sm)}, Test -> {model.score(X_test, y_test)}\")\n",
    "\n",
    "\n",
    "     "
   ]
  },
  {
   "cell_type": "code",
   "execution_count": 15,
   "id": "2f1fb3e3",
   "metadata": {},
   "outputs": [
    {
     "name": "stdout",
     "output_type": "stream",
     "text": [
      "ElasticNet: Train -> 0.31047567142528687, Test -> -0.643836175683989\n"
     ]
    },
    {
     "name": "stderr",
     "output_type": "stream",
     "text": [
      "/Users/kirilltiufanov/opt/anaconda3/lib/python3.9/site-packages/sklearn/linear_model/_coordinate_descent.py:648: ConvergenceWarning: Objective did not converge. You might want to increase the number of iterations, check the scale of the features or consider increasing regularisation. Duality gap: 1.060e+04, tolerance: 3.036e+00\n",
      "  model = cd_fast.enet_coordinate_descent(\n"
     ]
    }
   ],
   "source": [
    "model=ElasticNet(alpha=0.001)\n",
    "model.fit(X_sm, y_sm)\n",
    "print(f\"{model.__class__.__name__}: Train -> {model.score(X_sm, y_sm)}, Test -> {model.score(X_test, y_test)}\")\n"
   ]
  },
  {
   "cell_type": "code",
   "execution_count": 16,
   "id": "3ef01727",
   "metadata": {},
   "outputs": [
    {
     "data": {
      "text/html": [
       "<style>#sk-container-id-1 {color: black;background-color: white;}#sk-container-id-1 pre{padding: 0;}#sk-container-id-1 div.sk-toggleable {background-color: white;}#sk-container-id-1 label.sk-toggleable__label {cursor: pointer;display: block;width: 100%;margin-bottom: 0;padding: 0.3em;box-sizing: border-box;text-align: center;}#sk-container-id-1 label.sk-toggleable__label-arrow:before {content: \"▸\";float: left;margin-right: 0.25em;color: #696969;}#sk-container-id-1 label.sk-toggleable__label-arrow:hover:before {color: black;}#sk-container-id-1 div.sk-estimator:hover label.sk-toggleable__label-arrow:before {color: black;}#sk-container-id-1 div.sk-toggleable__content {max-height: 0;max-width: 0;overflow: hidden;text-align: left;background-color: #f0f8ff;}#sk-container-id-1 div.sk-toggleable__content pre {margin: 0.2em;color: black;border-radius: 0.25em;background-color: #f0f8ff;}#sk-container-id-1 input.sk-toggleable__control:checked~div.sk-toggleable__content {max-height: 200px;max-width: 100%;overflow: auto;}#sk-container-id-1 input.sk-toggleable__control:checked~label.sk-toggleable__label-arrow:before {content: \"▾\";}#sk-container-id-1 div.sk-estimator input.sk-toggleable__control:checked~label.sk-toggleable__label {background-color: #d4ebff;}#sk-container-id-1 div.sk-label input.sk-toggleable__control:checked~label.sk-toggleable__label {background-color: #d4ebff;}#sk-container-id-1 input.sk-hidden--visually {border: 0;clip: rect(1px 1px 1px 1px);clip: rect(1px, 1px, 1px, 1px);height: 1px;margin: -1px;overflow: hidden;padding: 0;position: absolute;width: 1px;}#sk-container-id-1 div.sk-estimator {font-family: monospace;background-color: #f0f8ff;border: 1px dotted black;border-radius: 0.25em;box-sizing: border-box;margin-bottom: 0.5em;}#sk-container-id-1 div.sk-estimator:hover {background-color: #d4ebff;}#sk-container-id-1 div.sk-parallel-item::after {content: \"\";width: 100%;border-bottom: 1px solid gray;flex-grow: 1;}#sk-container-id-1 div.sk-label:hover label.sk-toggleable__label {background-color: #d4ebff;}#sk-container-id-1 div.sk-serial::before {content: \"\";position: absolute;border-left: 1px solid gray;box-sizing: border-box;top: 0;bottom: 0;left: 50%;z-index: 0;}#sk-container-id-1 div.sk-serial {display: flex;flex-direction: column;align-items: center;background-color: white;padding-right: 0.2em;padding-left: 0.2em;position: relative;}#sk-container-id-1 div.sk-item {position: relative;z-index: 1;}#sk-container-id-1 div.sk-parallel {display: flex;align-items: stretch;justify-content: center;background-color: white;position: relative;}#sk-container-id-1 div.sk-item::before, #sk-container-id-1 div.sk-parallel-item::before {content: \"\";position: absolute;border-left: 1px solid gray;box-sizing: border-box;top: 0;bottom: 0;left: 50%;z-index: -1;}#sk-container-id-1 div.sk-parallel-item {display: flex;flex-direction: column;z-index: 1;position: relative;background-color: white;}#sk-container-id-1 div.sk-parallel-item:first-child::after {align-self: flex-end;width: 50%;}#sk-container-id-1 div.sk-parallel-item:last-child::after {align-self: flex-start;width: 50%;}#sk-container-id-1 div.sk-parallel-item:only-child::after {width: 0;}#sk-container-id-1 div.sk-dashed-wrapped {border: 1px dashed gray;margin: 0 0.4em 0.5em 0.4em;box-sizing: border-box;padding-bottom: 0.4em;background-color: white;}#sk-container-id-1 div.sk-label label {font-family: monospace;font-weight: bold;display: inline-block;line-height: 1.2em;}#sk-container-id-1 div.sk-label-container {text-align: center;}#sk-container-id-1 div.sk-container {/* jupyter's `normalize.less` sets `[hidden] { display: none; }` but bootstrap.min.css set `[hidden] { display: none !important; }` so we also need the `!important` here to be able to override the default hidden behavior on the sphinx rendered scikit-learn.org. See: https://github.com/scikit-learn/scikit-learn/issues/21755 */display: inline-block !important;position: relative;}#sk-container-id-1 div.sk-text-repr-fallback {display: none;}</style><div id=\"sk-container-id-1\" class=\"sk-top-container\"><div class=\"sk-text-repr-fallback\"><pre>RandomForestClassifier()</pre><b>In a Jupyter environment, please rerun this cell to show the HTML representation or trust the notebook. <br />On GitHub, the HTML representation is unable to render, please try loading this page with nbviewer.org.</b></div><div class=\"sk-container\" hidden><div class=\"sk-item\"><div class=\"sk-estimator sk-toggleable\"><input class=\"sk-toggleable__control sk-hidden--visually\" id=\"sk-estimator-id-1\" type=\"checkbox\" checked><label for=\"sk-estimator-id-1\" class=\"sk-toggleable__label sk-toggleable__label-arrow\">RandomForestClassifier</label><div class=\"sk-toggleable__content\"><pre>RandomForestClassifier()</pre></div></div></div></div></div>"
      ],
      "text/plain": [
       "RandomForestClassifier()"
      ]
     },
     "execution_count": 16,
     "metadata": {},
     "output_type": "execute_result"
    }
   ],
   "source": [
    "from sklearn.ensemble import RandomForestClassifier\n",
    "from sklearn.naive_bayes import CategoricalNB\n",
    "nb = CategoricalNB()\n",
    "rf = RandomForestClassifier()\n",
    "\n",
    "nb.fit(X_sm, y_sm['tv'])\n",
    "rf.fit(X_sm, y_sm['tv'])"
   ]
  },
  {
   "cell_type": "code",
   "execution_count": 17,
   "id": "8e0553df",
   "metadata": {},
   "outputs": [],
   "source": [
    "y_train_res_pred_rf = rf.predict(X_sm)\n",
    "y_test_pred_rf      = rf.predict(X_test)"
   ]
  },
  {
   "cell_type": "code",
   "execution_count": 18,
   "id": "e308b567",
   "metadata": {},
   "outputs": [],
   "source": [
    "def model_performance_class(y_train, y_pred_train, y_test, y_pred_test):\n",
    "\n",
    "    from sklearn.metrics import cohen_kappa_score, classification_report \n",
    "\n",
    "\n",
    "    print(\"Results obtained for the TRAIN SET\")\n",
    "    print(\"==================================\")\n",
    "    print(\"The Cohen's Kappa is: {:.2f}\".format(cohen_kappa_score(y_train, y_pred_train)))\n",
    "    print(classification_report(y_train, y_pred_train))\n",
    "    print(\"==================================\")\n",
    "    print(\"Results obtained for the TEST SET\")\n",
    "    print(\"The Cohen's Kappa is: {:.2f}\".format(cohen_kappa_score(y_test, y_pred_test)))\n",
    "    print(classification_report(y_test, y_pred_test))\n"
   ]
  },
  {
   "cell_type": "code",
   "execution_count": 19,
   "id": "16a4a258",
   "metadata": {},
   "outputs": [
    {
     "name": "stdout",
     "output_type": "stream",
     "text": [
      "Results obtained for the TRAIN SET\n",
      "==================================\n",
      "The Cohen's Kappa is: 1.00\n",
      "              precision    recall  f1-score   support\n",
      "\n",
      "          -5       1.00      1.00      1.00       276\n",
      "          -4       1.00      1.00      1.00       276\n",
      "          -3       1.00      1.00      1.00       276\n",
      "          -2       1.00      1.00      1.00       276\n",
      "          -1       1.00      1.00      1.00       276\n",
      "           0       1.00      1.00      1.00       276\n",
      "           1       1.00      1.00      1.00       276\n",
      "           2       1.00      1.00      1.00       276\n",
      "           3       1.00      1.00      1.00       276\n",
      "           4       1.00      1.00      1.00       276\n",
      "           5       1.00      1.00      1.00       276\n",
      "\n",
      "    accuracy                           1.00      3036\n",
      "   macro avg       1.00      1.00      1.00      3036\n",
      "weighted avg       1.00      1.00      1.00      3036\n",
      "\n",
      "==================================\n",
      "Results obtained for the TEST SET\n",
      "The Cohen's Kappa is: 0.06\n",
      "              precision    recall  f1-score   support\n",
      "\n",
      "          -5       0.25      0.29      0.27       101\n",
      "          -4       0.08      0.06      0.07        35\n",
      "          -3       0.12      0.07      0.09        71\n",
      "          -2       0.06      0.08      0.07        93\n",
      "          -1       0.17      0.19      0.18        85\n",
      "           0       0.17      0.20      0.18       105\n",
      "           1       0.16      0.19      0.18        83\n",
      "           2       0.09      0.06      0.08        93\n",
      "           3       0.10      0.04      0.06        46\n",
      "           4       0.00      0.00      0.00        29\n",
      "           5       0.28      0.34      0.31        99\n",
      "\n",
      "    accuracy                           0.16       840\n",
      "   macro avg       0.14      0.14      0.13       840\n",
      "weighted avg       0.15      0.16      0.16       840\n",
      "\n"
     ]
    }
   ],
   "source": [
    "model_performance_class(y_sm, y_train_res_pred_rf, y_test, y_test_pred_rf)"
   ]
  }
 ],
 "metadata": {
  "kernelspec": {
   "display_name": "Python 3 (ipykernel)",
   "language": "python",
   "name": "python3"
  },
  "language_info": {
   "codemirror_mode": {
    "name": "ipython",
    "version": 3
   },
   "file_extension": ".py",
   "mimetype": "text/x-python",
   "name": "python",
   "nbconvert_exporter": "python",
   "pygments_lexer": "ipython3",
   "version": "3.9.12"
  }
 },
 "nbformat": 4,
 "nbformat_minor": 5
}
