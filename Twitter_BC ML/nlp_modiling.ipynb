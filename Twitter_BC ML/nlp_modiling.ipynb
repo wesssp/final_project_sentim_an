{
 "cells": [
  {
   "cell_type": "code",
   "execution_count": 1,
   "id": "50d234a3",
   "metadata": {},
   "outputs": [],
   "source": [
    "import numpy as np\n",
    "import pandas as pd\n",
    "import matplotlib.pyplot as plt\n",
    "import seaborn as sns\n",
    "import re\n",
    "from imblearn.under_sampling import RandomUnderSampler\n",
    "from sklearn.model_selection import train_test_split"
   ]
  },
  {
   "cell_type": "code",
   "execution_count": 2,
   "id": "3dee0171",
   "metadata": {},
   "outputs": [
    {
     "data": {
      "text/html": [
       "<div>\n",
       "<style scoped>\n",
       "    .dataframe tbody tr th:only-of-type {\n",
       "        vertical-align: middle;\n",
       "    }\n",
       "\n",
       "    .dataframe tbody tr th {\n",
       "        vertical-align: top;\n",
       "    }\n",
       "\n",
       "    .dataframe thead th {\n",
       "        text-align: right;\n",
       "    }\n",
       "</style>\n",
       "<table border=\"1\" class=\"dataframe\">\n",
       "  <thead>\n",
       "    <tr style=\"text-align: right;\">\n",
       "      <th></th>\n",
       "      <th>time</th>\n",
       "      <th>time.1</th>\n",
       "      <th>replies_count</th>\n",
       "      <th>retweets_count</th>\n",
       "      <th>top_tw</th>\n",
       "      <th>likes_count</th>\n",
       "      <th>dogecoin</th>\n",
       "      <th>dogearmy</th>\n",
       "      <th>elonmusk</th>\n",
       "      <th>buy</th>\n",
       "      <th>...</th>\n",
       "      <th>big</th>\n",
       "      <th>got</th>\n",
       "      <th>dogeto</th>\n",
       "      <th>dip</th>\n",
       "      <th>wallet</th>\n",
       "      <th>open</th>\n",
       "      <th>high</th>\n",
       "      <th>low</th>\n",
       "      <th>tv</th>\n",
       "      <th>Volume</th>\n",
       "    </tr>\n",
       "  </thead>\n",
       "  <tbody>\n",
       "    <tr>\n",
       "      <th>0</th>\n",
       "      <td>2021-01-02</td>\n",
       "      <td>1</td>\n",
       "      <td>17.0</td>\n",
       "      <td>34.0</td>\n",
       "      <td>0</td>\n",
       "      <td>149.0</td>\n",
       "      <td>5</td>\n",
       "      <td>0</td>\n",
       "      <td>1</td>\n",
       "      <td>1</td>\n",
       "      <td>...</td>\n",
       "      <td>0</td>\n",
       "      <td>1</td>\n",
       "      <td>0</td>\n",
       "      <td>0</td>\n",
       "      <td>0</td>\n",
       "      <td>0.005818</td>\n",
       "      <td>0.005854</td>\n",
       "      <td>0.005564</td>\n",
       "      <td>-3</td>\n",
       "      <td>11123815.0</td>\n",
       "    </tr>\n",
       "    <tr>\n",
       "      <th>1</th>\n",
       "      <td>2021-01-02</td>\n",
       "      <td>2</td>\n",
       "      <td>8.0</td>\n",
       "      <td>90.0</td>\n",
       "      <td>0</td>\n",
       "      <td>70.0</td>\n",
       "      <td>5</td>\n",
       "      <td>0</td>\n",
       "      <td>1</td>\n",
       "      <td>1</td>\n",
       "      <td>...</td>\n",
       "      <td>0</td>\n",
       "      <td>0</td>\n",
       "      <td>0</td>\n",
       "      <td>0</td>\n",
       "      <td>3</td>\n",
       "      <td>0.005754</td>\n",
       "      <td>0.006431</td>\n",
       "      <td>0.005701</td>\n",
       "      <td>5</td>\n",
       "      <td>32955177.0</td>\n",
       "    </tr>\n",
       "    <tr>\n",
       "      <th>2</th>\n",
       "      <td>2021-01-02</td>\n",
       "      <td>3</td>\n",
       "      <td>9.0</td>\n",
       "      <td>43.0</td>\n",
       "      <td>0</td>\n",
       "      <td>133.0</td>\n",
       "      <td>8</td>\n",
       "      <td>0</td>\n",
       "      <td>0</td>\n",
       "      <td>0</td>\n",
       "      <td>...</td>\n",
       "      <td>2</td>\n",
       "      <td>0</td>\n",
       "      <td>0</td>\n",
       "      <td>0</td>\n",
       "      <td>0</td>\n",
       "      <td>0.006353</td>\n",
       "      <td>0.006791</td>\n",
       "      <td>0.006066</td>\n",
       "      <td>5</td>\n",
       "      <td>108807546.0</td>\n",
       "    </tr>\n",
       "    <tr>\n",
       "      <th>3</th>\n",
       "      <td>2021-01-02</td>\n",
       "      <td>4</td>\n",
       "      <td>32.0</td>\n",
       "      <td>109.0</td>\n",
       "      <td>0</td>\n",
       "      <td>277.0</td>\n",
       "      <td>11</td>\n",
       "      <td>0</td>\n",
       "      <td>4</td>\n",
       "      <td>0</td>\n",
       "      <td>...</td>\n",
       "      <td>0</td>\n",
       "      <td>0</td>\n",
       "      <td>0</td>\n",
       "      <td>0</td>\n",
       "      <td>4</td>\n",
       "      <td>0.006670</td>\n",
       "      <td>0.007981</td>\n",
       "      <td>0.006654</td>\n",
       "      <td>5</td>\n",
       "      <td>166272032.0</td>\n",
       "    </tr>\n",
       "    <tr>\n",
       "      <th>4</th>\n",
       "      <td>2021-01-02</td>\n",
       "      <td>5</td>\n",
       "      <td>28.0</td>\n",
       "      <td>90.0</td>\n",
       "      <td>1</td>\n",
       "      <td>382.0</td>\n",
       "      <td>3</td>\n",
       "      <td>0</td>\n",
       "      <td>0</td>\n",
       "      <td>2</td>\n",
       "      <td>...</td>\n",
       "      <td>0</td>\n",
       "      <td>0</td>\n",
       "      <td>0</td>\n",
       "      <td>0</td>\n",
       "      <td>0</td>\n",
       "      <td>0.007756</td>\n",
       "      <td>0.007776</td>\n",
       "      <td>0.006965</td>\n",
       "      <td>-5</td>\n",
       "      <td>90792179.0</td>\n",
       "    </tr>\n",
       "  </tbody>\n",
       "</table>\n",
       "<p>5 rows × 109 columns</p>\n",
       "</div>"
      ],
      "text/plain": [
       "         time  time.1  replies_count  retweets_count  top_tw  likes_count  \\\n",
       "0  2021-01-02       1           17.0            34.0       0        149.0   \n",
       "1  2021-01-02       2            8.0            90.0       0         70.0   \n",
       "2  2021-01-02       3            9.0            43.0       0        133.0   \n",
       "3  2021-01-02       4           32.0           109.0       0        277.0   \n",
       "4  2021-01-02       5           28.0            90.0       1        382.0   \n",
       "\n",
       "   dogecoin  dogearmy  elonmusk  buy  ...  big  got  dogeto  dip  wallet  \\\n",
       "0         5         0         1    1  ...    0    1       0    0       0   \n",
       "1         5         0         1    1  ...    0    0       0    0       3   \n",
       "2         8         0         0    0  ...    2    0       0    0       0   \n",
       "3        11         0         4    0  ...    0    0       0    0       4   \n",
       "4         3         0         0    2  ...    0    0       0    0       0   \n",
       "\n",
       "       open      high       low  tv       Volume  \n",
       "0  0.005818  0.005854  0.005564  -3   11123815.0  \n",
       "1  0.005754  0.006431  0.005701   5   32955177.0  \n",
       "2  0.006353  0.006791  0.006066   5  108807546.0  \n",
       "3  0.006670  0.007981  0.006654   5  166272032.0  \n",
       "4  0.007756  0.007776  0.006965  -5   90792179.0  \n",
       "\n",
       "[5 rows x 109 columns]"
      ]
     },
     "execution_count": 2,
     "metadata": {},
     "output_type": "execute_result"
    }
   ],
   "source": [
    "all_data = pd.read_csv(\"data/all_data_m.csv\")\n",
    "all_data.head()"
   ]
  },
  {
   "cell_type": "code",
   "execution_count": 15,
   "id": "068d7b54",
   "metadata": {},
   "outputs": [
    {
     "data": {
      "text/plain": [
       " 0    377\n",
       " 5    375\n",
       "-5    330\n",
       "-2    302\n",
       " 2    290\n",
       " 1    282\n",
       "-1    264\n",
       "-3    212\n",
       " 3    150\n",
       " 4    112\n",
       "-4    104\n",
       "Name: tv, dtype: int64"
      ]
     },
     "execution_count": 15,
     "metadata": {},
     "output_type": "execute_result"
    }
   ],
   "source": [
    "all_data[\"tv\"].value_counts()"
   ]
  },
  {
   "cell_type": "code",
   "execution_count": 3,
   "id": "e0af292c",
   "metadata": {},
   "outputs": [],
   "source": [
    "all_data = all_data.iloc[:,2:-1].apply(pd.to_numeric)"
   ]
  },
  {
   "cell_type": "code",
   "execution_count": 4,
   "id": "6eb531c6",
   "metadata": {},
   "outputs": [],
   "source": [
    "X = all_data.drop(columns='tv')\n",
    "y = all_data['tv']"
   ]
  },
  {
   "cell_type": "code",
   "execution_count": 5,
   "id": "3a5918b8",
   "metadata": {},
   "outputs": [],
   "source": [
    "X_train, X_test, y_train, y_test = train_test_split(X, y, test_size=0.30, random_state=42)\n",
    "\n",
    "X_train = pd.DataFrame(X_train, columns=X.columns)\n",
    "X_test  = pd.DataFrame(X_test, columns=X.columns)\n",
    "\n",
    "y_train = pd.DataFrame(y_train, columns =['tv'])\n",
    "y_test  = pd.DataFrame(y_test, columns =['tv'])"
   ]
  },
  {
   "cell_type": "code",
   "execution_count": 18,
   "id": "f41a7d37",
   "metadata": {},
   "outputs": [
    {
     "data": {
      "text/plain": [
       " 5    276\n",
       " 0    272\n",
       "-5    229\n",
       "-2    209\n",
       " 1    199\n",
       " 2    197\n",
       "-1    179\n",
       "-3    141\n",
       " 3    104\n",
       " 4     83\n",
       "-4     69\n",
       "Name: tv, dtype: int64"
      ]
     },
     "execution_count": 18,
     "metadata": {},
     "output_type": "execute_result"
    }
   ],
   "source": [
    "y_train[\"tv\"].value_counts()"
   ]
  },
  {
   "cell_type": "code",
   "execution_count": 6,
   "id": "093a75d5",
   "metadata": {},
   "outputs": [
    {
     "data": {
      "text/plain": [
       "<AxesSubplot:xlabel='tv', ylabel='count'>"
      ]
     },
     "execution_count": 6,
     "metadata": {},
     "output_type": "execute_result"
    },
    {
     "data": {
      "image/png": "[encoded data removed]",
      "text/plain": [
       "<Figure size 432x288 with 1 Axes>"
      ]
     },
     "metadata": {
      "needs_background": "light"
     },
     "output_type": "display_data"
    }
   ],
   "source": [
    "sns.countplot(x=y_train['tv'])"
   ]
  },
  {
   "cell_type": "code",
   "execution_count": 20,
   "id": "420dc3ae",
   "metadata": {},
   "outputs": [
    {
     "data": {
      "text/plain": [
       "-3    377\n",
       " 5    377\n",
       "-5    377\n",
       " 4    377\n",
       " 0    377\n",
       "-1    377\n",
       " 2    377\n",
       "-4    377\n",
       " 3    377\n",
       "-2    377\n",
       " 1    377\n",
       "Name: tv, dtype: int64"
      ]
     },
     "execution_count": 20,
     "metadata": {},
     "output_type": "execute_result"
    }
   ],
   "source": [
    "from imblearn.over_sampling import SMOTE\n",
    "smote = SMOTE()\n",
    "X, y = smote.fit_resample(X, y)\n",
    "y.value_counts()"
   ]
  },
  {
   "cell_type": "code",
   "execution_count": null,
   "id": "f957a92f",
   "metadata": {},
   "outputs": [],
   "source": []
  },
  {
   "cell_type": "code",
   "execution_count": 21,
   "id": "3ef01727",
   "metadata": {},
   "outputs": [
    {
     "data": {
      "text/html": [
       "<style>#sk-container-id-2 {color: black;background-color: white;}#sk-container-id-2 pre{padding: 0;}#sk-container-id-2 div.sk-toggleable {background-color: white;}#sk-container-id-2 label.sk-toggleable__label {cursor: pointer;display: block;width: 100%;margin-bottom: 0;padding: 0.3em;box-sizing: border-box;text-align: center;}#sk-container-id-2 label.sk-toggleable__label-arrow:before {content: \"▸\";float: left;margin-right: 0.25em;color: #696969;}#sk-container-id-2 label.sk-toggleable__label-arrow:hover:before {color: black;}#sk-container-id-2 div.sk-estimator:hover label.sk-toggleable__label-arrow:before {color: black;}#sk-container-id-2 div.sk-toggleable__content {max-height: 0;max-width: 0;overflow: hidden;text-align: left;background-color: #f0f8ff;}#sk-container-id-2 div.sk-toggleable__content pre {margin: 0.2em;color: black;border-radius: 0.25em;background-color: #f0f8ff;}#sk-container-id-2 input.sk-toggleable__control:checked~div.sk-toggleable__content {max-height: 200px;max-width: 100%;overflow: auto;}#sk-container-id-2 input.sk-toggleable__control:checked~label.sk-toggleable__label-arrow:before {content: \"▾\";}#sk-container-id-2 div.sk-estimator input.sk-toggleable__control:checked~label.sk-toggleable__label {background-color: #d4ebff;}#sk-container-id-2 div.sk-label input.sk-toggleable__control:checked~label.sk-toggleable__label {background-color: #d4ebff;}#sk-container-id-2 input.sk-hidden--visually {border: 0;clip: rect(1px 1px 1px 1px);clip: rect(1px, 1px, 1px, 1px);height: 1px;margin: -1px;overflow: hidden;padding: 0;position: absolute;width: 1px;}#sk-container-id-2 div.sk-estimator {font-family: monospace;background-color: #f0f8ff;border: 1px dotted black;border-radius: 0.25em;box-sizing: border-box;margin-bottom: 0.5em;}#sk-container-id-2 div.sk-estimator:hover {background-color: #d4ebff;}#sk-container-id-2 div.sk-parallel-item::after {content: \"\";width: 100%;border-bottom: 1px solid gray;flex-grow: 1;}#sk-container-id-2 div.sk-label:hover label.sk-toggleable__label {background-color: #d4ebff;}#sk-container-id-2 div.sk-serial::before {content: \"\";position: absolute;border-left: 1px solid gray;box-sizing: border-box;top: 0;bottom: 0;left: 50%;z-index: 0;}#sk-container-id-2 div.sk-serial {display: flex;flex-direction: column;align-items: center;background-color: white;padding-right: 0.2em;padding-left: 0.2em;position: relative;}#sk-container-id-2 div.sk-item {position: relative;z-index: 1;}#sk-container-id-2 div.sk-parallel {display: flex;align-items: stretch;justify-content: center;background-color: white;position: relative;}#sk-container-id-2 div.sk-item::before, #sk-container-id-2 div.sk-parallel-item::before {content: \"\";position: absolute;border-left: 1px solid gray;box-sizing: border-box;top: 0;bottom: 0;left: 50%;z-index: -1;}#sk-container-id-2 div.sk-parallel-item {display: flex;flex-direction: column;z-index: 1;position: relative;background-color: white;}#sk-container-id-2 div.sk-parallel-item:first-child::after {align-self: flex-end;width: 50%;}#sk-container-id-2 div.sk-parallel-item:last-child::after {align-self: flex-start;width: 50%;}#sk-container-id-2 div.sk-parallel-item:only-child::after {width: 0;}#sk-container-id-2 div.sk-dashed-wrapped {border: 1px dashed gray;margin: 0 0.4em 0.5em 0.4em;box-sizing: border-box;padding-bottom: 0.4em;background-color: white;}#sk-container-id-2 div.sk-label label {font-family: monospace;font-weight: bold;display: inline-block;line-height: 1.2em;}#sk-container-id-2 div.sk-label-container {text-align: center;}#sk-container-id-2 div.sk-container {/* jupyter's `normalize.less` sets `[hidden] { display: none; }` but bootstrap.min.css set `[hidden] { display: none !important; }` so we also need the `!important` here to be able to override the default hidden behavior on the sphinx rendered scikit-learn.org. See: https://github.com/scikit-learn/scikit-learn/issues/21755 */display: inline-block !important;position: relative;}#sk-container-id-2 div.sk-text-repr-fallback {display: none;}</style><div id=\"sk-container-id-2\" class=\"sk-top-container\"><div class=\"sk-text-repr-fallback\"><pre>RandomForestClassifier()</pre><b>In a Jupyter environment, please rerun this cell to show the HTML representation or trust the notebook. <br />On GitHub, the HTML representation is unable to render, please try loading this page with nbviewer.org.</b></div><div class=\"sk-container\" hidden><div class=\"sk-item\"><div class=\"sk-estimator sk-toggleable\"><input class=\"sk-toggleable__control sk-hidden--visually\" id=\"sk-estimator-id-2\" type=\"checkbox\" checked><label for=\"sk-estimator-id-2\" class=\"sk-toggleable__label sk-toggleable__label-arrow\">RandomForestClassifier</label><div class=\"sk-toggleable__content\"><pre>RandomForestClassifier()</pre></div></div></div></div></div>"
      ],
      "text/plain": [
       "RandomForestClassifier()"
      ]
     },
     "execution_count": 21,
     "metadata": {},
     "output_type": "execute_result"
    }
   ],
   "source": [
    "from sklearn.ensemble import RandomForestClassifier\n",
    "rf = RandomForestClassifier()\n",
    "\n",
    "nb.fit(X_train_res, y_train_res['tv'])\n",
    "rf.fit(X_train_res, y_train_res['tv'])"
   ]
  },
  {
   "cell_type": "code",
   "execution_count": 22,
   "id": "8e0553df",
   "metadata": {},
   "outputs": [],
   "source": [
    "y_train_res_pred_rf = rf.predict(X_train_res)\n",
    "y_test_pred_rf      = rf.predict(X_test)"
   ]
  },
  {
   "cell_type": "code",
   "execution_count": 23,
   "id": "e308b567",
   "metadata": {},
   "outputs": [],
   "source": [
    "def model_performance_class(y_train, y_pred_train, y_test, y_pred_test):\n",
    "\n",
    "    from sklearn.metrics import cohen_kappa_score, classification_report \n",
    "\n",
    "\n",
    "    print(\"Results obtained for the TRAIN SET\")\n",
    "    print(\"==================================\")\n",
    "    print(\"The Cohen's Kappa is: {:.2f}\".format(cohen_kappa_score(y_train, y_pred_train)))\n",
    "    print(classification_report(y_train, y_pred_train))\n",
    "    print(\"==================================\")\n",
    "    print(\"Results obtained for the TEST SET\")\n",
    "    print(\"The Cohen's Kappa is: {:.2f}\".format(cohen_kappa_score(y_test, y_pred_test)))\n",
    "    print(classification_report(y_test, y_pred_test))\n"
   ]
  },
  {
   "cell_type": "code",
   "execution_count": 24,
   "id": "16a4a258",
   "metadata": {},
   "outputs": [
    {
     "name": "stdout",
     "output_type": "stream",
     "text": [
      "Results obtained for the TRAIN SET\n",
      "==================================\n",
      "The Cohen's Kappa is: 1.00\n",
      "              precision    recall  f1-score   support\n",
      "\n",
      "          -5       1.00      1.00      1.00        69\n",
      "          -4       1.00      1.00      1.00        69\n",
      "          -3       1.00      1.00      1.00        69\n",
      "          -2       1.00      1.00      1.00        69\n",
      "          -1       1.00      1.00      1.00        69\n",
      "           0       1.00      1.00      1.00        69\n",
      "           1       1.00      1.00      1.00        69\n",
      "           2       1.00      1.00      1.00        69\n",
      "           3       1.00      1.00      1.00        69\n",
      "           4       1.00      1.00      1.00        69\n",
      "           5       1.00      1.00      1.00        69\n",
      "\n",
      "    accuracy                           1.00       759\n",
      "   macro avg       1.00      1.00      1.00       759\n",
      "weighted avg       1.00      1.00      1.00       759\n",
      "\n",
      "==================================\n",
      "Results obtained for the TEST SET\n",
      "The Cohen's Kappa is: 0.07\n",
      "              precision    recall  f1-score   support\n",
      "\n",
      "          -5       0.24      0.24      0.24       101\n",
      "          -4       0.03      0.09      0.05        35\n",
      "          -3       0.15      0.15      0.15        71\n",
      "          -2       0.12      0.08      0.09        93\n",
      "          -1       0.18      0.27      0.22        85\n",
      "           0       0.21      0.19      0.20       105\n",
      "           1       0.13      0.12      0.13        83\n",
      "           2       0.14      0.09      0.11        93\n",
      "           3       0.10      0.11      0.11        46\n",
      "           4       0.06      0.10      0.08        29\n",
      "           5       0.27      0.18      0.22        99\n",
      "\n",
      "    accuracy                           0.16       840\n",
      "   macro avg       0.15      0.15      0.14       840\n",
      "weighted avg       0.17      0.16      0.16       840\n",
      "\n"
     ]
    }
   ],
   "source": [
    "model_performance_class(y_train_res, y_train_res_pred_rf, y_test, y_test_pred_rf)"
   ]
  }
 ],
 "metadata": {
  "kernelspec": {
   "display_name": "Python 3 (ipykernel)",
   "language": "python",
   "name": "python3"
  },
  "language_info": {
   "codemirror_mode": {
    "name": "ipython",
    "version": 3
   },
   "file_extension": ".py",
   "mimetype": "text/x-python",
   "name": "python",
   "nbconvert_exporter": "python",
   "pygments_lexer": "ipython3",
   "version": "3.9.12"
  }
 },
 "nbformat": 4,
 "nbformat_minor": 5
}
