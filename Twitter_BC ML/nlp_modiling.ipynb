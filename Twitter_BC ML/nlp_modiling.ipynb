{
 "cells": [
  {
   "cell_type": "code",
   "execution_count": 1,
   "id": "50d234a3",
   "metadata": {},
   "outputs": [
    {
     "name": "stderr",
     "output_type": "stream",
     "text": [
      "[nltk_data] Downloading package stopwords to\n",
      "[nltk_data]     /Users/kirilltiufanov/nltk_data...\n",
      "[nltk_data]   Package stopwords is already up-to-date!\n"
     ]
    }
   ],
   "source": [
    "import numpy as np\n",
    "import pandas as pd\n",
    "import matplotlib.pyplot as plt\n",
    "import seaborn as sns\n",
    "import nltk\n",
    "nltk.download('stopwords')\n",
    "import re\n",
    "from imblearn.under_sampling import RandomUnderSampler\n",
    "from sklearn.model_selection import train_test_split"
   ]
  },
  {
   "cell_type": "code",
   "execution_count": 2,
   "id": "3dee0171",
   "metadata": {},
   "outputs": [],
   "source": [
    "all_data = pd.read_csv(\"data/all_data_m.csv\")"
   ]
  },
  {
   "cell_type": "code",
   "execution_count": 3,
   "id": "7ed03141",
   "metadata": {},
   "outputs": [
    {
     "data": {
      "text/plain": [
       "time                                                      2021-01-02\n",
       "time.1                                                             6\n",
       "tweetl_t           @StickmanSham @RANK10YGO &gt;Crack a Silly “Hm...\n",
       "mentions_t                                                    [][][]\n",
       "replies_count_t                                                 20.0\n",
       "                                         ...                        \n",
       "open                                                        0.006985\n",
       "high                                                        0.007366\n",
       "low                                                         0.006975\n",
       "tv                                                                 1\n",
       "Volume                                                    41947109.0\n",
       "Name: 5, Length: 417, dtype: object"
      ]
     },
     "execution_count": 3,
     "metadata": {},
     "output_type": "execute_result"
    }
   ],
   "source": [
    "all_data.iloc[5]"
   ]
  },
  {
   "cell_type": "code",
   "execution_count": 4,
   "id": "068d7b54",
   "metadata": {},
   "outputs": [
    {
     "data": {
      "text/plain": [
       "-1    1219\n",
       " 1    1217\n",
       " 0     362\n",
       "Name: tv, dtype: int64"
      ]
     },
     "execution_count": 4,
     "metadata": {},
     "output_type": "execute_result"
    }
   ],
   "source": [
    "all_data[\"tv\"].value_counts()"
   ]
  },
  {
   "cell_type": "code",
   "execution_count": 5,
   "id": "a22da198",
   "metadata": {},
   "outputs": [],
   "source": [
    "all_data_num = all_data.drop([\"tweetl_t\", \"tweetl_l\", \"mentions_t\", \"mentions_l\"], axis=1)"
   ]
  },
  {
   "cell_type": "code",
   "execution_count": 6,
   "id": "bdee9934",
   "metadata": {},
   "outputs": [
    {
     "data": {
      "text/html": [
       "<div>\n",
       "<style scoped>\n",
       "    .dataframe tbody tr th:only-of-type {\n",
       "        vertical-align: middle;\n",
       "    }\n",
       "\n",
       "    .dataframe tbody tr th {\n",
       "        vertical-align: top;\n",
       "    }\n",
       "\n",
       "    .dataframe thead th {\n",
       "        text-align: right;\n",
       "    }\n",
       "</style>\n",
       "<table border=\"1\" class=\"dataframe\">\n",
       "  <thead>\n",
       "    <tr style=\"text-align: right;\">\n",
       "      <th></th>\n",
       "      <th>time</th>\n",
       "      <th>time.1</th>\n",
       "      <th>replies_count_t</th>\n",
       "      <th>retweets_count_t</th>\n",
       "      <th>top_tw_t</th>\n",
       "      <th>likes_count_t</th>\n",
       "      <th>dogecoin_t</th>\n",
       "      <th>dogearmy_t</th>\n",
       "      <th>elonmusk_t</th>\n",
       "      <th>buy_t</th>\n",
       "      <th>...</th>\n",
       "      <th>ladybug_l</th>\n",
       "      <th>already_l</th>\n",
       "      <th>gt_l</th>\n",
       "      <th>subj_l</th>\n",
       "      <th>polar_l</th>\n",
       "      <th>open</th>\n",
       "      <th>high</th>\n",
       "      <th>low</th>\n",
       "      <th>tv</th>\n",
       "      <th>Volume</th>\n",
       "    </tr>\n",
       "  </thead>\n",
       "  <tbody>\n",
       "    <tr>\n",
       "      <th>0</th>\n",
       "      <td>2021-01-02</td>\n",
       "      <td>1</td>\n",
       "      <td>61.0</td>\n",
       "      <td>173.0</td>\n",
       "      <td>2.0</td>\n",
       "      <td>1631.0</td>\n",
       "      <td>0.0</td>\n",
       "      <td>0.0</td>\n",
       "      <td>0.0</td>\n",
       "      <td>0.0</td>\n",
       "      <td>...</td>\n",
       "      <td>0</td>\n",
       "      <td>0</td>\n",
       "      <td>1</td>\n",
       "      <td>0.248972</td>\n",
       "      <td>0.035800</td>\n",
       "      <td>0.006921</td>\n",
       "      <td>0.007172</td>\n",
       "      <td>0.006709</td>\n",
       "      <td>-1</td>\n",
       "      <td>29383228.0</td>\n",
       "    </tr>\n",
       "    <tr>\n",
       "      <th>1</th>\n",
       "      <td>2021-01-02</td>\n",
       "      <td>2</td>\n",
       "      <td>26.0</td>\n",
       "      <td>23.0</td>\n",
       "      <td>2.0</td>\n",
       "      <td>271.0</td>\n",
       "      <td>0.0</td>\n",
       "      <td>0.0</td>\n",
       "      <td>0.0</td>\n",
       "      <td>0.0</td>\n",
       "      <td>...</td>\n",
       "      <td>0</td>\n",
       "      <td>0</td>\n",
       "      <td>0</td>\n",
       "      <td>0.262869</td>\n",
       "      <td>0.106507</td>\n",
       "      <td>0.006767</td>\n",
       "      <td>0.007038</td>\n",
       "      <td>0.006641</td>\n",
       "      <td>0</td>\n",
       "      <td>41415520.0</td>\n",
       "    </tr>\n",
       "    <tr>\n",
       "      <th>2</th>\n",
       "      <td>2021-01-02</td>\n",
       "      <td>3</td>\n",
       "      <td>22.0</td>\n",
       "      <td>160.0</td>\n",
       "      <td>2.0</td>\n",
       "      <td>866.0</td>\n",
       "      <td>1.0</td>\n",
       "      <td>0.0</td>\n",
       "      <td>0.0</td>\n",
       "      <td>0.0</td>\n",
       "      <td>...</td>\n",
       "      <td>0</td>\n",
       "      <td>0</td>\n",
       "      <td>1</td>\n",
       "      <td>0.316667</td>\n",
       "      <td>0.136352</td>\n",
       "      <td>0.006780</td>\n",
       "      <td>0.007179</td>\n",
       "      <td>0.006745</td>\n",
       "      <td>1</td>\n",
       "      <td>31058927.0</td>\n",
       "    </tr>\n",
       "    <tr>\n",
       "      <th>3</th>\n",
       "      <td>2021-01-02</td>\n",
       "      <td>4</td>\n",
       "      <td>268.0</td>\n",
       "      <td>555.0</td>\n",
       "      <td>5.0</td>\n",
       "      <td>1868.0</td>\n",
       "      <td>1.0</td>\n",
       "      <td>0.0</td>\n",
       "      <td>0.0</td>\n",
       "      <td>4.0</td>\n",
       "      <td>...</td>\n",
       "      <td>0</td>\n",
       "      <td>3</td>\n",
       "      <td>0</td>\n",
       "      <td>0.279962</td>\n",
       "      <td>0.081136</td>\n",
       "      <td>0.007065</td>\n",
       "      <td>0.007421</td>\n",
       "      <td>0.007055</td>\n",
       "      <td>1</td>\n",
       "      <td>31100758.0</td>\n",
       "    </tr>\n",
       "    <tr>\n",
       "      <th>4</th>\n",
       "      <td>2021-01-02</td>\n",
       "      <td>5</td>\n",
       "      <td>35.0</td>\n",
       "      <td>252.0</td>\n",
       "      <td>2.0</td>\n",
       "      <td>1762.0</td>\n",
       "      <td>1.0</td>\n",
       "      <td>0.0</td>\n",
       "      <td>0.0</td>\n",
       "      <td>0.0</td>\n",
       "      <td>...</td>\n",
       "      <td>0</td>\n",
       "      <td>1</td>\n",
       "      <td>0</td>\n",
       "      <td>0.314670</td>\n",
       "      <td>0.147348</td>\n",
       "      <td>0.007308</td>\n",
       "      <td>0.007315</td>\n",
       "      <td>0.006738</td>\n",
       "      <td>-1</td>\n",
       "      <td>57350444.0</td>\n",
       "    </tr>\n",
       "    <tr>\n",
       "      <th>...</th>\n",
       "      <td>...</td>\n",
       "      <td>...</td>\n",
       "      <td>...</td>\n",
       "      <td>...</td>\n",
       "      <td>...</td>\n",
       "      <td>...</td>\n",
       "      <td>...</td>\n",
       "      <td>...</td>\n",
       "      <td>...</td>\n",
       "      <td>...</td>\n",
       "      <td>...</td>\n",
       "      <td>...</td>\n",
       "      <td>...</td>\n",
       "      <td>...</td>\n",
       "      <td>...</td>\n",
       "      <td>...</td>\n",
       "      <td>...</td>\n",
       "      <td>...</td>\n",
       "      <td>...</td>\n",
       "      <td>...</td>\n",
       "      <td>...</td>\n",
       "    </tr>\n",
       "    <tr>\n",
       "      <th>2793</th>\n",
       "      <td>2021-04-28</td>\n",
       "      <td>19</td>\n",
       "      <td>78.0</td>\n",
       "      <td>431.0</td>\n",
       "      <td>7.0</td>\n",
       "      <td>2989.0</td>\n",
       "      <td>3.0</td>\n",
       "      <td>1.0</td>\n",
       "      <td>1.0</td>\n",
       "      <td>0.0</td>\n",
       "      <td>...</td>\n",
       "      <td>6</td>\n",
       "      <td>1</td>\n",
       "      <td>0</td>\n",
       "      <td>0.329047</td>\n",
       "      <td>0.127826</td>\n",
       "      <td>0.316070</td>\n",
       "      <td>0.318500</td>\n",
       "      <td>0.310220</td>\n",
       "      <td>1</td>\n",
       "      <td>19257761.8</td>\n",
       "    </tr>\n",
       "    <tr>\n",
       "      <th>2794</th>\n",
       "      <td>2021-04-28</td>\n",
       "      <td>20</td>\n",
       "      <td>499.0</td>\n",
       "      <td>766.0</td>\n",
       "      <td>5.0</td>\n",
       "      <td>1751.0</td>\n",
       "      <td>1.0</td>\n",
       "      <td>0.0</td>\n",
       "      <td>0.0</td>\n",
       "      <td>0.0</td>\n",
       "      <td>...</td>\n",
       "      <td>4</td>\n",
       "      <td>2</td>\n",
       "      <td>0</td>\n",
       "      <td>0.306651</td>\n",
       "      <td>0.138017</td>\n",
       "      <td>0.317420</td>\n",
       "      <td>0.322030</td>\n",
       "      <td>0.314180</td>\n",
       "      <td>1</td>\n",
       "      <td>22698952.2</td>\n",
       "    </tr>\n",
       "    <tr>\n",
       "      <th>2795</th>\n",
       "      <td>2021-04-28</td>\n",
       "      <td>21</td>\n",
       "      <td>57.0</td>\n",
       "      <td>316.0</td>\n",
       "      <td>3.0</td>\n",
       "      <td>871.0</td>\n",
       "      <td>0.0</td>\n",
       "      <td>0.0</td>\n",
       "      <td>0.0</td>\n",
       "      <td>0.0</td>\n",
       "      <td>...</td>\n",
       "      <td>5</td>\n",
       "      <td>0</td>\n",
       "      <td>0</td>\n",
       "      <td>0.351950</td>\n",
       "      <td>0.142881</td>\n",
       "      <td>0.318320</td>\n",
       "      <td>0.325380</td>\n",
       "      <td>0.317000</td>\n",
       "      <td>1</td>\n",
       "      <td>22205970.7</td>\n",
       "    </tr>\n",
       "    <tr>\n",
       "      <th>2796</th>\n",
       "      <td>2021-04-28</td>\n",
       "      <td>22</td>\n",
       "      <td>1174.0</td>\n",
       "      <td>2506.0</td>\n",
       "      <td>5.0</td>\n",
       "      <td>11779.0</td>\n",
       "      <td>1.0</td>\n",
       "      <td>0.0</td>\n",
       "      <td>0.0</td>\n",
       "      <td>2.0</td>\n",
       "      <td>...</td>\n",
       "      <td>1</td>\n",
       "      <td>1</td>\n",
       "      <td>0</td>\n",
       "      <td>0.315244</td>\n",
       "      <td>0.118175</td>\n",
       "      <td>0.322610</td>\n",
       "      <td>0.322640</td>\n",
       "      <td>0.312610</td>\n",
       "      <td>-1</td>\n",
       "      <td>23157805.9</td>\n",
       "    </tr>\n",
       "    <tr>\n",
       "      <th>2797</th>\n",
       "      <td>2021-04-28</td>\n",
       "      <td>23</td>\n",
       "      <td>1471.0</td>\n",
       "      <td>4502.0</td>\n",
       "      <td>40.0</td>\n",
       "      <td>26748.0</td>\n",
       "      <td>4.0</td>\n",
       "      <td>3.0</td>\n",
       "      <td>19.0</td>\n",
       "      <td>3.0</td>\n",
       "      <td>...</td>\n",
       "      <td>0</td>\n",
       "      <td>2</td>\n",
       "      <td>2</td>\n",
       "      <td>0.243664</td>\n",
       "      <td>0.091839</td>\n",
       "      <td>0.314450</td>\n",
       "      <td>0.317830</td>\n",
       "      <td>0.312520</td>\n",
       "      <td>0</td>\n",
       "      <td>15291654.6</td>\n",
       "    </tr>\n",
       "  </tbody>\n",
       "</table>\n",
       "<p>2798 rows × 413 columns</p>\n",
       "</div>"
      ],
      "text/plain": [
       "            time  time.1  replies_count_t  retweets_count_t  top_tw_t  \\\n",
       "0     2021-01-02       1             61.0             173.0       2.0   \n",
       "1     2021-01-02       2             26.0              23.0       2.0   \n",
       "2     2021-01-02       3             22.0             160.0       2.0   \n",
       "3     2021-01-02       4            268.0             555.0       5.0   \n",
       "4     2021-01-02       5             35.0             252.0       2.0   \n",
       "...          ...     ...              ...               ...       ...   \n",
       "2793  2021-04-28      19             78.0             431.0       7.0   \n",
       "2794  2021-04-28      20            499.0             766.0       5.0   \n",
       "2795  2021-04-28      21             57.0             316.0       3.0   \n",
       "2796  2021-04-28      22           1174.0            2506.0       5.0   \n",
       "2797  2021-04-28      23           1471.0            4502.0      40.0   \n",
       "\n",
       "      likes_count_t  dogecoin_t  dogearmy_t  elonmusk_t  buy_t  ...  \\\n",
       "0            1631.0         0.0         0.0         0.0    0.0  ...   \n",
       "1             271.0         0.0         0.0         0.0    0.0  ...   \n",
       "2             866.0         1.0         0.0         0.0    0.0  ...   \n",
       "3            1868.0         1.0         0.0         0.0    4.0  ...   \n",
       "4            1762.0         1.0         0.0         0.0    0.0  ...   \n",
       "...             ...         ...         ...         ...    ...  ...   \n",
       "2793         2989.0         3.0         1.0         1.0    0.0  ...   \n",
       "2794         1751.0         1.0         0.0         0.0    0.0  ...   \n",
       "2795          871.0         0.0         0.0         0.0    0.0  ...   \n",
       "2796        11779.0         1.0         0.0         0.0    2.0  ...   \n",
       "2797        26748.0         4.0         3.0        19.0    3.0  ...   \n",
       "\n",
       "      ladybug_l  already_l  gt_l    subj_l   polar_l      open      high  \\\n",
       "0             0          0     1  0.248972  0.035800  0.006921  0.007172   \n",
       "1             0          0     0  0.262869  0.106507  0.006767  0.007038   \n",
       "2             0          0     1  0.316667  0.136352  0.006780  0.007179   \n",
       "3             0          3     0  0.279962  0.081136  0.007065  0.007421   \n",
       "4             0          1     0  0.314670  0.147348  0.007308  0.007315   \n",
       "...         ...        ...   ...       ...       ...       ...       ...   \n",
       "2793          6          1     0  0.329047  0.127826  0.316070  0.318500   \n",
       "2794          4          2     0  0.306651  0.138017  0.317420  0.322030   \n",
       "2795          5          0     0  0.351950  0.142881  0.318320  0.325380   \n",
       "2796          1          1     0  0.315244  0.118175  0.322610  0.322640   \n",
       "2797          0          2     2  0.243664  0.091839  0.314450  0.317830   \n",
       "\n",
       "           low  tv      Volume  \n",
       "0     0.006709  -1  29383228.0  \n",
       "1     0.006641   0  41415520.0  \n",
       "2     0.006745   1  31058927.0  \n",
       "3     0.007055   1  31100758.0  \n",
       "4     0.006738  -1  57350444.0  \n",
       "...        ...  ..         ...  \n",
       "2793  0.310220   1  19257761.8  \n",
       "2794  0.314180   1  22698952.2  \n",
       "2795  0.317000   1  22205970.7  \n",
       "2796  0.312610  -1  23157805.9  \n",
       "2797  0.312520   0  15291654.6  \n",
       "\n",
       "[2798 rows x 413 columns]"
      ]
     },
     "execution_count": 6,
     "metadata": {},
     "output_type": "execute_result"
    }
   ],
   "source": [
    "all_data_num"
   ]
  },
  {
   "cell_type": "code",
   "execution_count": 7,
   "id": "e0af292c",
   "metadata": {},
   "outputs": [],
   "source": [
    "all_data_num = all_data_num.iloc[:,2:-1].apply(pd.to_numeric)"
   ]
  },
  {
   "cell_type": "code",
   "execution_count": 8,
   "id": "6eb531c6",
   "metadata": {},
   "outputs": [],
   "source": [
    "X = all_data_num.drop(columns='tv')\n",
    "y = all_data_num['tv']"
   ]
  },
  {
   "cell_type": "code",
   "execution_count": 9,
   "id": "3a5918b8",
   "metadata": {},
   "outputs": [],
   "source": [
    "X_train, X_test, y_train, y_test = train_test_split(X, y, test_size=0.30, random_state=42)\n",
    "\n",
    "X_train = pd.DataFrame(X_train, columns=X.columns)\n",
    "X_test  = pd.DataFrame(X_test, columns=X.columns)\n",
    "\n",
    "y_train = pd.DataFrame(y_train, columns =['tv'])\n",
    "y_test  = pd.DataFrame(y_test, columns =['tv'])"
   ]
  },
  {
   "cell_type": "code",
   "execution_count": 10,
   "id": "f41a7d37",
   "metadata": {},
   "outputs": [
    {
     "data": {
      "text/plain": [
       "-1    853\n",
       " 1    849\n",
       " 0    256\n",
       "Name: tv, dtype: int64"
      ]
     },
     "execution_count": 10,
     "metadata": {},
     "output_type": "execute_result"
    }
   ],
   "source": [
    "y_train[\"tv\"].value_counts()"
   ]
  },
  {
   "cell_type": "code",
   "execution_count": 11,
   "id": "093a75d5",
   "metadata": {},
   "outputs": [
    {
     "data": {
      "text/plain": [
       "<AxesSubplot:xlabel='tv', ylabel='count'>"
      ]
     },
     "execution_count": 11,
     "metadata": {},
     "output_type": "execute_result"
    },
    {
     "data": {
      "image/png": "[encoded data removed]",
      "text/plain": [
       "<Figure size 432x288 with 1 Axes>"
      ]
     },
     "metadata": {
      "needs_background": "light"
     },
     "output_type": "display_data"
    }
   ],
   "source": [
    "sns.countplot(x=y_train['tv'])"
   ]
  },
  {
   "cell_type": "code",
   "execution_count": 12,
   "id": "420dc3ae",
   "metadata": {},
   "outputs": [
    {
     "data": {
      "text/plain": [
       "-1    1219\n",
       " 1    1217\n",
       " 0     362\n",
       "Name: tv, dtype: int64"
      ]
     },
     "execution_count": 12,
     "metadata": {},
     "output_type": "execute_result"
    }
   ],
   "source": [
    "from imblearn.over_sampling import SMOTE\n",
    "smote = SMOTE()\n",
    "X_sm, y_sm = smote.fit_resample(X_train, y_train)\n",
    "y.value_counts()"
   ]
  },
  {
   "cell_type": "code",
   "execution_count": 13,
   "id": "3ef01727",
   "metadata": {},
   "outputs": [
    {
     "data": {
      "text/html": [
       "<style>#sk-container-id-1 {color: black;background-color: white;}#sk-container-id-1 pre{padding: 0;}#sk-container-id-1 div.sk-toggleable {background-color: white;}#sk-container-id-1 label.sk-toggleable__label {cursor: pointer;display: block;width: 100%;margin-bottom: 0;padding: 0.3em;box-sizing: border-box;text-align: center;}#sk-container-id-1 label.sk-toggleable__label-arrow:before {content: \"▸\";float: left;margin-right: 0.25em;color: #696969;}#sk-container-id-1 label.sk-toggleable__label-arrow:hover:before {color: black;}#sk-container-id-1 div.sk-estimator:hover label.sk-toggleable__label-arrow:before {color: black;}#sk-container-id-1 div.sk-toggleable__content {max-height: 0;max-width: 0;overflow: hidden;text-align: left;background-color: #f0f8ff;}#sk-container-id-1 div.sk-toggleable__content pre {margin: 0.2em;color: black;border-radius: 0.25em;background-color: #f0f8ff;}#sk-container-id-1 input.sk-toggleable__control:checked~div.sk-toggleable__content {max-height: 200px;max-width: 100%;overflow: auto;}#sk-container-id-1 input.sk-toggleable__control:checked~label.sk-toggleable__label-arrow:before {content: \"▾\";}#sk-container-id-1 div.sk-estimator input.sk-toggleable__control:checked~label.sk-toggleable__label {background-color: #d4ebff;}#sk-container-id-1 div.sk-label input.sk-toggleable__control:checked~label.sk-toggleable__label {background-color: #d4ebff;}#sk-container-id-1 input.sk-hidden--visually {border: 0;clip: rect(1px 1px 1px 1px);clip: rect(1px, 1px, 1px, 1px);height: 1px;margin: -1px;overflow: hidden;padding: 0;position: absolute;width: 1px;}#sk-container-id-1 div.sk-estimator {font-family: monospace;background-color: #f0f8ff;border: 1px dotted black;border-radius: 0.25em;box-sizing: border-box;margin-bottom: 0.5em;}#sk-container-id-1 div.sk-estimator:hover {background-color: #d4ebff;}#sk-container-id-1 div.sk-parallel-item::after {content: \"\";width: 100%;border-bottom: 1px solid gray;flex-grow: 1;}#sk-container-id-1 div.sk-label:hover label.sk-toggleable__label {background-color: #d4ebff;}#sk-container-id-1 div.sk-serial::before {content: \"\";position: absolute;border-left: 1px solid gray;box-sizing: border-box;top: 0;bottom: 0;left: 50%;z-index: 0;}#sk-container-id-1 div.sk-serial {display: flex;flex-direction: column;align-items: center;background-color: white;padding-right: 0.2em;padding-left: 0.2em;position: relative;}#sk-container-id-1 div.sk-item {position: relative;z-index: 1;}#sk-container-id-1 div.sk-parallel {display: flex;align-items: stretch;justify-content: center;background-color: white;position: relative;}#sk-container-id-1 div.sk-item::before, #sk-container-id-1 div.sk-parallel-item::before {content: \"\";position: absolute;border-left: 1px solid gray;box-sizing: border-box;top: 0;bottom: 0;left: 50%;z-index: -1;}#sk-container-id-1 div.sk-parallel-item {display: flex;flex-direction: column;z-index: 1;position: relative;background-color: white;}#sk-container-id-1 div.sk-parallel-item:first-child::after {align-self: flex-end;width: 50%;}#sk-container-id-1 div.sk-parallel-item:last-child::after {align-self: flex-start;width: 50%;}#sk-container-id-1 div.sk-parallel-item:only-child::after {width: 0;}#sk-container-id-1 div.sk-dashed-wrapped {border: 1px dashed gray;margin: 0 0.4em 0.5em 0.4em;box-sizing: border-box;padding-bottom: 0.4em;background-color: white;}#sk-container-id-1 div.sk-label label {font-family: monospace;font-weight: bold;display: inline-block;line-height: 1.2em;}#sk-container-id-1 div.sk-label-container {text-align: center;}#sk-container-id-1 div.sk-container {/* jupyter's `normalize.less` sets `[hidden] { display: none; }` but bootstrap.min.css set `[hidden] { display: none !important; }` so we also need the `!important` here to be able to override the default hidden behavior on the sphinx rendered scikit-learn.org. See: https://github.com/scikit-learn/scikit-learn/issues/21755 */display: inline-block !important;position: relative;}#sk-container-id-1 div.sk-text-repr-fallback {display: none;}</style><div id=\"sk-container-id-1\" class=\"sk-top-container\"><div class=\"sk-text-repr-fallback\"><pre>RandomForestClassifier()</pre><b>In a Jupyter environment, please rerun this cell to show the HTML representation or trust the notebook. <br />On GitHub, the HTML representation is unable to render, please try loading this page with nbviewer.org.</b></div><div class=\"sk-container\" hidden><div class=\"sk-item\"><div class=\"sk-estimator sk-toggleable\"><input class=\"sk-toggleable__control sk-hidden--visually\" id=\"sk-estimator-id-1\" type=\"checkbox\" checked><label for=\"sk-estimator-id-1\" class=\"sk-toggleable__label sk-toggleable__label-arrow\">RandomForestClassifier</label><div class=\"sk-toggleable__content\"><pre>RandomForestClassifier()</pre></div></div></div></div></div>"
      ],
      "text/plain": [
       "RandomForestClassifier()"
      ]
     },
     "execution_count": 13,
     "metadata": {},
     "output_type": "execute_result"
    }
   ],
   "source": [
    "from sklearn.ensemble import RandomForestClassifier\n",
    "from sklearn.naive_bayes import CategoricalNB\n",
    "nb = CategoricalNB()\n",
    "rf = RandomForestClassifier()\n",
    "\n",
    "nb.fit(X_sm, y_sm['tv'])\n",
    "rf.fit(X_sm, y_sm['tv'])"
   ]
  },
  {
   "cell_type": "code",
   "execution_count": 14,
   "id": "8e0553df",
   "metadata": {},
   "outputs": [],
   "source": [
    "y_train_res_pred_rf = rf.predict(X_sm)\n",
    "y_test_pred_rf      = rf.predict(X_test)"
   ]
  },
  {
   "cell_type": "code",
   "execution_count": 15,
   "id": "e308b567",
   "metadata": {},
   "outputs": [],
   "source": [
    "def model_performance_class(y_train, y_pred_train, y_test, y_pred_test):\n",
    "\n",
    "    from sklearn.metrics import cohen_kappa_score, classification_report \n",
    "\n",
    "\n",
    "    print(\"Results obtained for the TRAIN SET\")\n",
    "    print(\"==================================\")\n",
    "    print(\"The Cohen's Kappa is: {:.2f}\".format(cohen_kappa_score(y_train, y_pred_train)))\n",
    "    print(classification_report(y_train, y_pred_train))\n",
    "    print(\"==================================\")\n",
    "    print(\"Results obtained for the TEST SET\")\n",
    "    print(\"The Cohen's Kappa is: {:.2f}\".format(cohen_kappa_score(y_test, y_pred_test)))\n",
    "    print(classification_report(y_test, y_pred_test))\n"
   ]
  },
  {
   "cell_type": "code",
   "execution_count": 16,
   "id": "16a4a258",
   "metadata": {},
   "outputs": [
    {
     "name": "stdout",
     "output_type": "stream",
     "text": [
      "Results obtained for the TRAIN SET\n",
      "==================================\n",
      "The Cohen's Kappa is: 1.00\n",
      "              precision    recall  f1-score   support\n",
      "\n",
      "          -1       1.00      1.00      1.00       853\n",
      "           0       1.00      1.00      1.00       853\n",
      "           1       1.00      1.00      1.00       853\n",
      "\n",
      "    accuracy                           1.00      2559\n",
      "   macro avg       1.00      1.00      1.00      2559\n",
      "weighted avg       1.00      1.00      1.00      2559\n",
      "\n",
      "==================================\n",
      "Results obtained for the TEST SET\n",
      "The Cohen's Kappa is: 0.06\n",
      "              precision    recall  f1-score   support\n",
      "\n",
      "          -1       0.47      0.51      0.49       366\n",
      "           0       0.21      0.20      0.21       106\n",
      "           1       0.46      0.43      0.45       368\n",
      "\n",
      "    accuracy                           0.44       840\n",
      "   macro avg       0.38      0.38      0.38       840\n",
      "weighted avg       0.43      0.44      0.43       840\n",
      "\n"
     ]
    }
   ],
   "source": [
    "model_performance_class(y_sm, y_train_res_pred_rf, y_test, y_test_pred_rf)"
   ]
  }
 ],
 "metadata": {
  "kernelspec": {
   "display_name": "Python 3 (ipykernel)",
   "language": "python",
   "name": "python3"
  },
  "language_info": {
   "codemirror_mode": {
    "name": "ipython",
    "version": 3
   },
   "file_extension": ".py",
   "mimetype": "text/x-python",
   "name": "python",
   "nbconvert_exporter": "python",
   "pygments_lexer": "ipython3",
   "version": "3.9.12"
  }
 },
 "nbformat": 4,
 "nbformat_minor": 5
}
