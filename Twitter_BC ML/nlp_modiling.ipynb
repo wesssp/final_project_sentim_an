{
 "cells": [
  {
   "cell_type": "code",
   "execution_count": 1,
   "id": "50d234a3",
   "metadata": {},
   "outputs": [
    {
     "name": "stderr",
     "output_type": "stream",
     "text": [
      "[nltk_data] Downloading package stopwords to\n",
      "[nltk_data]     /Users/kirilltiufanov/nltk_data...\n",
      "[nltk_data]   Package stopwords is already up-to-date!\n"
     ]
    }
   ],
   "source": [
    "import numpy as np\n",
    "import pandas as pd\n",
    "import matplotlib.pyplot as plt\n",
    "import seaborn as sns\n",
    "import nltk\n",
    "nltk.download('stopwords')\n",
    "import re\n",
    "from imblearn.under_sampling import RandomUnderSampler\n",
    "from sklearn.model_selection import train_test_split"
   ]
  },
  {
   "cell_type": "code",
   "execution_count": 2,
   "id": "3dee0171",
   "metadata": {},
   "outputs": [],
   "source": [
    "all_data = pd.read_csv(\"data/all_data_m.csv\")"
   ]
  },
  {
   "cell_type": "code",
   "execution_count": 3,
   "id": "7ed03141",
   "metadata": {},
   "outputs": [
    {
     "data": {
      "text/plain": [
       "time                                                      2021-01-02\n",
       "time.1                                                             6\n",
       "tweetl_t           If 2020 taught us anything, it's allocate 1-5%...\n",
       "mentions_t                                                        []\n",
       "replies_count_t                                                 16.0\n",
       "                                         ...                        \n",
       "open                                                        0.007216\n",
       "high                                                        0.007349\n",
       "low                                                         0.006674\n",
       "tv                                                                -5\n",
       "Volume                                                    60681934.0\n",
       "Name: 5, Length: 417, dtype: object"
      ]
     },
     "execution_count": 3,
     "metadata": {},
     "output_type": "execute_result"
    }
   ],
   "source": [
    "all_data.iloc[5]"
   ]
  },
  {
   "cell_type": "code",
   "execution_count": 4,
   "id": "068d7b54",
   "metadata": {},
   "outputs": [
    {
     "data": {
      "text/plain": [
       " 0    376\n",
       " 5    375\n",
       "-5    330\n",
       "-2    302\n",
       " 2    291\n",
       " 1    283\n",
       "-1    264\n",
       "-3    212\n",
       " 3    150\n",
       " 4    112\n",
       "-4    103\n",
       "Name: tv, dtype: int64"
      ]
     },
     "execution_count": 4,
     "metadata": {},
     "output_type": "execute_result"
    }
   ],
   "source": [
    "all_data[\"tv\"].value_counts()"
   ]
  },
  {
   "cell_type": "code",
   "execution_count": 5,
   "id": "a22da198",
   "metadata": {},
   "outputs": [],
   "source": [
    "all_data_num = all_data.drop([\"tweetl_t\", \"tweetl_l\", \"mentions_t\", \"mentions_l\"], axis=1)"
   ]
  },
  {
   "cell_type": "code",
   "execution_count": 6,
   "id": "bdee9934",
   "metadata": {},
   "outputs": [
    {
     "data": {
      "text/html": [
       "<div>\n",
       "<style scoped>\n",
       "    .dataframe tbody tr th:only-of-type {\n",
       "        vertical-align: middle;\n",
       "    }\n",
       "\n",
       "    .dataframe tbody tr th {\n",
       "        vertical-align: top;\n",
       "    }\n",
       "\n",
       "    .dataframe thead th {\n",
       "        text-align: right;\n",
       "    }\n",
       "</style>\n",
       "<table border=\"1\" class=\"dataframe\">\n",
       "  <thead>\n",
       "    <tr style=\"text-align: right;\">\n",
       "      <th></th>\n",
       "      <th>time</th>\n",
       "      <th>time.1</th>\n",
       "      <th>replies_count_t</th>\n",
       "      <th>retweets_count_t</th>\n",
       "      <th>top_tw_t</th>\n",
       "      <th>likes_count_t</th>\n",
       "      <th>dogecoin_t</th>\n",
       "      <th>dogearmy_t</th>\n",
       "      <th>elonmusk_t</th>\n",
       "      <th>buy_t</th>\n",
       "      <th>...</th>\n",
       "      <th>ladybug_l</th>\n",
       "      <th>already_l</th>\n",
       "      <th>gt_l</th>\n",
       "      <th>subj_l</th>\n",
       "      <th>polar_l</th>\n",
       "      <th>open</th>\n",
       "      <th>high</th>\n",
       "      <th>low</th>\n",
       "      <th>tv</th>\n",
       "      <th>Volume</th>\n",
       "    </tr>\n",
       "  </thead>\n",
       "  <tbody>\n",
       "    <tr>\n",
       "      <th>0</th>\n",
       "      <td>2021-01-02</td>\n",
       "      <td>1</td>\n",
       "      <td>0.0</td>\n",
       "      <td>0.0</td>\n",
       "      <td>0.0</td>\n",
       "      <td>0.0</td>\n",
       "      <td>0.0</td>\n",
       "      <td>0.0</td>\n",
       "      <td>0.0</td>\n",
       "      <td>0.0</td>\n",
       "      <td>...</td>\n",
       "      <td>0</td>\n",
       "      <td>0</td>\n",
       "      <td>0</td>\n",
       "      <td>0.211310</td>\n",
       "      <td>-0.022321</td>\n",
       "      <td>0.005818</td>\n",
       "      <td>0.005854</td>\n",
       "      <td>0.005564</td>\n",
       "      <td>-3</td>\n",
       "      <td>11123815.0</td>\n",
       "    </tr>\n",
       "    <tr>\n",
       "      <th>1</th>\n",
       "      <td>2021-01-02</td>\n",
       "      <td>2</td>\n",
       "      <td>0.0</td>\n",
       "      <td>0.0</td>\n",
       "      <td>0.0</td>\n",
       "      <td>0.0</td>\n",
       "      <td>0.0</td>\n",
       "      <td>0.0</td>\n",
       "      <td>0.0</td>\n",
       "      <td>0.0</td>\n",
       "      <td>...</td>\n",
       "      <td>0</td>\n",
       "      <td>1</td>\n",
       "      <td>0</td>\n",
       "      <td>0.275884</td>\n",
       "      <td>0.159802</td>\n",
       "      <td>0.005754</td>\n",
       "      <td>0.006431</td>\n",
       "      <td>0.005701</td>\n",
       "      <td>5</td>\n",
       "      <td>32955177.0</td>\n",
       "    </tr>\n",
       "    <tr>\n",
       "      <th>2</th>\n",
       "      <td>2021-01-02</td>\n",
       "      <td>3</td>\n",
       "      <td>0.0</td>\n",
       "      <td>0.0</td>\n",
       "      <td>0.0</td>\n",
       "      <td>0.0</td>\n",
       "      <td>0.0</td>\n",
       "      <td>0.0</td>\n",
       "      <td>0.0</td>\n",
       "      <td>0.0</td>\n",
       "      <td>...</td>\n",
       "      <td>0</td>\n",
       "      <td>0</td>\n",
       "      <td>0</td>\n",
       "      <td>0.270291</td>\n",
       "      <td>0.081823</td>\n",
       "      <td>0.006353</td>\n",
       "      <td>0.006791</td>\n",
       "      <td>0.006066</td>\n",
       "      <td>5</td>\n",
       "      <td>108807546.0</td>\n",
       "    </tr>\n",
       "    <tr>\n",
       "      <th>3</th>\n",
       "      <td>2021-01-02</td>\n",
       "      <td>4</td>\n",
       "      <td>0.0</td>\n",
       "      <td>0.0</td>\n",
       "      <td>0.0</td>\n",
       "      <td>0.0</td>\n",
       "      <td>0.0</td>\n",
       "      <td>0.0</td>\n",
       "      <td>0.0</td>\n",
       "      <td>0.0</td>\n",
       "      <td>...</td>\n",
       "      <td>0</td>\n",
       "      <td>0</td>\n",
       "      <td>0</td>\n",
       "      <td>0.194629</td>\n",
       "      <td>0.081690</td>\n",
       "      <td>0.006670</td>\n",
       "      <td>0.007981</td>\n",
       "      <td>0.006654</td>\n",
       "      <td>5</td>\n",
       "      <td>166272032.0</td>\n",
       "    </tr>\n",
       "    <tr>\n",
       "      <th>4</th>\n",
       "      <td>2021-01-02</td>\n",
       "      <td>5</td>\n",
       "      <td>0.0</td>\n",
       "      <td>0.0</td>\n",
       "      <td>0.0</td>\n",
       "      <td>0.0</td>\n",
       "      <td>0.0</td>\n",
       "      <td>0.0</td>\n",
       "      <td>0.0</td>\n",
       "      <td>0.0</td>\n",
       "      <td>...</td>\n",
       "      <td>0</td>\n",
       "      <td>1</td>\n",
       "      <td>1</td>\n",
       "      <td>0.312392</td>\n",
       "      <td>0.148775</td>\n",
       "      <td>0.007756</td>\n",
       "      <td>0.007776</td>\n",
       "      <td>0.006965</td>\n",
       "      <td>-5</td>\n",
       "      <td>90792179.0</td>\n",
       "    </tr>\n",
       "    <tr>\n",
       "      <th>...</th>\n",
       "      <td>...</td>\n",
       "      <td>...</td>\n",
       "      <td>...</td>\n",
       "      <td>...</td>\n",
       "      <td>...</td>\n",
       "      <td>...</td>\n",
       "      <td>...</td>\n",
       "      <td>...</td>\n",
       "      <td>...</td>\n",
       "      <td>...</td>\n",
       "      <td>...</td>\n",
       "      <td>...</td>\n",
       "      <td>...</td>\n",
       "      <td>...</td>\n",
       "      <td>...</td>\n",
       "      <td>...</td>\n",
       "      <td>...</td>\n",
       "      <td>...</td>\n",
       "      <td>...</td>\n",
       "      <td>...</td>\n",
       "      <td>...</td>\n",
       "    </tr>\n",
       "    <tr>\n",
       "      <th>2793</th>\n",
       "      <td>2021-04-28</td>\n",
       "      <td>20</td>\n",
       "      <td>2251.0</td>\n",
       "      <td>2496.0</td>\n",
       "      <td>8.0</td>\n",
       "      <td>2778.0</td>\n",
       "      <td>3.0</td>\n",
       "      <td>2.0</td>\n",
       "      <td>0.0</td>\n",
       "      <td>0.0</td>\n",
       "      <td>...</td>\n",
       "      <td>0</td>\n",
       "      <td>4</td>\n",
       "      <td>2</td>\n",
       "      <td>0.351290</td>\n",
       "      <td>0.128267</td>\n",
       "      <td>0.310310</td>\n",
       "      <td>0.310760</td>\n",
       "      <td>0.301330</td>\n",
       "      <td>-3</td>\n",
       "      <td>19680380.6</td>\n",
       "    </tr>\n",
       "    <tr>\n",
       "      <th>2794</th>\n",
       "      <td>2021-04-28</td>\n",
       "      <td>21</td>\n",
       "      <td>745.0</td>\n",
       "      <td>916.0</td>\n",
       "      <td>6.0</td>\n",
       "      <td>1263.0</td>\n",
       "      <td>1.0</td>\n",
       "      <td>1.0</td>\n",
       "      <td>2.0</td>\n",
       "      <td>0.0</td>\n",
       "      <td>...</td>\n",
       "      <td>2</td>\n",
       "      <td>0</td>\n",
       "      <td>4</td>\n",
       "      <td>0.297367</td>\n",
       "      <td>0.109041</td>\n",
       "      <td>0.306520</td>\n",
       "      <td>0.315320</td>\n",
       "      <td>0.304800</td>\n",
       "      <td>3</td>\n",
       "      <td>20889588.2</td>\n",
       "    </tr>\n",
       "    <tr>\n",
       "      <th>2795</th>\n",
       "      <td>2021-04-28</td>\n",
       "      <td>22</td>\n",
       "      <td>597.0</td>\n",
       "      <td>1780.0</td>\n",
       "      <td>12.0</td>\n",
       "      <td>6635.0</td>\n",
       "      <td>2.0</td>\n",
       "      <td>0.0</td>\n",
       "      <td>3.0</td>\n",
       "      <td>0.0</td>\n",
       "      <td>...</td>\n",
       "      <td>6</td>\n",
       "      <td>4</td>\n",
       "      <td>5</td>\n",
       "      <td>0.366854</td>\n",
       "      <td>0.123385</td>\n",
       "      <td>0.310590</td>\n",
       "      <td>0.326530</td>\n",
       "      <td>0.308500</td>\n",
       "      <td>5</td>\n",
       "      <td>32387298.2</td>\n",
       "    </tr>\n",
       "    <tr>\n",
       "      <th>2796</th>\n",
       "      <td>2021-04-28</td>\n",
       "      <td>23</td>\n",
       "      <td>365.0</td>\n",
       "      <td>2242.0</td>\n",
       "      <td>13.0</td>\n",
       "      <td>11403.0</td>\n",
       "      <td>4.0</td>\n",
       "      <td>2.0</td>\n",
       "      <td>2.0</td>\n",
       "      <td>0.0</td>\n",
       "      <td>...</td>\n",
       "      <td>2</td>\n",
       "      <td>3</td>\n",
       "      <td>6</td>\n",
       "      <td>0.357807</td>\n",
       "      <td>0.165924</td>\n",
       "      <td>0.321110</td>\n",
       "      <td>0.326890</td>\n",
       "      <td>0.316570</td>\n",
       "      <td>2</td>\n",
       "      <td>33777982.1</td>\n",
       "    </tr>\n",
       "    <tr>\n",
       "      <th>2797</th>\n",
       "      <td>2021-04-29</td>\n",
       "      <td>0</td>\n",
       "      <td>261.0</td>\n",
       "      <td>1709.0</td>\n",
       "      <td>12.0</td>\n",
       "      <td>4355.0</td>\n",
       "      <td>3.0</td>\n",
       "      <td>0.0</td>\n",
       "      <td>1.0</td>\n",
       "      <td>1.0</td>\n",
       "      <td>...</td>\n",
       "      <td>14</td>\n",
       "      <td>1</td>\n",
       "      <td>3</td>\n",
       "      <td>0.324578</td>\n",
       "      <td>0.111113</td>\n",
       "      <td>0.323320</td>\n",
       "      <td>0.323320</td>\n",
       "      <td>0.306930</td>\n",
       "      <td>-5</td>\n",
       "      <td>34687125.8</td>\n",
       "    </tr>\n",
       "  </tbody>\n",
       "</table>\n",
       "<p>2798 rows × 413 columns</p>\n",
       "</div>"
      ],
      "text/plain": [
       "            time  time.1  replies_count_t  retweets_count_t  top_tw_t  \\\n",
       "0     2021-01-02       1              0.0               0.0       0.0   \n",
       "1     2021-01-02       2              0.0               0.0       0.0   \n",
       "2     2021-01-02       3              0.0               0.0       0.0   \n",
       "3     2021-01-02       4              0.0               0.0       0.0   \n",
       "4     2021-01-02       5              0.0               0.0       0.0   \n",
       "...          ...     ...              ...               ...       ...   \n",
       "2793  2021-04-28      20           2251.0            2496.0       8.0   \n",
       "2794  2021-04-28      21            745.0             916.0       6.0   \n",
       "2795  2021-04-28      22            597.0            1780.0      12.0   \n",
       "2796  2021-04-28      23            365.0            2242.0      13.0   \n",
       "2797  2021-04-29       0            261.0            1709.0      12.0   \n",
       "\n",
       "      likes_count_t  dogecoin_t  dogearmy_t  elonmusk_t  buy_t  ...  \\\n",
       "0               0.0         0.0         0.0         0.0    0.0  ...   \n",
       "1               0.0         0.0         0.0         0.0    0.0  ...   \n",
       "2               0.0         0.0         0.0         0.0    0.0  ...   \n",
       "3               0.0         0.0         0.0         0.0    0.0  ...   \n",
       "4               0.0         0.0         0.0         0.0    0.0  ...   \n",
       "...             ...         ...         ...         ...    ...  ...   \n",
       "2793         2778.0         3.0         2.0         0.0    0.0  ...   \n",
       "2794         1263.0         1.0         1.0         2.0    0.0  ...   \n",
       "2795         6635.0         2.0         0.0         3.0    0.0  ...   \n",
       "2796        11403.0         4.0         2.0         2.0    0.0  ...   \n",
       "2797         4355.0         3.0         0.0         1.0    1.0  ...   \n",
       "\n",
       "      ladybug_l  already_l  gt_l    subj_l   polar_l      open      high  \\\n",
       "0             0          0     0  0.211310 -0.022321  0.005818  0.005854   \n",
       "1             0          1     0  0.275884  0.159802  0.005754  0.006431   \n",
       "2             0          0     0  0.270291  0.081823  0.006353  0.006791   \n",
       "3             0          0     0  0.194629  0.081690  0.006670  0.007981   \n",
       "4             0          1     1  0.312392  0.148775  0.007756  0.007776   \n",
       "...         ...        ...   ...       ...       ...       ...       ...   \n",
       "2793          0          4     2  0.351290  0.128267  0.310310  0.310760   \n",
       "2794          2          0     4  0.297367  0.109041  0.306520  0.315320   \n",
       "2795          6          4     5  0.366854  0.123385  0.310590  0.326530   \n",
       "2796          2          3     6  0.357807  0.165924  0.321110  0.326890   \n",
       "2797         14          1     3  0.324578  0.111113  0.323320  0.323320   \n",
       "\n",
       "           low  tv       Volume  \n",
       "0     0.005564  -3   11123815.0  \n",
       "1     0.005701   5   32955177.0  \n",
       "2     0.006066   5  108807546.0  \n",
       "3     0.006654   5  166272032.0  \n",
       "4     0.006965  -5   90792179.0  \n",
       "...        ...  ..          ...  \n",
       "2793  0.301330  -3   19680380.6  \n",
       "2794  0.304800   3   20889588.2  \n",
       "2795  0.308500   5   32387298.2  \n",
       "2796  0.316570   2   33777982.1  \n",
       "2797  0.306930  -5   34687125.8  \n",
       "\n",
       "[2798 rows x 413 columns]"
      ]
     },
     "execution_count": 6,
     "metadata": {},
     "output_type": "execute_result"
    }
   ],
   "source": [
    "all_data_num"
   ]
  },
  {
   "cell_type": "code",
   "execution_count": 7,
   "id": "e0af292c",
   "metadata": {},
   "outputs": [],
   "source": [
    "all_data_num = all_data_num.iloc[:,2:-1].apply(pd.to_numeric)"
   ]
  },
  {
   "cell_type": "code",
   "execution_count": 8,
   "id": "6eb531c6",
   "metadata": {},
   "outputs": [],
   "source": [
    "X = all_data_num.drop(columns='tv')\n",
    "y = all_data_num['tv']"
   ]
  },
  {
   "cell_type": "code",
   "execution_count": 9,
   "id": "3a5918b8",
   "metadata": {},
   "outputs": [],
   "source": [
    "X_train, X_test, y_train, y_test = train_test_split(X, y, test_size=0.30, random_state=42)\n",
    "\n",
    "X_train = pd.DataFrame(X_train, columns=X.columns)\n",
    "X_test  = pd.DataFrame(X_test, columns=X.columns)\n",
    "\n",
    "y_train = pd.DataFrame(y_train, columns =['tv'])\n",
    "y_test  = pd.DataFrame(y_test, columns =['tv'])"
   ]
  },
  {
   "cell_type": "code",
   "execution_count": 10,
   "id": "f41a7d37",
   "metadata": {},
   "outputs": [
    {
     "data": {
      "text/plain": [
       " 5    276\n",
       " 0    271\n",
       "-5    229\n",
       "-2    209\n",
       " 1    200\n",
       " 2    198\n",
       "-1    179\n",
       "-3    141\n",
       " 3    104\n",
       " 4     83\n",
       "-4     68\n",
       "Name: tv, dtype: int64"
      ]
     },
     "execution_count": 10,
     "metadata": {},
     "output_type": "execute_result"
    }
   ],
   "source": [
    "y_train[\"tv\"].value_counts()"
   ]
  },
  {
   "cell_type": "code",
   "execution_count": 11,
   "id": "093a75d5",
   "metadata": {},
   "outputs": [
    {
     "data": {
      "text/plain": [
       "<AxesSubplot:xlabel='tv', ylabel='count'>"
      ]
     },
     "execution_count": 11,
     "metadata": {},
     "output_type": "execute_result"
    },
    {
     "data": {
      "image/png": "[encoded data removed]",
      "text/plain": [
       "<Figure size 432x288 with 1 Axes>"
      ]
     },
     "metadata": {
      "needs_background": "light"
     },
     "output_type": "display_data"
    }
   ],
   "source": [
    "sns.countplot(x=y_train['tv'])"
   ]
  },
  {
   "cell_type": "code",
   "execution_count": 12,
   "id": "420dc3ae",
   "metadata": {},
   "outputs": [
    {
     "data": {
      "text/plain": [
       " 0    376\n",
       " 5    375\n",
       "-5    330\n",
       "-2    302\n",
       " 2    291\n",
       " 1    283\n",
       "-1    264\n",
       "-3    212\n",
       " 3    150\n",
       " 4    112\n",
       "-4    103\n",
       "Name: tv, dtype: int64"
      ]
     },
     "execution_count": 12,
     "metadata": {},
     "output_type": "execute_result"
    }
   ],
   "source": [
    "from imblearn.over_sampling import SMOTE\n",
    "smote = SMOTE()\n",
    "X_sm, y_sm = smote.fit_resample(X_train, y_train)\n",
    "y.value_counts()"
   ]
  },
  {
   "cell_type": "code",
   "execution_count": 13,
   "id": "3ef01727",
   "metadata": {},
   "outputs": [
    {
     "data": {
      "text/html": [
       "<style>#sk-container-id-1 {color: black;background-color: white;}#sk-container-id-1 pre{padding: 0;}#sk-container-id-1 div.sk-toggleable {background-color: white;}#sk-container-id-1 label.sk-toggleable__label {cursor: pointer;display: block;width: 100%;margin-bottom: 0;padding: 0.3em;box-sizing: border-box;text-align: center;}#sk-container-id-1 label.sk-toggleable__label-arrow:before {content: \"▸\";float: left;margin-right: 0.25em;color: #696969;}#sk-container-id-1 label.sk-toggleable__label-arrow:hover:before {color: black;}#sk-container-id-1 div.sk-estimator:hover label.sk-toggleable__label-arrow:before {color: black;}#sk-container-id-1 div.sk-toggleable__content {max-height: 0;max-width: 0;overflow: hidden;text-align: left;background-color: #f0f8ff;}#sk-container-id-1 div.sk-toggleable__content pre {margin: 0.2em;color: black;border-radius: 0.25em;background-color: #f0f8ff;}#sk-container-id-1 input.sk-toggleable__control:checked~div.sk-toggleable__content {max-height: 200px;max-width: 100%;overflow: auto;}#sk-container-id-1 input.sk-toggleable__control:checked~label.sk-toggleable__label-arrow:before {content: \"▾\";}#sk-container-id-1 div.sk-estimator input.sk-toggleable__control:checked~label.sk-toggleable__label {background-color: #d4ebff;}#sk-container-id-1 div.sk-label input.sk-toggleable__control:checked~label.sk-toggleable__label {background-color: #d4ebff;}#sk-container-id-1 input.sk-hidden--visually {border: 0;clip: rect(1px 1px 1px 1px);clip: rect(1px, 1px, 1px, 1px);height: 1px;margin: -1px;overflow: hidden;padding: 0;position: absolute;width: 1px;}#sk-container-id-1 div.sk-estimator {font-family: monospace;background-color: #f0f8ff;border: 1px dotted black;border-radius: 0.25em;box-sizing: border-box;margin-bottom: 0.5em;}#sk-container-id-1 div.sk-estimator:hover {background-color: #d4ebff;}#sk-container-id-1 div.sk-parallel-item::after {content: \"\";width: 100%;border-bottom: 1px solid gray;flex-grow: 1;}#sk-container-id-1 div.sk-label:hover label.sk-toggleable__label {background-color: #d4ebff;}#sk-container-id-1 div.sk-serial::before {content: \"\";position: absolute;border-left: 1px solid gray;box-sizing: border-box;top: 0;bottom: 0;left: 50%;z-index: 0;}#sk-container-id-1 div.sk-serial {display: flex;flex-direction: column;align-items: center;background-color: white;padding-right: 0.2em;padding-left: 0.2em;position: relative;}#sk-container-id-1 div.sk-item {position: relative;z-index: 1;}#sk-container-id-1 div.sk-parallel {display: flex;align-items: stretch;justify-content: center;background-color: white;position: relative;}#sk-container-id-1 div.sk-item::before, #sk-container-id-1 div.sk-parallel-item::before {content: \"\";position: absolute;border-left: 1px solid gray;box-sizing: border-box;top: 0;bottom: 0;left: 50%;z-index: -1;}#sk-container-id-1 div.sk-parallel-item {display: flex;flex-direction: column;z-index: 1;position: relative;background-color: white;}#sk-container-id-1 div.sk-parallel-item:first-child::after {align-self: flex-end;width: 50%;}#sk-container-id-1 div.sk-parallel-item:last-child::after {align-self: flex-start;width: 50%;}#sk-container-id-1 div.sk-parallel-item:only-child::after {width: 0;}#sk-container-id-1 div.sk-dashed-wrapped {border: 1px dashed gray;margin: 0 0.4em 0.5em 0.4em;box-sizing: border-box;padding-bottom: 0.4em;background-color: white;}#sk-container-id-1 div.sk-label label {font-family: monospace;font-weight: bold;display: inline-block;line-height: 1.2em;}#sk-container-id-1 div.sk-label-container {text-align: center;}#sk-container-id-1 div.sk-container {/* jupyter's `normalize.less` sets `[hidden] { display: none; }` but bootstrap.min.css set `[hidden] { display: none !important; }` so we also need the `!important` here to be able to override the default hidden behavior on the sphinx rendered scikit-learn.org. See: https://github.com/scikit-learn/scikit-learn/issues/21755 */display: inline-block !important;position: relative;}#sk-container-id-1 div.sk-text-repr-fallback {display: none;}</style><div id=\"sk-container-id-1\" class=\"sk-top-container\"><div class=\"sk-text-repr-fallback\"><pre>RandomForestClassifier()</pre><b>In a Jupyter environment, please rerun this cell to show the HTML representation or trust the notebook. <br />On GitHub, the HTML representation is unable to render, please try loading this page with nbviewer.org.</b></div><div class=\"sk-container\" hidden><div class=\"sk-item\"><div class=\"sk-estimator sk-toggleable\"><input class=\"sk-toggleable__control sk-hidden--visually\" id=\"sk-estimator-id-1\" type=\"checkbox\" checked><label for=\"sk-estimator-id-1\" class=\"sk-toggleable__label sk-toggleable__label-arrow\">RandomForestClassifier</label><div class=\"sk-toggleable__content\"><pre>RandomForestClassifier()</pre></div></div></div></div></div>"
      ],
      "text/plain": [
       "RandomForestClassifier()"
      ]
     },
     "execution_count": 13,
     "metadata": {},
     "output_type": "execute_result"
    }
   ],
   "source": [
    "from sklearn.ensemble import RandomForestClassifier\n",
    "from sklearn.naive_bayes import CategoricalNB\n",
    "nb = CategoricalNB()\n",
    "rf = RandomForestClassifier()\n",
    "\n",
    "nb.fit(X_sm, y_sm['tv'])\n",
    "rf.fit(X_sm, y_sm['tv'])"
   ]
  },
  {
   "cell_type": "code",
   "execution_count": 14,
   "id": "8e0553df",
   "metadata": {},
   "outputs": [],
   "source": [
    "y_train_res_pred_rf = rf.predict(X_sm)\n",
    "y_test_pred_rf      = rf.predict(X_test)"
   ]
  },
  {
   "cell_type": "code",
   "execution_count": 15,
   "id": "e308b567",
   "metadata": {},
   "outputs": [],
   "source": [
    "def model_performance_class(y_train, y_pred_train, y_test, y_pred_test):\n",
    "\n",
    "    from sklearn.metrics import cohen_kappa_score, classification_report \n",
    "\n",
    "\n",
    "    print(\"Results obtained for the TRAIN SET\")\n",
    "    print(\"==================================\")\n",
    "    print(\"The Cohen's Kappa is: {:.2f}\".format(cohen_kappa_score(y_train, y_pred_train)))\n",
    "    print(classification_report(y_train, y_pred_train))\n",
    "    print(\"==================================\")\n",
    "    print(\"Results obtained for the TEST SET\")\n",
    "    print(\"The Cohen's Kappa is: {:.2f}\".format(cohen_kappa_score(y_test, y_pred_test)))\n",
    "    print(classification_report(y_test, y_pred_test))\n"
   ]
  },
  {
   "cell_type": "code",
   "execution_count": 16,
   "id": "16a4a258",
   "metadata": {},
   "outputs": [
    {
     "name": "stdout",
     "output_type": "stream",
     "text": [
      "Results obtained for the TRAIN SET\n",
      "==================================\n",
      "The Cohen's Kappa is: 1.00\n",
      "              precision    recall  f1-score   support\n",
      "\n",
      "          -5       1.00      1.00      1.00       276\n",
      "          -4       1.00      1.00      1.00       276\n",
      "          -3       1.00      1.00      1.00       276\n",
      "          -2       1.00      1.00      1.00       276\n",
      "          -1       1.00      1.00      1.00       276\n",
      "           0       1.00      1.00      1.00       276\n",
      "           1       1.00      1.00      1.00       276\n",
      "           2       1.00      1.00      1.00       276\n",
      "           3       1.00      1.00      1.00       276\n",
      "           4       1.00      1.00      1.00       276\n",
      "           5       1.00      1.00      1.00       276\n",
      "\n",
      "    accuracy                           1.00      3036\n",
      "   macro avg       1.00      1.00      1.00      3036\n",
      "weighted avg       1.00      1.00      1.00      3036\n",
      "\n",
      "==================================\n",
      "Results obtained for the TEST SET\n",
      "The Cohen's Kappa is: 0.04\n",
      "              precision    recall  f1-score   support\n",
      "\n",
      "          -5       0.19      0.26      0.22       101\n",
      "          -4       0.00      0.00      0.00        35\n",
      "          -3       0.06      0.04      0.05        71\n",
      "          -2       0.06      0.08      0.07        93\n",
      "          -1       0.15      0.15      0.15        85\n",
      "           0       0.19      0.27      0.22       105\n",
      "           1       0.14      0.16      0.15        83\n",
      "           2       0.08      0.04      0.06        93\n",
      "           3       0.05      0.02      0.03        46\n",
      "           4       0.00      0.00      0.00        29\n",
      "           5       0.22      0.24      0.23        99\n",
      "\n",
      "    accuracy                           0.14       840\n",
      "   macro avg       0.10      0.11      0.11       840\n",
      "weighted avg       0.12      0.14      0.13       840\n",
      "\n"
     ]
    }
   ],
   "source": [
    "model_performance_class(y_sm, y_train_res_pred_rf, y_test, y_test_pred_rf)"
   ]
  }
 ],
 "metadata": {
  "kernelspec": {
   "display_name": "Python 3 (ipykernel)",
   "language": "python",
   "name": "python3"
  },
  "language_info": {
   "codemirror_mode": {
    "name": "ipython",
    "version": 3
   },
   "file_extension": ".py",
   "mimetype": "text/x-python",
   "name": "python",
   "nbconvert_exporter": "python",
   "pygments_lexer": "ipython3",
   "version": "3.9.12"
  }
 },
 "nbformat": 4,
 "nbformat_minor": 5
}
