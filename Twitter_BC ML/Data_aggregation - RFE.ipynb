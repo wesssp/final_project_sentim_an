{
 "cells": [
  {
   "cell_type": "code",
   "execution_count": null,
   "id": "b0188911",
   "metadata": {},
   "outputs": [],
   "source": [
    "#! pip install -U textblob\n",
    "#! python -m textblob.download_corpora"
   ]
  },
  {
   "cell_type": "code",
   "execution_count": null,
   "id": "037ed13c",
   "metadata": {},
   "outputs": [],
   "source": [
    "import pandas as pd\n",
    "import re \n",
    "import seaborn as sns\n",
    "import numpy as np\n",
    "from textblob import TextBlob"
   ]
  },
  {
   "cell_type": "code",
   "execution_count": null,
   "id": "f13a8cd4",
   "metadata": {},
   "outputs": [],
   "source": [
    "tw_clean = pd.read_csv(\"tw_data_short.csv\")\n",
    "tw_clean.info()"
   ]
  },
  {
   "cell_type": "code",
   "execution_count": null,
   "id": "db3c1a19",
   "metadata": {},
   "outputs": [],
   "source": [
    "tw_tokens = pd.read_csv(\"tweets_token.csv\")\n",
    "tw_tokens.info()"
   ]
  },
  {
   "cell_type": "code",
   "execution_count": null,
   "id": "d6834561",
   "metadata": {},
   "outputs": [],
   "source": [
    "all_data_token = tw_clean.join(tw_tokens, how='left', lsuffix='l', rsuffix='r', sort=False )\n",
    "all_data_token[\"date\"] = pd.to_datetime(all_data_token[\"date\"])\n",
    "all_data_token[\"timel\"] = pd.to_datetime(all_data_token[\"timel\"], format= '%H:%M:%S' ).dt.time\n",
    "all_data_token[\"date_final\"] = pd.to_datetime(all_data_token[\"date_final\"])\n",
    "all_data_token.rename(columns={\"date_final\": \"time\"}, inplace=True)\n",
    "all_data_token"
   ]
  },
  {
   "cell_type": "code",
   "execution_count": 6,
   "id": "54d5eee0",
   "metadata": {},
   "outputs": [],
   "source": [
    "subj = []\n",
    "polar = []\n",
    "for i in range(0, len(all_data_token[\"tweetl\"])):\n",
    "    testimonial = TextBlob(all_data_token[\"tweetl\"][i])\n",
    "    subj.append(testimonial.sentiment.subjectivity)\n",
    "    polar.append(testimonial.sentiment.polarity)\n",
    "all_data_token[\"subj\"] = subj\n",
    "all_data_token[\"polar\"] = polar"
   ]
  },
  {
   "cell_type": "code",
   "execution_count": null,
   "id": "27b79199",
   "metadata": {},
   "outputs": [],
   "source": [
    "import matplotlib.pyplot as plt\n",
    "plt.figure(figsize=(10,6))\n",
    "sns.scatterplot(x='polar', y='subj', hue=\"tweetl\", data=all_data_token)\n",
    "plt.xlabel('Polarity', fontsize=13)\n",
    "plt.ylabel('Subjectivity', fontsize=13)\n",
    "plt.title('Polarity vs Subjectivity', fontsize=15)\n",
    "plt.show();"
   ]
  },
  {
   "cell_type": "code",
   "execution_count": null,
   "id": "299c0ddd",
   "metadata": {},
   "outputs": [],
   "source": []
  },
  {
   "cell_type": "code",
   "execution_count": null,
   "id": "87f51837",
   "metadata": {},
   "outputs": [],
   "source": [
    "all_data_token.subj.plot( kind = \"hist\")"
   ]
  },
  {
   "cell_type": "code",
   "execution_count": null,
   "id": "64821f01",
   "metadata": {},
   "outputs": [],
   "source": [
    "all_data_token.polar.plot( kind = \"hist\")"
   ]
  },
  {
   "cell_type": "code",
   "execution_count": null,
   "id": "46b7fe8a",
   "metadata": {},
   "outputs": [],
   "source": [
    "all_data_token.drop(labels = [\"hashtags\", \"Unnamed: 0\"], axis=1, inplace=True)"
   ]
  },
  {
   "cell_type": "code",
   "execution_count": null,
   "id": "0e8df887",
   "metadata": {},
   "outputs": [],
   "source": [
    "#Adding col with 0 1 values, wich mean more or less 100 likes\n",
    "all_data_token.insert(7,'top_tw', '')\n",
    "all_data_token['top_tw'] = pd.DataFrame(np.where(all_data_token['likes_count']>100, '1', '0'))\n",
    "all_data_token['top_tw'].value_counts()"
   ]
  },
  {
   "cell_type": "code",
   "execution_count": null,
   "id": "228305f8",
   "metadata": {},
   "outputs": [],
   "source": [
    "all_data_token[\"top_tw\"] = all_data_token[\"top_tw\"].apply(pd.to_numeric)"
   ]
  },
  {
   "cell_type": "code",
   "execution_count": null,
   "id": "baa7e9e9",
   "metadata": {},
   "outputs": [],
   "source": [
    "all_data_token.head()"
   ]
  },
  {
   "cell_type": "code",
   "execution_count": null,
   "id": "29ad142f",
   "metadata": {},
   "outputs": [],
   "source": [
    "all_data_token.to_csv(\"data/all_data_pol_sub.csv\")"
   ]
  },
  {
   "cell_type": "code",
   "execution_count": null,
   "id": "463f7384",
   "metadata": {},
   "outputs": [],
   "source": [
    "#splitting to popular and unpopular tweets\n",
    "top_tw = all_data_token[all_data_token['top_tw'] == 1]\n",
    "low_tw = all_data_token[all_data_token['top_tw'] == 0]\n",
    "top_tw.head()"
   ]
  },
  {
   "cell_type": "code",
   "execution_count": null,
   "id": "6a102af5",
   "metadata": {},
   "outputs": [],
   "source": [
    "all_data_token.columns"
   ]
  },
  {
   "cell_type": "code",
   "execution_count": null,
   "id": "27d22415",
   "metadata": {},
   "outputs": [],
   "source": [
    "cols_to_mean = ['subj', 'polar']\n",
    "dict_cols = {i : \"sum\" if i not in cols_to_mean else \"mean\" for i in all_data_token.columns[3: 405]}\n",
    "dict_cols"
   ]
  },
  {
   "cell_type": "code",
   "execution_count": null,
   "id": "1cd14797",
   "metadata": {},
   "outputs": [],
   "source": [
    "#grouping by date and hour\n",
    "top_tw_agg = top_tw.groupby([top_tw['time'].dt.date, top_tw['time'].dt.hour]).agg(dict_cols)\n",
    "low_tw_agg = low_tw.groupby([low_tw['time'].dt.date, low_tw['time'].dt.hour]).agg(dict_cols)"
   ]
  },
  {
   "cell_type": "code",
   "execution_count": null,
   "id": "af1d70fa",
   "metadata": {},
   "outputs": [],
   "source": [
    "top_tw_agg"
   ]
  },
  {
   "cell_type": "code",
   "execution_count": null,
   "id": "23254be1",
   "metadata": {},
   "outputs": [],
   "source": [
    "data_prices = pd.read_csv(\"data/dataprices01.csv\")"
   ]
  },
  {
   "cell_type": "code",
   "execution_count": null,
   "id": "1d165251",
   "metadata": {},
   "outputs": [],
   "source": [
    "data_prices.info()"
   ]
  },
  {
   "cell_type": "code",
   "execution_count": null,
   "id": "1713aeaa",
   "metadata": {},
   "outputs": [],
   "source": [
    "data_prices['time'] = pd.to_datetime(data_prices['time'], utc=True)\n",
    "data_prices['time'] = pd.to_datetime(data_prices['time']).dt.tz_convert('Us/Mountain')\n",
    "data_prices.info()"
   ]
  },
  {
   "cell_type": "code",
   "execution_count": null,
   "id": "5854e669",
   "metadata": {},
   "outputs": [],
   "source": [
    "data_prices = data_prices.loc[(data_prices[\"time\"] > \"2021-01-02 00:00:00\") & (data_prices[\"time\"] < \"2021-04-29 01:00:00\")]"
   ]
  },
  {
   "cell_type": "code",
   "execution_count": null,
   "id": "422198f0",
   "metadata": {},
   "outputs": [],
   "source": [
    "data_prices"
   ]
  },
  {
   "cell_type": "code",
   "execution_count": null,
   "id": "bc6edda9",
   "metadata": {},
   "outputs": [],
   "source": [
    "data_prices = data_prices.groupby([data_prices['time'].dt.date, data_prices['time'].dt.hour]).agg({\"open\": \"sum\", \"high\": \"sum\", \"low\": \"sum\", \"tv\": \"sum\", \"Volume\": \"sum\"})\n"
   ]
  },
  {
   "cell_type": "code",
   "execution_count": null,
   "id": "16b25581",
   "metadata": {},
   "outputs": [],
   "source": [
    "pd.DataFrame(data_prices)"
   ]
  },
  {
   "cell_type": "code",
   "execution_count": null,
   "id": "ec43db16",
   "metadata": {},
   "outputs": [],
   "source": [
    "data_prices.describe()"
   ]
  },
  {
   "cell_type": "code",
   "execution_count": null,
   "id": "4b6c18cb",
   "metadata": {},
   "outputs": [],
   "source": [
    "#merging data with pricess\n",
    "tokens_m = top_tw_agg.merge(low_tw_agg, how = \"outer\",suffixes=('_t', '_l'), left_index = True, right_index = True)\n"
   ]
  },
  {
   "cell_type": "code",
   "execution_count": null,
   "id": "847a6bb4",
   "metadata": {},
   "outputs": [],
   "source": [
    "tokens_m.head()"
   ]
  },
  {
   "cell_type": "code",
   "execution_count": null,
   "id": "be3039d0",
   "metadata": {},
   "outputs": [],
   "source": [
    "#merging data with pricess\n",
    "all_data_m = tokens_m.merge(data_prices, how = \"inner\", left_index = True, right_index = True)\n",
    "all_data_m.fillna(0, inplace=True)"
   ]
  },
  {
   "cell_type": "code",
   "execution_count": null,
   "id": "68bad9a2",
   "metadata": {},
   "outputs": [],
   "source": []
  },
  {
   "cell_type": "code",
   "execution_count": null,
   "id": "f0cd010f",
   "metadata": {},
   "outputs": [],
   "source": [
    "#all_data_m.to_csv(\"data/all_data_m.csv\")"
   ]
  },
  {
   "cell_type": "code",
   "execution_count": null,
   "id": "eff068a6",
   "metadata": {},
   "outputs": [],
   "source": [
    "all_data_m.tweetl_t[5]"
   ]
  }
 ],
 "metadata": {
  "kernelspec": {
   "display_name": "Python 3 (ipykernel)",
   "language": "python",
   "name": "python3"
  },
  "language_info": {
   "codemirror_mode": {
    "name": "ipython",
    "version": 3
   },
   "file_extension": ".py",
   "mimetype": "text/x-python",
   "name": "python",
   "nbconvert_exporter": "python",
   "pygments_lexer": "ipython3",
   "version": "3.9.12"
  }
 },
 "nbformat": 4,
 "nbformat_minor": 5
}
