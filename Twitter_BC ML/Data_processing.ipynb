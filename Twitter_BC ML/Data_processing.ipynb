{
 "cells": [
  {
   "cell_type": "code",
   "execution_count": 4,
   "id": "2c12935b",
   "metadata": {},
   "outputs": [
    {
     "name": "stderr",
     "output_type": "stream",
     "text": [
      "[nltk_data] Downloading package punkt to\n",
      "[nltk_data]     /Users/kirilltiufanov/nltk_data...\n",
      "[nltk_data]   Unzipping tokenizers/punkt.zip.\n",
      "[nltk_data] Downloading package stopwords to\n",
      "[nltk_data]     /Users/kirilltiufanov/nltk_data...\n",
      "[nltk_data]   Unzipping corpora/stopwords.zip.\n",
      "[nltk_data] Downloading package wordnet to\n",
      "[nltk_data]     /Users/kirilltiufanov/nltk_data...\n",
      "[nltk_data] Downloading package tagsets to\n",
      "[nltk_data]     /Users/kirilltiufanov/nltk_data...\n",
      "[nltk_data]   Unzipping help/tagsets.zip.\n"
     ]
    },
    {
     "data": {
      "text/plain": [
       "True"
      ]
     },
     "execution_count": 4,
     "metadata": {},
     "output_type": "execute_result"
    }
   ],
   "source": [
    "import pandas as pd\n",
    "import re\n",
    "import seaborn as sns\n",
    "import nltk\n",
    "nltk.download('punkt')\n",
    "nltk.download('stopwords')\n",
    "nltk.download('wordnet')\n",
    "nltk.download('tagsets')"
   ]
  },
  {
   "cell_type": "code",
   "execution_count": 2,
   "id": "6485fdc2",
   "metadata": {},
   "outputs": [
    {
     "name": "stdout",
     "output_type": "stream",
     "text": [
      "<class 'pandas.core.frame.DataFrame'>\n",
      "RangeIndex: 567526 entries, 0 to 567525\n",
      "Data columns (total 9 columns):\n",
      " #   Column          Non-Null Count   Dtype  \n",
      "---  ------          --------------   -----  \n",
      " 0   date            567526 non-null  object \n",
      " 1   time            567526 non-null  object \n",
      " 2   tweet           567526 non-null  object \n",
      " 3   language        567526 non-null  object \n",
      " 4   mentions        567526 non-null  object \n",
      " 5   replies_count   567526 non-null  float64\n",
      " 6   retweets_count  567526 non-null  float64\n",
      " 7   likes_count     567526 non-null  float64\n",
      " 8   hashtags        567526 non-null  object \n",
      "dtypes: float64(3), object(6)\n",
      "memory usage: 39.0+ MB\n"
     ]
    }
   ],
   "source": [
    "tw_clean = pd.read_csv(\"tw_data_short.csv\")\n",
    "tw_clean.info()"
   ]
  },
  {
   "cell_type": "code",
   "execution_count": 5,
   "id": "644f12b5",
   "metadata": {},
   "outputs": [],
   "source": [
    "reviews = ['']\n",
    "corpus=[]\n",
    "for review in tw_clean[\"tweet\"]:\n",
    "    reviews.append(review)\n",
    "    corpus.append(nltk.sent_tokenize(review))"
   ]
  },
  {
   "cell_type": "code",
   "execution_count": 6,
   "id": "1ece719c",
   "metadata": {},
   "outputs": [
    {
     "data": {
      "text/plain": [
       "1124861"
      ]
     },
     "execution_count": 6,
     "metadata": {},
     "output_type": "execute_result"
    }
   ],
   "source": [
    "corpus=[sent for sublist in corpus for sent in sublist]\n",
    "len(corpus)"
   ]
  },
  {
   "cell_type": "code",
   "execution_count": null,
   "id": "e799a0e0",
   "metadata": {},
   "outputs": [],
   "source": [
    "for i in range(len(corpus)):\n",
    "    corpus[i] = corpus[i].lower()\n",
    "    corpus[i] = re.sub(r'\\W+',' ',corpus[i]) # Replace everything non-alpahnumeric by ' '\n",
    "    corpus[i] = re.sub(r'\\s+',' ',corpus[i]) # Replace one or more whitespaces by  ' '\n",
    "    corpus[i] = re.sub(r'\\d+',' ',corpus[i]) # Replace one or more digits by  ' '\n",
    "    corpus[i] = re.sub(r'([a-z0-9+._-]+@[a-z0-9+._-]+\\.[a-z0-9+_-]+)',\" \", corpus[i]) # Replace e-mails by ' '\n",
    "    # Replace urls by ''\n",
    "    corpus[i] = re.sub(r'(http|https|ftp|ssh)://([\\w_-]+(?:(?:\\.[\\w_-]+)+))([\\w.,@?^=%&:/~+#-]*[\\w@?^=%&/~+#-])?', ' ' , corpus[i]) \n",
    "    # Replace html tags by ''\n",
    "    corpus[i] = BeautifulSoup(corpus[i], 'html.parser').get_text().strip()"
   ]
  }
 ],
 "metadata": {
  "kernelspec": {
   "display_name": "Python 3 (ipykernel)",
   "language": "python",
   "name": "python3"
  },
  "language_info": {
   "codemirror_mode": {
    "name": "ipython",
    "version": 3
   },
   "file_extension": ".py",
   "mimetype": "text/x-python",
   "name": "python",
   "nbconvert_exporter": "python",
   "pygments_lexer": "ipython3",
   "version": "3.9.12"
  }
 },
 "nbformat": 4,
 "nbformat_minor": 5
}
